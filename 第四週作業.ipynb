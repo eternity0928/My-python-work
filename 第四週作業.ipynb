{
 "cells": [
  {
   "cell_type": "code",
   "execution_count": 1,
   "metadata": {},
   "outputs": [],
   "source": [
    "%matplotlib inline\n",
    "import numpy as np\n",
    "import pandas as pd \n",
    "import matplotlib.pyplot as plt"
   ]
  },
  {
   "cell_type": "markdown",
   "metadata": {},
   "source": [
    "# (一) 隨機寫詩"
   ]
  },
  {
   "cell_type": "code",
   "execution_count": 2,
   "metadata": {},
   "outputs": [],
   "source": [
    "words = '''\n",
    "心\n",
    "疲憊\n",
    "壓力\n",
    "急躁\n",
    "辛苦\n",
    "匆忙\n",
    "努力\n",
    "知道\n",
    "可能\n",
    "以許\n",
    "不足\n",
    "熬夜\n",
    "催促\n",
    "睡眠不足\n",
    "讀書\n",
    "無聊\n",
    "花錢\n",
    "餘額\n",
    "困窘\n",
    "尷尬\n",
    "位置\n",
    "生活\n",
    "最近\n",
    "宿舍\n",
    "沒網路\n",
    "時光\n",
    "於是\n",
    "最後\n",
    "無法\n",
    "盲目\n",
    "麻煩\n",
    "孤單\n",
    "痠痛'''"
   ]
  },
  {
   "cell_type": "code",
   "execution_count": 3,
   "metadata": {},
   "outputs": [],
   "source": [
    "from numpy.random import choice"
   ]
  },
  {
   "cell_type": "code",
   "execution_count": 4,
   "metadata": {},
   "outputs": [],
   "source": [
    "from numpy.random import randint "
   ]
  },
  {
   "cell_type": "code",
   "execution_count": 5,
   "metadata": {},
   "outputs": [],
   "source": [
    "elements = words.split('\\n')"
   ]
  },
  {
   "cell_type": "code",
   "execution_count": 6,
   "metadata": {},
   "outputs": [
    {
     "name": "stdout",
     "output_type": "stream",
     "text": [
      "匆忙 孤單  無法 位置 可能\n",
      "生活 無聊 不足\n",
      "知道 花錢 最後\n"
     ]
    }
   ],
   "source": [
    "n = randint(2,6) #2~5句\n",
    "\n",
    "for i in range(n):\n",
    "    k = randint(3,7)\n",
    "    egg = choice(elements, k)\n",
    "    ham = ' '.join(egg)\n",
    "    print(ham)"
   ]
  },
  {
   "cell_type": "markdown",
   "metadata": {},
   "source": [
    "# (二) 中獎號碼"
   ]
  },
  {
   "cell_type": "code",
   "execution_count": 7,
   "metadata": {},
   "outputs": [
    {
     "name": "stdout",
     "output_type": "stream",
     "text": [
      "請輸入你的抽獎卷號碼>>  52\n",
      "銘謝惠顧,本次的中獎號碼為62\n"
     ]
    }
   ],
   "source": [
    "lucky = input(\"請輸入你的抽獎卷號碼>>  \")\n",
    "n = randint(1,100)\n",
    "lucky = float(lucky)\n",
    "if lucky == n :\n",
    "    print(\"恭喜中獎~\")\n",
    "else:\n",
    "    print(\"銘謝惠顧,本次的中獎號碼為{}\".format(n))"
   ]
  },
  {
   "cell_type": "markdown",
   "metadata": {},
   "source": [
    "# (三) 互動式匯率換算"
   ]
  },
  {
   "cell_type": "code",
   "execution_count": 8,
   "metadata": {},
   "outputs": [],
   "source": [
    "from ipywidgets import interact_manual "
   ]
  },
  {
   "cell_type": "code",
   "execution_count": 9,
   "metadata": {},
   "outputs": [
    {
     "data": {
      "application/vnd.jupyter.widget-view+json": {
       "model_id": "d69f0e4c0cd54517a556e594edfa461f",
       "version_major": 2,
       "version_minor": 0
      },
      "text/plain": [
       "interactive(children=(Text(value='', description='金額'), Text(value='', description='匯率'), Button(description='…"
      ]
     },
     "metadata": {},
     "output_type": "display_data"
    },
    {
     "data": {
      "text/plain": [
       "<function __main__.exchange(金額, 匯率)>"
      ]
     },
     "execution_count": 9,
     "metadata": {},
     "output_type": "execute_result"
    }
   ],
   "source": [
    "def exchange(金額, 匯率):\n",
    "    金額 = float(金額)\n",
    "    匯率 = float(匯率)\n",
    "    輸出 = 金額*匯率\n",
    "    print(\"{}元新台幣合美金{:.2f}元\".format(金額,輸出))\n",
    "interact_manual(exchange, 金額 = \"\", 匯率 = \"\")"
   ]
  },
  {
   "cell_type": "markdown",
   "metadata": {},
   "source": [
    "# (四) 描點法"
   ]
  },
  {
   "cell_type": "code",
   "execution_count": 10,
   "metadata": {},
   "outputs": [],
   "source": [
    "from numpy import sin"
   ]
  },
  {
   "cell_type": "code",
   "execution_count": 11,
   "metadata": {},
   "outputs": [
    {
     "data": {
      "text/plain": [
       "<matplotlib.collections.PathCollection at 0x189f5593a90>"
      ]
     },
     "execution_count": 11,
     "metadata": {},
     "output_type": "execute_result"
    },
    {
     "data": {
      "image/png": "[encoded data removed]",
      "text/plain": [
       "<Figure size 432x288 with 1 Axes>"
      ]
     },
     "metadata": {
      "needs_background": "light"
     },
     "output_type": "display_data"
    }
   ],
   "source": [
    "x =  np.linspace(1,100,100)\n",
    "a =  np.random.randn(100)\n",
    "y = sin(a)\n",
    "plt.scatter(x,y, c = \"b\")"
   ]
  },
  {
   "cell_type": "code",
   "execution_count": null,
   "metadata": {},
   "outputs": [],
   "source": []
  },
  {
   "cell_type": "code",
   "execution_count": null,
   "metadata": {},
   "outputs": [],
   "source": []
  },
  {
   "cell_type": "code",
   "execution_count": null,
   "metadata": {},
   "outputs": [],
   "source": []
  },
  {
   "cell_type": "code",
   "execution_count": null,
   "metadata": {},
   "outputs": [],
   "source": []
  },
  {
   "cell_type": "code",
   "execution_count": null,
   "metadata": {},
   "outputs": [],
   "source": []
  }
 ],
 "metadata": {
  "kernelspec": {
   "display_name": "Python 3",
   "language": "python",
   "name": "python3"
  },
  "language_info": {
   "codemirror_mode": {
    "name": "ipython",
    "version": 3
   },
   "file_extension": ".py",
   "mimetype": "text/x-python",
   "name": "python",
   "nbconvert_exporter": "python",
   "pygments_lexer": "ipython3",
   "version": "3.7.3"
  }
 },
 "nbformat": 4,
 "nbformat_minor": 2
}
