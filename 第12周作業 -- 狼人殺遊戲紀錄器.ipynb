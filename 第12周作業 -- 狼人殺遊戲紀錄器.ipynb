{
 "cells": [
  {
   "cell_type": "code",
   "execution_count": 1,
   "metadata": {},
   "outputs": [],
   "source": [
    "%matplotlib inline\n",
    "import numpy as np\n",
    "import pandas as pd\n",
    "import matplotlib.pyplot as plt"
   ]
  },
  {
   "cell_type": "markdown",
   "metadata": {},
   "source": [
    "# 簡介:\n",
    "#### 狼人殺是一種聚會的團康遊戲,遊戲人數通常在6~12人之間,其遊戲規則有很多種,大致上可視為團體對抗的益智遊戲\n",
    "#### 簡單來說,一開始由玩家抽籤決定角色,會讓玩家分為好人及壞人陣營\n",
    "#### 透過遊戲流程使壞人全部出局則好人獲勝;而在好人之中,若是平民或神職其中一類全部出局,則為壞人獲勝。"
   ]
  },
  {
   "cell_type": "markdown",
   "metadata": {},
   "source": [
    "#### 在狼人殺遊戲中需要一名主持人引導遊戲進行,而通常會用手機或紙筆紀錄遊戲過程,故想透過寫一個小程式的方式來幫忙記錄遊戲過程"
   ]
  },
  {
   "cell_type": "markdown",
   "metadata": {},
   "source": [
    "## 製作雛形"
   ]
  },
  {
   "cell_type": "code",
   "execution_count": 2,
   "metadata": {},
   "outputs": [],
   "source": [
    "role = [\"平民\",\"狼\",\"預言家\"]"
   ]
  },
  {
   "cell_type": "code",
   "execution_count": 3,
   "metadata": {},
   "outputs": [
    {
     "name": "stdout",
     "output_type": "stream",
     "text": [
      "今晚要殺誰? >>平民\n"
     ]
    }
   ],
   "source": [
    "ham = input(\"今晚要殺誰? >>\")"
   ]
  },
  {
   "cell_type": "code",
   "execution_count": 4,
   "metadata": {},
   "outputs": [
    {
     "name": "stdout",
     "output_type": "stream",
     "text": [
      "平民\n"
     ]
    }
   ],
   "source": [
    "print(ham)"
   ]
  },
  {
   "cell_type": "code",
   "execution_count": 5,
   "metadata": {},
   "outputs": [],
   "source": [
    "def night():\n",
    "    ham = input(\"今晚要殺誰? >>\")\n",
    "    print(\" ʕ•̀ω•́ʔ : 昨天晚上{}死了\".format(ham) )"
   ]
  },
  {
   "cell_type": "code",
   "execution_count": 6,
   "metadata": {},
   "outputs": [
    {
     "name": "stdout",
     "output_type": "stream",
     "text": [
      "今晚要殺誰? >>平民\n",
      " ʕ•̀ω•́ʔ : 昨天晚上平民死了\n"
     ]
    }
   ],
   "source": [
    "night()"
   ]
  },
  {
   "cell_type": "markdown",
   "metadata": {},
   "source": [
    "# (一)加入interact的功能"
   ]
  },
  {
   "cell_type": "code",
   "execution_count": 7,
   "metadata": {},
   "outputs": [],
   "source": [
    "from ipywidgets import interact"
   ]
  },
  {
   "cell_type": "code",
   "execution_count": 10,
   "metadata": {},
   "outputs": [],
   "source": [
    "from ipywidgets import interact_manual"
   ]
  },
  {
   "cell_type": "code",
   "execution_count": 11,
   "metadata": {},
   "outputs": [
    {
     "data": {
      "application/vnd.jupyter.widget-view+json": {
       "model_id": "b1d19573802d44a197e5848d5e1941ab",
       "version_major": 2,
       "version_minor": 0
      },
      "text/plain": [
       "interactive(children=(Dropdown(description='x', options=('平民', '狼', '預言家'), value='平民'), Button(description='R…"
      ]
     },
     "metadata": {},
     "output_type": "display_data"
    },
    {
     "data": {
      "text/plain": [
       "<function __main__.f(x)>"
      ]
     },
     "execution_count": 11,
     "metadata": {},
     "output_type": "execute_result"
    }
   ],
   "source": [
    "def f(x):\n",
    "    print(\"昨天晚上\"+x+\"死了\")\n",
    "interact_manual(f, x=[\"平民\", \"狼\", \"預言家\"])"
   ]
  },
  {
   "cell_type": "code",
   "execution_count": 12,
   "metadata": {},
   "outputs": [
    {
     "name": "stdout",
     "output_type": "stream",
     "text": [
      "今晚你要殺誰?\n"
     ]
    },
    {
     "data": {
      "application/vnd.jupyter.widget-view+json": {
       "model_id": "6db7da24f8314e51a54cbb45b28cef3f",
       "version_major": 2,
       "version_minor": 0
      },
      "text/plain": [
       "interactive(children=(Dropdown(description='x', options=('平民', '狼', '預言家'), value='平民'), Button(description='R…"
      ]
     },
     "metadata": {},
     "output_type": "display_data"
    }
   ],
   "source": [
    "def night():\n",
    "    print(\"今晚你要殺誰?\")\n",
    "    interact_manual(f, x=[\"平民\", \"狼\", \"預言家\"])\n",
    "night()    "
   ]
  },
  {
   "cell_type": "code",
   "execution_count": 13,
   "metadata": {},
   "outputs": [
    {
     "name": "stdout",
     "output_type": "stream",
     "text": [
      "今晚你要殺誰?\n"
     ]
    },
    {
     "data": {
      "application/vnd.jupyter.widget-view+json": {
       "model_id": "7791bfd09d6c4ef7ac98f3b9517dabeb",
       "version_major": 2,
       "version_minor": 0
      },
      "text/plain": [
       "interactive(children=(Dropdown(description='x', options=('(1)', '(2)', '(3)'), value='(1)'), Button(descriptio…"
      ]
     },
     "metadata": {},
     "output_type": "display_data"
    }
   ],
   "source": [
    "def night():\n",
    "    print(\"今晚你要殺誰?\")\n",
    "    interact_manual(f, x=[\"(1)\", \"(2)\", \"(3)\"])\n",
    "night()    "
   ]
  },
  {
   "cell_type": "markdown",
   "metadata": {},
   "source": [
    "# (二)加入字典功能"
   ]
  },
  {
   "cell_type": "code",
   "execution_count": 14,
   "metadata": {},
   "outputs": [
    {
     "name": "stdout",
     "output_type": "stream",
     "text": [
      "天黑請閉眼,狼人現身請睜眼\n",
      "今晚狼人要殺誰?\n"
     ]
    },
    {
     "data": {
      "application/vnd.jupyter.widget-view+json": {
       "model_id": "c2a377f29b004a9c8c12b20e67dd5231",
       "version_major": 2,
       "version_minor": 0
      },
      "text/plain": [
       "interactive(children=(Dropdown(description='x', options={'(1)': '小華', '(2)': '小明', '(3)': '阿花'}, value='小華'), …"
      ]
     },
     "metadata": {},
     "output_type": "display_data"
    }
   ],
   "source": [
    "def f(x):\n",
    "    print(\"狼人請閉眼,......天亮~\")\n",
    "    print(\"昨天晚上\"+x+\"死了\")\n",
    "    \n",
    "def night():\n",
    "    print(\"天黑請閉眼,狼人現身請睜眼\")\n",
    "    print(\"今晚狼人要殺誰?\")\n",
    "    interact_manual(f, x={\"(1)\":\"小華\", \"(2)\":\"小明\", \"(3)\":\"阿花\"})\n",
    "night()    "
   ]
  },
  {
   "cell_type": "markdown",
   "metadata": {},
   "source": [
    "# (三)角色系統\n",
    "製作狼人殺遊戲一開始各玩家抽出角色的功能"
   ]
  },
  {
   "cell_type": "code",
   "execution_count": 15,
   "metadata": {},
   "outputs": [],
   "source": [
    "import random"
   ]
  },
  {
   "cell_type": "markdown",
   "metadata": {},
   "source": [
    "### 七個角色"
   ]
  },
  {
   "cell_type": "code",
   "execution_count": 16,
   "metadata": {},
   "outputs": [],
   "source": [
    "role = [\"平民1\",\"平民2\",\"平民3\",\"預言家\",\"女巫\",\"狼人1\",\"狼人2\"]"
   ]
  },
  {
   "cell_type": "code",
   "execution_count": 17,
   "metadata": {},
   "outputs": [
    {
     "data": {
      "text/plain": [
       "['女巫', '平民2', '女巫', '狼人2', '狼人2', '預言家', '預言家']"
      ]
     },
     "execution_count": 17,
     "metadata": {},
     "output_type": "execute_result"
    }
   ],
   "source": [
    "random.choices(role, k=7)"
   ]
  },
  {
   "cell_type": "markdown",
   "metadata": {},
   "source": [
    "### 玩家代號以小寫英文字母表示"
   ]
  },
  {
   "cell_type": "code",
   "execution_count": 18,
   "metadata": {},
   "outputs": [],
   "source": [
    "player = [\"a\",\"b\",\"c\",\"d\",\"e\",\"f\",\"g\"]"
   ]
  },
  {
   "cell_type": "code",
   "execution_count": 19,
   "metadata": {},
   "outputs": [],
   "source": [
    "from numpy.random import choice"
   ]
  },
  {
   "cell_type": "code",
   "execution_count": 20,
   "metadata": {},
   "outputs": [],
   "source": [
    "char = choice(role,1)"
   ]
  },
  {
   "cell_type": "markdown",
   "metadata": {},
   "source": [
    "### random.sample 不重複抽出"
   ]
  },
  {
   "cell_type": "code",
   "execution_count": 21,
   "metadata": {},
   "outputs": [
    {
     "name": "stdout",
     "output_type": "stream",
     "text": [
      "['狼人2', '預言家', '狼人1', '平民2', '平民1', '平民3', '女巫']\n"
     ]
    }
   ],
   "source": [
    "char = random.sample(role, k=7)\n",
    "print(char)"
   ]
  },
  {
   "cell_type": "code",
   "execution_count": 22,
   "metadata": {},
   "outputs": [
    {
     "name": "stdout",
     "output_type": "stream",
     "text": [
      "預言家\n",
      "平民2\n",
      "女巫\n",
      "平民1\n",
      "平民3\n",
      "狼人1\n",
      "狼人2\n"
     ]
    }
   ],
   "source": [
    "char = random.sample(role, k=7)\n",
    "\n",
    "for s in range(7):\n",
    "    R = char[s]\n",
    "    print(R)"
   ]
  },
  {
   "cell_type": "markdown",
   "metadata": {},
   "source": [
    "### 以字串顯示"
   ]
  },
  {
   "cell_type": "code",
   "execution_count": 23,
   "metadata": {},
   "outputs": [
    {
     "name": "stdout",
     "output_type": "stream",
     "text": [
      "a 是 狼人1\n",
      "b 是 平民1\n",
      "c 是 平民3\n",
      "d 是 女巫\n",
      "e 是 狼人2\n",
      "f 是 預言家\n",
      "g 是 平民2\n"
     ]
    }
   ],
   "source": [
    "char = random.sample(role, k=7)\n",
    "\n",
    "for s in range(7):\n",
    "    print(player[s] + \" 是 \"+ char[s])\n",
    "    "
   ]
  },
  {
   "cell_type": "markdown",
   "metadata": {},
   "source": [
    "### 字典檔功能 : 用迴圈把每個玩家對應的角色記錄起來"
   ]
  },
  {
   "cell_type": "code",
   "execution_count": 24,
   "metadata": {},
   "outputs": [
    {
     "name": "stdout",
     "output_type": "stream",
     "text": [
      "{'a': '平民3', 'b': '女巫', 'c': '平民2', 'd': '平民1', 'e': '狼人2', 'f': '預言家', 'g': '狼人1'}\n"
     ]
    }
   ],
   "source": [
    "char = random.sample(role, k=7)\n",
    "\n",
    "mydic = {}\n",
    "for s in range(7):\n",
    "    dic2={player[s]:char[s]}\n",
    "    mydic.update(dic2)\n",
    "print(mydic)"
   ]
  },
  {
   "cell_type": "code",
   "execution_count": 26,
   "metadata": {},
   "outputs": [
    {
     "name": "stdout",
     "output_type": "stream",
     "text": [
      "天黑請閉眼,狼人現身請睜眼\n",
      "今晚狼人要殺誰?\n"
     ]
    },
    {
     "data": {
      "application/vnd.jupyter.widget-view+json": {
       "model_id": "145a90b4f8d4414e9dd24a1eed132019",
       "version_major": 2,
       "version_minor": 0
      },
      "text/plain": [
       "interactive(children=(Dropdown(description='x', options=('a', 'b', 'c', 'd', 'e', 'f', 'g'), value='a'), Butto…"
      ]
     },
     "metadata": {},
     "output_type": "display_data"
    }
   ],
   "source": [
    "def f(x):\n",
    "    print(\"狼人請閉眼,......天亮~\")\n",
    "    print(\"昨天晚上\"+x+\"死了\")\n",
    "    print( \"(\"+x+\"的身分是\"+mydic[x]+\")\")\n",
    "    \n",
    "def night():\n",
    "    print(\"天黑請閉眼,狼人現身請睜眼\")\n",
    "    print(\"今晚狼人要殺誰?\")\n",
    "    interact_manual(f, x = player)\n",
    "\n",
    "night()  "
   ]
  },
  {
   "cell_type": "markdown",
   "metadata": {},
   "source": [
    "# (四)預言家系統"
   ]
  },
  {
   "cell_type": "markdown",
   "metadata": {},
   "source": [
    "### 預言家專用的選單\n",
    "因為預言家查驗身分的時候不會查自己,所以在interact的選單中要把自己去掉"
   ]
  },
  {
   "cell_type": "code",
   "execution_count": 28,
   "metadata": {},
   "outputs": [
    {
     "name": "stdout",
     "output_type": "stream",
     "text": [
      "今晚你要查驗身分的是\n"
     ]
    }
   ],
   "source": [
    "print(\"今晚你要查驗身分的是\")"
   ]
  },
  {
   "cell_type": "code",
   "execution_count": 29,
   "metadata": {},
   "outputs": [
    {
     "name": "stdout",
     "output_type": "stream",
     "text": [
      "{'a': '平民3', 'b': '女巫', 'c': '平民2', 'd': '平民1', 'e': '狼人2', 'f': '預言家', 'g': '狼人1'}\n"
     ]
    }
   ],
   "source": [
    "print(mydic)"
   ]
  },
  {
   "cell_type": "markdown",
   "metadata": {},
   "source": [
    "### 做法1 :在決定角色的時候就先製作顛倒的mydic"
   ]
  },
  {
   "cell_type": "code",
   "execution_count": 30,
   "metadata": {},
   "outputs": [
    {
     "name": "stdout",
     "output_type": "stream",
     "text": [
      "{'a': '平民3', 'b': '預言家', 'c': '女巫', 'd': '平民2', 'e': '平民1', 'f': '狼人1', 'g': '狼人2'}\n",
      "{'平民3': 'a', '預言家': 'b', '女巫': 'c', '平民2': 'd', '平民1': 'e', '狼人1': 'f', '狼人2': 'g'}\n"
     ]
    }
   ],
   "source": [
    "char = random.sample(role, k=7)\n",
    "\n",
    "mydic = {}\n",
    "predict = {}\n",
    "for s in range(7):\n",
    "    dic2={player[s]:char[s]}\n",
    "    mydic.update(dic2)\n",
    "    dic3={char[s]:player[s]}\n",
    "    predict.update(dic3)             ###先把字典相反 才能把預言家篩掉\n",
    "print(mydic)\n",
    "print(predict)                       ###predict是相反的mydic"
   ]
  },
  {
   "cell_type": "code",
   "execution_count": 31,
   "metadata": {},
   "outputs": [
    {
     "name": "stdout",
     "output_type": "stream",
     "text": [
      "{'平民3': 'a', '女巫': 'c', '平民2': 'd', '平民1': 'e', '狼人1': 'f', '狼人2': 'g'}\n"
     ]
    }
   ],
   "source": [
    "del predict['預言家']\n",
    "print(predict)"
   ]
  },
  {
   "cell_type": "markdown",
   "metadata": {},
   "source": [
    "### 做法2:讓字典檔的keys和values交換"
   ]
  },
  {
   "cell_type": "code",
   "execution_count": 32,
   "metadata": {},
   "outputs": [
    {
     "name": "stdout",
     "output_type": "stream",
     "text": [
      "{'平民3': 'a', '女巫': 'c', '平民2': 'd', '平民1': 'e', '狼人1': 'f', '狼人2': 'g'}\n",
      "{'a': '平民3', 'c': '女巫', 'd': '平民2', 'e': '平民1', 'f': '狼人1', 'g': '狼人2'}\n"
     ]
    },
    {
     "data": {
      "text/plain": [
       "['a', 'c', 'd', 'e', 'f', 'g']"
      ]
     },
     "execution_count": 32,
     "metadata": {},
     "output_type": "execute_result"
    }
   ],
   "source": [
    "dict_ori = mydic\n",
    "dict_new = {value:key for key,value in dict_ori.items()}\n",
    "\n",
    "del dict_new['預言家']            ##刪掉預言家 因為他不會驗自己\n",
    "print(dict_new)\n",
    "\n",
    "predict = {value:key for key,value in dict_new.items()}  ## 刪完之後再轉回來\n",
    "print(predict)                                           ## predict是沒有預言家的mydic\n",
    "\n",
    "player_predict = list(predict.keys())\n",
    "player_predict"
   ]
  },
  {
   "cell_type": "markdown",
   "metadata": {},
   "source": [
    "## 預言家查驗身分"
   ]
  },
  {
   "cell_type": "code",
   "execution_count": 33,
   "metadata": {},
   "outputs": [
    {
     "name": "stdout",
     "output_type": "stream",
     "text": [
      "今晚你要查驗身分的是\n"
     ]
    },
    {
     "data": {
      "application/vnd.jupyter.widget-view+json": {
       "model_id": "67ea686a15e542e3a5f54877c34984ee",
       "version_major": 2,
       "version_minor": 0
      },
      "text/plain": [
       "interactive(children=(Dropdown(description='n', options=('a', 'c', 'd', 'e', 'f', 'g'), value='a'), Button(des…"
      ]
     },
     "metadata": {},
     "output_type": "display_data"
    }
   ],
   "source": [
    "def g(n):\n",
    "    print(n + \"的身分是\" + predict[n])\n",
    "\n",
    "def prophet():\n",
    "    print(\"今晚你要查驗身分的是\")\n",
    "    interact_manual(g, n = player_predict)\n",
    "\n",
    "prophet()"
   ]
  },
  {
   "cell_type": "markdown",
   "metadata": {},
   "source": [
    "## 備註"
   ]
  },
  {
   "cell_type": "markdown",
   "metadata": {},
   "source": [
    "### 狼人殺遊戲中還有許多角色和功能設定,之後會再試著做做看其他不同的部分,使紀錄器變得更加完整~"
   ]
  },
  {
   "cell_type": "code",
   "execution_count": null,
   "metadata": {},
   "outputs": [],
   "source": []
  },
  {
   "cell_type": "code",
   "execution_count": null,
   "metadata": {},
   "outputs": [],
   "source": []
  },
  {
   "cell_type": "code",
   "execution_count": null,
   "metadata": {},
   "outputs": [],
   "source": []
  },
  {
   "cell_type": "code",
   "execution_count": null,
   "metadata": {},
   "outputs": [],
   "source": []
  },
  {
   "cell_type": "code",
   "execution_count": null,
   "metadata": {},
   "outputs": [],
   "source": []
  },
  {
   "cell_type": "code",
   "execution_count": null,
   "metadata": {},
   "outputs": [],
   "source": []
  }
 ],
 "metadata": {
  "kernelspec": {
   "display_name": "Python 3",
   "language": "python",
   "name": "python3"
  },
  "language_info": {
   "codemirror_mode": {
    "name": "ipython",
    "version": 3
   },
   "file_extension": ".py",
   "mimetype": "text/x-python",
   "name": "python",
   "nbconvert_exporter": "python",
   "pygments_lexer": "ipython3",
   "version": "3.7.3"
  }
 },
 "nbformat": 4,
 "nbformat_minor": 2
}
