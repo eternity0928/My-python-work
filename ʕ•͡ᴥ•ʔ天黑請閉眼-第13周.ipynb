{
 "cells": [
  {
   "cell_type": "code",
   "execution_count": 1,
   "metadata": {},
   "outputs": [],
   "source": [
    "%matplotlib inline\n",
    "import numpy as np\n",
    "import pandas as pd\n",
    "import matplotlib.pyplot as plt"
   ]
  },
  {
   "cell_type": "markdown",
   "metadata": {},
   "source": [
    "# (一)簡介:\n",
    "#### 狼人殺是一種聚會的團康遊戲,遊戲人數通常在6~12人之間,其遊戲規則有很多種,大致上可視為團體對抗的益智遊戲\n",
    "#### 簡單來說,一開始由玩家抽籤決定角色,會讓玩家分為好人及壞人陣營\n",
    "#### 透過遊戲流程使壞人全部出局則好人獲勝;而在好人之中,若是平民或神職其中一類全部出局,則為壞人獲勝。"
   ]
  },
  {
   "cell_type": "markdown",
   "metadata": {},
   "source": [
    "#### 在狼人殺遊戲中需要一名主持人引導遊戲進行,而通常會用手機或紙筆紀錄遊戲過程,故想透過寫一個小程式的方式來幫忙記錄遊戲過程"
   ]
  },
  {
   "cell_type": "markdown",
   "metadata": {},
   "source": [
    "# Interact "
   ]
  },
  {
   "cell_type": "code",
   "execution_count": 2,
   "metadata": {},
   "outputs": [],
   "source": [
    "from ipywidgets import interact"
   ]
  },
  {
   "cell_type": "code",
   "execution_count": 3,
   "metadata": {},
   "outputs": [],
   "source": [
    "from ipywidgets import interact_manual"
   ]
  },
  {
   "cell_type": "code",
   "execution_count": 4,
   "metadata": {},
   "outputs": [
    {
     "data": {
      "application/vnd.jupyter.widget-view+json": {
       "model_id": "3e926bc0bd7b46feba32ecc695cfeeac",
       "version_major": 2,
       "version_minor": 0
      },
      "text/plain": [
       "interactive(children=(Dropdown(description='x', options=('平民', '狼', '預言家'), value='平民'), Button(description='R…"
      ]
     },
     "metadata": {},
     "output_type": "display_data"
    },
    {
     "data": {
      "text/plain": [
       "<function __main__.f(x)>"
      ]
     },
     "execution_count": 4,
     "metadata": {},
     "output_type": "execute_result"
    }
   ],
   "source": [
    "def f(x):\n",
    "    print(\"昨天晚上\"+x+\"死了\")\n",
    "interact_manual(f, x=[\"平民\", \"狼\", \"預言家\"])"
   ]
  },
  {
   "cell_type": "code",
   "execution_count": 5,
   "metadata": {},
   "outputs": [
    {
     "name": "stdout",
     "output_type": "stream",
     "text": [
      "今晚你要殺誰?\n"
     ]
    },
    {
     "data": {
      "application/vnd.jupyter.widget-view+json": {
       "model_id": "a6f7a9d5354b4498af93ad3761a9a03f",
       "version_major": 2,
       "version_minor": 0
      },
      "text/plain": [
       "interactive(children=(Dropdown(description='x', options=('平民', '狼', '預言家'), value='平民'), Button(description='R…"
      ]
     },
     "metadata": {},
     "output_type": "display_data"
    }
   ],
   "source": [
    "def night():\n",
    "    print(\"今晚你要殺誰?\")\n",
    "    interact_manual(f, x=[\"平民\", \"狼\", \"預言家\"])\n",
    "night()    "
   ]
  },
  {
   "cell_type": "code",
   "execution_count": 6,
   "metadata": {},
   "outputs": [
    {
     "name": "stdout",
     "output_type": "stream",
     "text": [
      "今晚你要殺誰?\n"
     ]
    },
    {
     "data": {
      "application/vnd.jupyter.widget-view+json": {
       "model_id": "08da01e2424c45e990df4f7d554361d9",
       "version_major": 2,
       "version_minor": 0
      },
      "text/plain": [
       "interactive(children=(Dropdown(description='x', options=('(1)', '(2)', '(3)'), value='(1)'), Button(descriptio…"
      ]
     },
     "metadata": {},
     "output_type": "display_data"
    }
   ],
   "source": [
    "def night():\n",
    "    print(\"今晚你要殺誰?\")\n",
    "    interact_manual(f, x=[\"(1)\", \"(2)\", \"(3)\"])\n",
    "night()    "
   ]
  },
  {
   "cell_type": "markdown",
   "metadata": {},
   "source": [
    "# 加入字典功能"
   ]
  },
  {
   "cell_type": "code",
   "execution_count": 7,
   "metadata": {},
   "outputs": [
    {
     "name": "stdout",
     "output_type": "stream",
     "text": [
      "天黑請閉眼,狼人現身請睜眼\n",
      "今晚狼人要殺誰?\n"
     ]
    },
    {
     "data": {
      "application/vnd.jupyter.widget-view+json": {
       "model_id": "2ab83eedd1cb47f684aafd8294fb6759",
       "version_major": 2,
       "version_minor": 0
      },
      "text/plain": [
       "interactive(children=(Dropdown(description='x', options={'(1)': '小華', '(2)': '小明', '(3)': '阿花'}, value='小華'), …"
      ]
     },
     "metadata": {},
     "output_type": "display_data"
    }
   ],
   "source": [
    "def f(x):\n",
    "    print(\"狼人請閉眼,......天亮~\")\n",
    "    print(\"昨天晚上\"+x+\"死了\")\n",
    "    \n",
    "def night():\n",
    "    print(\"天黑請閉眼,狼人現身請睜眼\")\n",
    "    print(\"今晚狼人要殺誰?\")\n",
    "    interact_manual(f, x={\"(1)\":\"小華\", \"(2)\":\"小明\", \"(3)\":\"阿花\"})\n",
    "night()    "
   ]
  },
  {
   "cell_type": "markdown",
   "metadata": {},
   "source": [
    "# (二)角色系統\n",
    "製作狼人殺遊戲一開始各玩家抽出角色的功能"
   ]
  },
  {
   "cell_type": "code",
   "execution_count": 8,
   "metadata": {},
   "outputs": [],
   "source": [
    "import random"
   ]
  },
  {
   "cell_type": "markdown",
   "metadata": {},
   "source": [
    "### 七個角色"
   ]
  },
  {
   "cell_type": "code",
   "execution_count": 9,
   "metadata": {},
   "outputs": [],
   "source": [
    "role = [\"平民1\",\"平民2\",\"平民3\",\"預言家\",\"女巫\",\"狼人1\",\"狼人2\"]"
   ]
  },
  {
   "cell_type": "code",
   "execution_count": 10,
   "metadata": {},
   "outputs": [
    {
     "data": {
      "text/plain": [
       "['女巫', '狼人1', '女巫', '狼人2', '女巫', '平民2', '狼人2']"
      ]
     },
     "execution_count": 10,
     "metadata": {},
     "output_type": "execute_result"
    }
   ],
   "source": [
    "random.choices(role, k=7)"
   ]
  },
  {
   "cell_type": "markdown",
   "metadata": {},
   "source": [
    "### 玩家代號"
   ]
  },
  {
   "cell_type": "code",
   "execution_count": 11,
   "metadata": {},
   "outputs": [],
   "source": [
    "player = [\"1號\",\"2號\",\"3號\",\"4號\",\"5號\",\"6號\",\"7號\"]"
   ]
  },
  {
   "cell_type": "code",
   "execution_count": 12,
   "metadata": {},
   "outputs": [],
   "source": [
    "from numpy.random import choice"
   ]
  },
  {
   "cell_type": "code",
   "execution_count": 13,
   "metadata": {},
   "outputs": [],
   "source": [
    "char = choice(role,1)"
   ]
  },
  {
   "cell_type": "markdown",
   "metadata": {},
   "source": [
    "### random.sample 不重複抽出"
   ]
  },
  {
   "cell_type": "code",
   "execution_count": 14,
   "metadata": {},
   "outputs": [
    {
     "name": "stdout",
     "output_type": "stream",
     "text": [
      "['平民1', '平民3', '預言家', '女巫', '狼人2', '狼人1', '平民2']\n"
     ]
    }
   ],
   "source": [
    "char = random.sample(role, k=7)\n",
    "print(char)"
   ]
  },
  {
   "cell_type": "code",
   "execution_count": 15,
   "metadata": {},
   "outputs": [
    {
     "name": "stdout",
     "output_type": "stream",
     "text": [
      "狼人1\n",
      "平民1\n",
      "預言家\n",
      "平民2\n",
      "狼人2\n",
      "女巫\n",
      "平民3\n"
     ]
    }
   ],
   "source": [
    "char = random.sample(role, k=7)\n",
    "\n",
    "for s in range(7):\n",
    "    R = char[s]\n",
    "    print(R)"
   ]
  },
  {
   "cell_type": "markdown",
   "metadata": {},
   "source": [
    "### 以字串顯示"
   ]
  },
  {
   "cell_type": "code",
   "execution_count": 16,
   "metadata": {},
   "outputs": [
    {
     "name": "stdout",
     "output_type": "stream",
     "text": [
      "1號 是 預言家\n",
      "2號 是 平民2\n",
      "3號 是 狼人1\n",
      "4號 是 平民1\n",
      "5號 是 女巫\n",
      "6號 是 狼人2\n",
      "7號 是 平民3\n"
     ]
    }
   ],
   "source": [
    "char = random.sample(role, k=7)\n",
    "\n",
    "for s in range(7):\n",
    "    print(player[s] + \" 是 \"+ char[s])\n",
    "    "
   ]
  },
  {
   "cell_type": "markdown",
   "metadata": {},
   "source": [
    "### 字典檔功能 : 用迴圈把每個玩家對應的角色記錄起來"
   ]
  },
  {
   "cell_type": "code",
   "execution_count": 17,
   "metadata": {},
   "outputs": [
    {
     "name": "stdout",
     "output_type": "stream",
     "text": [
      "{'1號': '狼人2', '2號': '預言家', '3號': '平民2', '4號': '平民1', '5號': '平民3', '6號': '狼人1', '7號': '女巫'}\n"
     ]
    }
   ],
   "source": [
    "char = random.sample(role, k=7)\n",
    "\n",
    "mydic = {}\n",
    "for s in range(7):\n",
    "    dic2={player[s]:char[s]}\n",
    "    mydic.update(dic2)\n",
    "print(mydic)"
   ]
  },
  {
   "cell_type": "markdown",
   "metadata": {},
   "source": [
    "# (三)狼人系統"
   ]
  },
  {
   "cell_type": "code",
   "execution_count": 18,
   "metadata": {},
   "outputs": [
    {
     "name": "stdout",
     "output_type": "stream",
     "text": [
      "天黑請閉眼,狼人現身請睜眼\n",
      "今晚狼人要殺誰?\n"
     ]
    },
    {
     "data": {
      "application/vnd.jupyter.widget-view+json": {
       "model_id": "a4f26ab2d3d04ff0932419c22f154684",
       "version_major": 2,
       "version_minor": 0
      },
      "text/plain": [
       "interactive(children=(Dropdown(description='x', options=('1號', '2號', '3號', '4號', '5號', '6號', '7號'), value='1號'…"
      ]
     },
     "metadata": {},
     "output_type": "display_data"
    }
   ],
   "source": [
    "def f(x):\n",
    "    print(\"狼人請閉眼,......天亮~\")\n",
    "    print(\"昨天晚上\"+x+\"死了\")\n",
    "    print( \"(\"+x+\"的身分是\"+mydic[x]+\")\")\n",
    "    \n",
    "def wolf():\n",
    "    print(\"天黑請閉眼,狼人現身請睜眼\")\n",
    "    print(\"今晚狼人要殺誰?\")\n",
    "    interact_manual(f, x = player)\n",
    "\n",
    "wolf()  "
   ]
  },
  {
   "cell_type": "markdown",
   "metadata": {},
   "source": [
    "# (四)預言家系統"
   ]
  },
  {
   "cell_type": "markdown",
   "metadata": {},
   "source": [
    "### 預言家專用的選單\n",
    "因為預言家查驗身分的時候不會查自己,所以在interact的選單中要把自己去掉"
   ]
  },
  {
   "cell_type": "code",
   "execution_count": 19,
   "metadata": {},
   "outputs": [
    {
     "name": "stdout",
     "output_type": "stream",
     "text": [
      "{'1號': '狼人2', '2號': '預言家', '3號': '平民2', '4號': '平民1', '5號': '平民3', '6號': '狼人1', '7號': '女巫'}\n"
     ]
    }
   ],
   "source": [
    "print(mydic)"
   ]
  },
  {
   "cell_type": "markdown",
   "metadata": {},
   "source": [
    "### 做法1 :在決定角色的時候就先製作顛倒的mydic"
   ]
  },
  {
   "cell_type": "code",
   "execution_count": 20,
   "metadata": {},
   "outputs": [
    {
     "name": "stdout",
     "output_type": "stream",
     "text": [
      "{'1號': '女巫', '2號': '平民3', '3號': '狼人2', '4號': '狼人1', '5號': '平民2', '6號': '平民1', '7號': '預言家'}\n",
      "{'女巫': '1號', '平民3': '2號', '狼人2': '3號', '狼人1': '4號', '平民2': '5號', '平民1': '6號', '預言家': '7號'}\n"
     ]
    }
   ],
   "source": [
    "char = random.sample(role, k=7)\n",
    "\n",
    "mydic = {}\n",
    "predict = {}\n",
    "for s in range(7):\n",
    "    dic2={player[s]:char[s]}\n",
    "    mydic.update(dic2)\n",
    "    dic3={char[s]:player[s]}\n",
    "    predict.update(dic3)             ###先把字典相反 才能把預言家篩掉\n",
    "print(mydic)\n",
    "print(predict)                       ###predict是相反的mydic"
   ]
  },
  {
   "cell_type": "code",
   "execution_count": 21,
   "metadata": {},
   "outputs": [
    {
     "name": "stdout",
     "output_type": "stream",
     "text": [
      "{'女巫': '1號', '平民3': '2號', '狼人2': '3號', '狼人1': '4號', '平民2': '5號', '平民1': '6號'}\n"
     ]
    }
   ],
   "source": [
    "del predict['預言家']\n",
    "print(predict)"
   ]
  },
  {
   "cell_type": "markdown",
   "metadata": {},
   "source": [
    "### 做法2:讓字典檔的keys和values交換"
   ]
  },
  {
   "cell_type": "code",
   "execution_count": 22,
   "metadata": {},
   "outputs": [
    {
     "name": "stdout",
     "output_type": "stream",
     "text": [
      "{'女巫': '1號', '平民3': '2號', '狼人2': '3號', '狼人1': '4號', '平民2': '5號', '平民1': '6號'}\n",
      "{'1號': '女巫', '2號': '平民3', '3號': '狼人2', '4號': '狼人1', '5號': '平民2', '6號': '平民1'}\n"
     ]
    },
    {
     "data": {
      "text/plain": [
       "['1號', '2號', '3號', '4號', '5號', '6號']"
      ]
     },
     "execution_count": 22,
     "metadata": {},
     "output_type": "execute_result"
    }
   ],
   "source": [
    "dict_ori = mydic\n",
    "dict_new = {value:key for key,value in dict_ori.items()}\n",
    "\n",
    "del dict_new['預言家']            ##刪掉預言家 因為他不會驗自己\n",
    "print(dict_new)\n",
    "\n",
    "predict = {value:key for key,value in dict_new.items()}  ## 刪完之後再轉回來\n",
    "print(predict)                                           ## predict是沒有預言家的mydic\n",
    "\n",
    "player_predict = list(predict.keys())\n",
    "player_predict"
   ]
  },
  {
   "cell_type": "markdown",
   "metadata": {},
   "source": [
    "## 預言家查驗身分"
   ]
  },
  {
   "cell_type": "code",
   "execution_count": 23,
   "metadata": {},
   "outputs": [
    {
     "name": "stdout",
     "output_type": "stream",
     "text": [
      "今晚你要查驗身分的是\n"
     ]
    },
    {
     "data": {
      "application/vnd.jupyter.widget-view+json": {
       "model_id": "372edb3ab9054a59b105c949bf78fab3",
       "version_major": 2,
       "version_minor": 0
      },
      "text/plain": [
       "interactive(children=(Dropdown(description='n', options=('1號', '2號', '3號', '4號', '5號', '6號'), value='1號'), But…"
      ]
     },
     "metadata": {},
     "output_type": "display_data"
    }
   ],
   "source": [
    "def g(n):\n",
    "    print(n + \"的身分是\" + predict[n])\n",
    "\n",
    "def prophet():\n",
    "    print(\"今晚你要查驗身分的是\")\n",
    "    interact_manual(g, n = player_predict)\n",
    "\n",
    "prophet()"
   ]
  },
  {
   "cell_type": "markdown",
   "metadata": {},
   "source": [
    "## 12/3"
   ]
  },
  {
   "cell_type": "markdown",
   "metadata": {},
   "source": [
    "# (五)女巫系統\n",
    "女巫有兩瓶藥水,一瓶只能使用一次,而且一個晚上也只能使用一次\n"
   ]
  },
  {
   "cell_type": "markdown",
   "metadata": {},
   "source": [
    "一瓶是毒藥,可以毒死任意一位玩家(包括自己);另一瓶是解藥,在解藥用掉之前,主持人會先提示這天晚上哪一位玩家被殺了,解藥可以救活那個玩家。"
   ]
  },
  {
   "cell_type": "markdown",
   "metadata": {},
   "source": [
    "## 女巫毒人"
   ]
  },
  {
   "cell_type": "code",
   "execution_count": 24,
   "metadata": {},
   "outputs": [
    {
     "name": "stdout",
     "output_type": "stream",
     "text": [
      "女巫睜眼\n",
      "你要使用毒藥嗎?\n"
     ]
    },
    {
     "data": {
      "application/vnd.jupyter.widget-view+json": {
       "model_id": "75e3a248c1cb453e896abdeb45c9468b",
       "version_major": 2,
       "version_minor": 0
      },
      "text/plain": [
       "interactive(children=(Dropdown(description='c', options=('Yes', 'No'), value='Yes'), Button(description='Run I…"
      ]
     },
     "metadata": {},
     "output_type": "display_data"
    }
   ],
   "source": [
    "print(\"女巫睜眼\")\n",
    "\n",
    "def k(c):\n",
    "    def w_poison(x):                               ##女巫毒人的系統            \n",
    "        print(\"女巫請閉眼\")\n",
    "        print(\"昨天晚上\"+x+\"玩家死了\")\n",
    "        print( \"(\"+x+\"的身分是\"+mydic[x]+\")\")\n",
    "    \n",
    "    if c == \"Yes\":                                 ## 詢問要不要讀人Yes or No\n",
    "        print(\"你要毒誰?\")\n",
    "        interact_manual(w_poison, x = player)\n",
    "    else:\n",
    "        print(\"好...女巫請閉眼\")\n",
    "\n",
    "    \n",
    "def w():\n",
    "    print(\"你要使用毒藥嗎?\")\n",
    "    interact_manual(k, c = [\"Yes\",\"No\"])\n",
    "    \n",
    "\n",
    "w()        "
   ]
  },
  {
   "cell_type": "markdown",
   "metadata": {},
   "source": [
    "## 女巫救人"
   ]
  },
  {
   "cell_type": "code",
   "execution_count": 25,
   "metadata": {},
   "outputs": [
    {
     "name": "stdout",
     "output_type": "stream",
     "text": [
      "昨天晚上「他」被殺了,你要救他嗎?\n"
     ]
    },
    {
     "data": {
      "application/vnd.jupyter.widget-view+json": {
       "model_id": "bc7d166a5fa4460d9d7c4865e705cf71",
       "version_major": 2,
       "version_minor": 0
      },
      "text/plain": [
       "interactive(children=(Dropdown(description='c', options=('Yes', 'No'), value='Yes'), Button(description='Run I…"
      ]
     },
     "metadata": {},
     "output_type": "display_data"
    }
   ],
   "source": [
    "def m(c):    \n",
    "    if c == \"Yes\":                                 ## 詢問要不要毒人Yes or No\n",
    "        print(\"好...女巫請閉眼\")\n",
    "    else:\n",
    "        print(\"你要使用毒藥嗎?\")                   ## 之後再放\n",
    "        \n",
    "\n",
    "def w_antidote():\n",
    "    print(\"昨天晚上「他」被殺了,你要救他嗎?\")       ## 被狼人殺的 之後再補入\n",
    "    interact_manual(m, c = [\"Yes\",\"No\"])\n",
    "\n",
    "w_antidote()    "
   ]
  },
  {
   "cell_type": "markdown",
   "metadata": {},
   "source": [
    "## 女巫系統:毒人和救人合在一起"
   ]
  },
  {
   "cell_type": "code",
   "execution_count": 26,
   "metadata": {},
   "outputs": [
    {
     "name": "stdout",
     "output_type": "stream",
     "text": [
      "昨天晚上「他」被殺了,你要救他嗎?\n"
     ]
    },
    {
     "data": {
      "application/vnd.jupyter.widget-view+json": {
       "model_id": "417aa2f912ac4d259ce7d006c22fb8c5",
       "version_major": 2,
       "version_minor": 0
      },
      "text/plain": [
       "interactive(children=(Dropdown(description='c', options=('Yes', 'No'), value='Yes'), Button(description='Run I…"
      ]
     },
     "metadata": {},
     "output_type": "display_data"
    }
   ],
   "source": [
    "def m(c):    \n",
    "    if c == \"Yes\":\n",
    "        print(\"好...女巫請閉眼\")\n",
    "    else:                                           ## 如果他不要救的話,問他要不要用毒藥\n",
    "        w()\n",
    "\n",
    "def w_antidote():\n",
    "    print(\"昨天晚上「他」被殺了,你要救他嗎?\")        ## 一開始會先問要不要就\n",
    "    interact_manual(m, c = [\"Yes\",\"No\"])             ## 要救的話,解藥就用完了,一個晚上只能用一瓶\n",
    "\n",
    "w_antidote()    "
   ]
  },
  {
   "cell_type": "code",
   "execution_count": 27,
   "metadata": {},
   "outputs": [
    {
     "name": "stdout",
     "output_type": "stream",
     "text": [
      "女巫睜眼\n",
      "昨天晚上「他」被殺了,你要救他嗎?\n"
     ]
    },
    {
     "data": {
      "application/vnd.jupyter.widget-view+json": {
       "model_id": "661d9fcfe36144b59ccd950c817497e3",
       "version_major": 2,
       "version_minor": 0
      },
      "text/plain": [
       "interactive(children=(Dropdown(description='c', options=('Yes', 'No'), value='Yes'), Button(description='Run I…"
      ]
     },
     "metadata": {},
     "output_type": "display_data"
    }
   ],
   "source": [
    "print(\"女巫睜眼\")\n",
    "\n",
    "def k(c):\n",
    "    def w_poison(x):                               ##女巫毒人的系統            \n",
    "        print(\"女巫請閉眼\")\n",
    "        print(\"天亮請睜眼\")\n",
    "        print(\"昨天晚上\"+x+\"玩家死了\")\n",
    "        \n",
    "    \n",
    "    if c == \"Yes\":                                 ## 詢問要不要讀人Yes or No\n",
    "        print(\"你要毒誰?\")\n",
    "        interact_manual(w_poison, x = player)\n",
    "    else:\n",
    "        print(\"好...女巫請閉眼\")\n",
    "\n",
    "    \n",
    "def w():\n",
    "    print(\"你要使用毒藥嗎?\")\n",
    "    interact_manual(k, c = [\"Yes\",\"No\"])\n",
    "    \n",
    "def m(c):    \n",
    "    if c == \"Yes\":                                 ## 詢問要不要毒人Yes or No\n",
    "        print(\"好...女巫請閉眼\")\n",
    "    else:\n",
    "         w()                 ## 之後再放\n",
    "        \n",
    "\n",
    "def w_antidote():\n",
    "    print(\"昨天晚上「他」被殺了,你要救他嗎?\")       ## 被狼人殺的 之後再補入\n",
    "    interact_manual(m, c = [\"Yes\",\"No\"])\n",
    "\n",
    "w_antidote()  "
   ]
  },
  {
   "cell_type": "markdown",
   "metadata": {},
   "source": [
    "## 女巫和狼人系統合併"
   ]
  },
  {
   "cell_type": "code",
   "execution_count": 28,
   "metadata": {
    "scrolled": true
   },
   "outputs": [
    {
     "name": "stdout",
     "output_type": "stream",
     "text": [
      "狼人現身請睜眼\n",
      "今晚狼人要殺誰?\n"
     ]
    },
    {
     "data": {
      "application/vnd.jupyter.widget-view+json": {
       "model_id": "fb31dc370e834030b943379b9f0c9ca8",
       "version_major": 2,
       "version_minor": 0
      },
      "text/plain": [
       "interactive(children=(Dropdown(description='x', options=('1號', '2號', '3號', '4號', '5號', '6號', '7號'), value='1號'…"
      ]
     },
     "metadata": {},
     "output_type": "display_data"
    }
   ],
   "source": [
    "##第二步\n",
    "def f(x):\n",
    "    print(\"狼人請閉眼\")\n",
    "    print(\"女巫請睜眼\")\n",
    "    \n",
    "    \n",
    "    ##女巫的最後一步驟\n",
    "    def w_poison(h):                               ##女巫毒人的系統            \n",
    "            print(\"女巫請閉眼\")\n",
    "            if (x ==h):                            ##如果死掉的是同一個人\n",
    "                print(\"昨天晚上\"+x+\"玩家死了\")\n",
    "                print( \"(\"+x+\"的身分是\"+mydic[x]+\")\")\n",
    "            else:\n",
    "                print(\"昨天晚上\"+x+\"和\"+h+\"死了\")\n",
    "    def k(c):\n",
    "        \n",
    "        if c == \"Yes\":                              \n",
    "            print(\"你要毒誰?\")\n",
    "            interact_manual(w_poison, h = player)\n",
    "        else:\n",
    "            print(\"好...女巫請閉眼\")\n",
    "            print(\"昨天晚上\"+x+\"玩家死了\")\n",
    "            print( \"(\"+x+\"的身分是\"+mydic[x]+\")\")\n",
    "    \n",
    "    \n",
    "\n",
    "    ##第三步:詢問要不要毒人\n",
    "    def w():\n",
    "        print(\"你要使用毒藥嗎?\")\n",
    "        interact_manual(k, c = [\"Yes\",\"No\"])           ## 詢問要不要毒人Yes or No\n",
    "    \n",
    "    ##第二步:詢問要不要救\n",
    "    def m(c):    \n",
    "        if c == \"Yes\":                                 \n",
    "            print(\"好...女巫請閉眼\")\n",
    "        else:\n",
    "             w()                 \n",
    "        \n",
    "    ##女巫第一步\n",
    "    def w_antidote():\n",
    "        print(\"昨天晚上\"+x+\"被殺了,你要救他嗎?\")       ## 詢問要不要救Yes or No      \n",
    "        interact_manual(m, c = [\"Yes\",\"No\"])\n",
    "\n",
    "    w_antidote()\n",
    "    \n",
    "    \n",
    "##第一步\n",
    "def wolf():\n",
    "    print(\"狼人現身請睜眼\")\n",
    "    print(\"今晚狼人要殺誰?\")\n",
    "    interact_manual(f, x = player)\n",
    "    \n",
    "            \n",
    "wolf()"
   ]
  },
  {
   "cell_type": "markdown",
   "metadata": {},
   "source": [
    "# 12/7"
   ]
  },
  {
   "cell_type": "markdown",
   "metadata": {},
   "source": [
    "# 好人與壞人的區分"
   ]
  },
  {
   "cell_type": "code",
   "execution_count": 29,
   "metadata": {},
   "outputs": [
    {
     "name": "stdout",
     "output_type": "stream",
     "text": [
      "今晚你要查驗身分的是\n"
     ]
    },
    {
     "data": {
      "application/vnd.jupyter.widget-view+json": {
       "model_id": "d3b3941058e242238a12157f644261d4",
       "version_major": 2,
       "version_minor": 0
      },
      "text/plain": [
       "interactive(children=(Dropdown(description='n', options=('1號', '2號', '3號', '4號', '5號', '6號'), value='1號'), But…"
      ]
     },
     "metadata": {},
     "output_type": "display_data"
    }
   ],
   "source": [
    "def g(n):\n",
    "    print(n + \"的身分是\" + predict[n])\n",
    "    if (\"狼人\" in predict[n]):\n",
    "        print(n + \"是壞人\"+\"👎\")\n",
    "    else:\n",
    "        print(n + \"是好人\"+\"👍\")\n",
    "    \n",
    "    \n",
    "def prophet():\n",
    "    print(\"今晚你要查驗身分的是\")\n",
    "    interact_manual(g, n = player_predict)\n",
    "\n",
    "prophet()"
   ]
  },
  {
   "cell_type": "code",
   "execution_count": 30,
   "metadata": {},
   "outputs": [],
   "source": [
    "def day():\n",
    "    print(\"天亮請睜眼\")\n",
    "    if (x ==h):                            ##如果死掉的是同一個人\n",
    "        print(\"昨天晚上\"+x+\"死了\")\n",
    "        print( \"(\"+x+\"的身分是\"+mydic[x]+\")\")\n",
    "    else:\n",
    "        print(\"昨天晚上\"+x+\"和\"+h+\"死了\")"
   ]
  },
  {
   "cell_type": "markdown",
   "metadata": {},
   "source": [
    "# 狼→女巫→預言家"
   ]
  },
  {
   "cell_type": "code",
   "execution_count": 88,
   "metadata": {},
   "outputs": [
    {
     "name": "stdout",
     "output_type": "stream",
     "text": [
      "天黑請閉眼\n",
      "狼人現身請睜眼\n",
      "今晚狼人要殺誰?\n"
     ]
    },
    {
     "data": {
      "application/vnd.jupyter.widget-view+json": {
       "model_id": "556bf748646c403dbd7a0bb8b4512903",
       "version_major": 2,
       "version_minor": 0
      },
      "text/plain": [
       "interactive(children=(Dropdown(description='x', options=('1號', '2號', '3號', '4號', '5號', '6號', '7號'), value='1號'…"
      ]
     },
     "metadata": {},
     "output_type": "display_data"
    }
   ],
   "source": [
    "##預言家第二步:主持人告知查到的是好人還是壞人\n",
    "def g(n):\n",
    "    print(n + \"的身分是\" + predict[n])\n",
    "    if (\"狼人\" in predict[n]):\n",
    "        print(n + \"是壞人\"+\"👎\")\n",
    "    else:\n",
    "        print(n + \"是好人\"+\"👍\")\n",
    "            \n",
    "    \n",
    "##預言家第一步:詢問要查誰\n",
    "def prophet():\n",
    "    print(\"預言家請睜眼\")\n",
    "    print(\"今晚你要查驗身分的是?\")\n",
    "    interact_manual(g, n = player_predict)\n",
    "\n",
    "\n",
    "\n",
    "##第二步\n",
    "def f(x):\n",
    "    print(\"狼人請閉眼\")\n",
    "    print(\"女巫請睜眼\")\n",
    "\n",
    "        \n",
    "        \n",
    "    ##女巫的最後一步驟\n",
    "    def w_poison(h):                               ## 女巫毒人的系統            \n",
    "            print(\"女巫請閉眼\")\n",
    "            prophet()                              ## 女巫結束後換預言家\n",
    "            print(\"天亮請睜眼\")\n",
    "            if (x == h):                           ## 女巫和狼都殺同一個人\n",
    "                print(\"昨天晚上\"+x+\"玩家死了\")\n",
    "                print( \"(\"+x+\"的身分是\"+mydic[x]+\")\")    \n",
    "            else:                                   ## 女巫和狼殺了不同玩家,共有兩人出局\n",
    "                print(\"昨天晚上\"+x+\"和\"+h+\"玩家死了\")\n",
    "            \n",
    "            \n",
    "    def toxic(c):\n",
    "        if c == \"Yes\":                              \n",
    "            print(\"你要毒誰?\")\n",
    "            interact_manual(w_poison, h = player)\n",
    "        else:\n",
    "            print(\"好...女巫請閉眼\")\n",
    "            prophet()                              ## 女巫結束後換預言家\n",
    "            print(\"天亮請睜眼\")\n",
    "            print(\"昨天晚上\"+x+\"玩家死了\")             ## 女巫沒用解藥也沒用毒藥,所以只有被狼人殺的玩家出局\n",
    "            print( \"(\"+x+\"的身分是\"+mydic[x]+\")\")\n",
    "            \n",
    "\n",
    "    ##第三步:詢問要不要毒人\n",
    "    def witch():\n",
    "        print(\"你要使用毒藥嗎?\")\n",
    "        interact_manual(toxic, c = [\"Yes\",\"No\"])           ## 詢問要不要毒人Yes or No\n",
    "\n",
    "        \n",
    "    ##第二步:詢問女巫要不要救昨晚被狼殺掉的人\n",
    "    def save(s):    \n",
    "        if s == \"Yes\":                                 \n",
    "            print(\"好...女巫請閉眼\")\n",
    "            prophet()                                   ## 怎麼讓顯示有先後順序呢?\n",
    "            print(\"天亮請睜眼\")\n",
    "            print(\"昨晚是個平安夜\")                     ## 女巫有救被殺掉的人,所以沒人出局\n",
    "        else:\n",
    "             witch()                                   ## 女巫不用解藥,接著詢問是否使用毒藥\n",
    "\n",
    "                \n",
    "    ##女巫第一步\n",
    "    def w_antidote():\n",
    "        print(\"昨天晚上\"+x+\"被殺了,你要救他嗎?\")       ## 詢問要不要救Yes or No      \n",
    "        interact_manual(save, s = [\"Yes\",\"No\"])\n",
    "\n",
    "    w_antidote()\n",
    "    \n",
    "    \n",
    "##第一步\n",
    "def wolf():\n",
    "    print(\"天黑請閉眼\")\n",
    "    print(\"狼人現身請睜眼\")\n",
    "    print(\"今晚狼人要殺誰?\")\n",
    "    interact_manual(f, x = player)\n",
    "    \n",
    "            \n",
    "wolf()"
   ]
  },
  {
   "cell_type": "code",
   "execution_count": null,
   "metadata": {},
   "outputs": [],
   "source": []
  },
  {
   "cell_type": "code",
   "execution_count": null,
   "metadata": {},
   "outputs": [],
   "source": []
  },
  {
   "cell_type": "code",
   "execution_count": null,
   "metadata": {},
   "outputs": [],
   "source": []
  },
  {
   "cell_type": "code",
   "execution_count": null,
   "metadata": {},
   "outputs": [],
   "source": []
  },
  {
   "cell_type": "code",
   "execution_count": 51,
   "metadata": {},
   "outputs": [
    {
     "data": {
      "text/plain": [
       "{'1號': '女巫',\n",
       " '2號': '平民3',\n",
       " '3號': '狼人2',\n",
       " '4號': '狼人1',\n",
       " '5號': '平民2',\n",
       " '6號': '平民1',\n",
       " '7號': '預言家'}"
      ]
     },
     "execution_count": 51,
     "metadata": {},
     "output_type": "execute_result"
    }
   ],
   "source": [
    "mydic"
   ]
  },
  {
   "cell_type": "code",
   "execution_count": 72,
   "metadata": {},
   "outputs": [],
   "source": [
    "god = 2\n",
    "folk = 3\n",
    "badguy = 2"
   ]
  },
  {
   "cell_type": "code",
   "execution_count": 70,
   "metadata": {},
   "outputs": [],
   "source": [
    "folk = [\"平民1\",\"平民2\",\"平民3\"]"
   ]
  },
  {
   "cell_type": "code",
   "execution_count": 71,
   "metadata": {},
   "outputs": [],
   "source": [
    "badguy = [\"狼人1\",\"狼人2\"]"
   ]
  },
  {
   "cell_type": "code",
   "execution_count": 66,
   "metadata": {},
   "outputs": [
    {
     "name": "stdout",
     "output_type": "stream",
     "text": [
      "100\n"
     ]
    }
   ],
   "source": [
    "def h(q):\n",
    "    print(95+q)\n",
    "if 100==h(5):\n",
    "    print(\"可可\")"
   ]
  },
  {
   "cell_type": "code",
   "execution_count": 54,
   "metadata": {},
   "outputs": [
    {
     "data": {
      "text/plain": [
       "{'女巫': '1號',\n",
       " '平民3': '2號',\n",
       " '狼人2': '3號',\n",
       " '狼人1': '4號',\n",
       " '平民2': '5號',\n",
       " '平民1': '6號',\n",
       " '預言家': '7號'}"
      ]
     },
     "execution_count": 54,
     "metadata": {},
     "output_type": "execute_result"
    }
   ],
   "source": [
    "newdic"
   ]
  },
  {
   "cell_type": "code",
   "execution_count": 53,
   "metadata": {},
   "outputs": [],
   "source": [
    "dict_ori = mydic\n",
    "newdic = {value:key for key,value in dict_ori.items()}"
   ]
  },
  {
   "cell_type": "code",
   "execution_count": null,
   "metadata": {},
   "outputs": [],
   "source": []
  },
  {
   "cell_type": "code",
   "execution_count": null,
   "metadata": {},
   "outputs": [],
   "source": []
  },
  {
   "cell_type": "code",
   "execution_count": null,
   "metadata": {},
   "outputs": [],
   "source": []
  },
  {
   "cell_type": "code",
   "execution_count": null,
   "metadata": {},
   "outputs": [],
   "source": []
  },
  {
   "cell_type": "code",
   "execution_count": null,
   "metadata": {},
   "outputs": [],
   "source": []
  },
  {
   "cell_type": "code",
   "execution_count": null,
   "metadata": {},
   "outputs": [],
   "source": []
  },
  {
   "cell_type": "code",
   "execution_count": null,
   "metadata": {},
   "outputs": [],
   "source": []
  },
  {
   "cell_type": "code",
   "execution_count": null,
   "metadata": {},
   "outputs": [],
   "source": []
  },
  {
   "cell_type": "code",
   "execution_count": null,
   "metadata": {},
   "outputs": [],
   "source": []
  },
  {
   "cell_type": "code",
   "execution_count": null,
   "metadata": {},
   "outputs": [],
   "source": []
  },
  {
   "cell_type": "code",
   "execution_count": null,
   "metadata": {},
   "outputs": [],
   "source": []
  },
  {
   "cell_type": "code",
   "execution_count": null,
   "metadata": {},
   "outputs": [],
   "source": []
  },
  {
   "cell_type": "code",
   "execution_count": null,
   "metadata": {},
   "outputs": [],
   "source": []
  },
  {
   "cell_type": "code",
   "execution_count": null,
   "metadata": {},
   "outputs": [],
   "source": []
  },
  {
   "cell_type": "code",
   "execution_count": null,
   "metadata": {},
   "outputs": [],
   "source": []
  },
  {
   "cell_type": "code",
   "execution_count": null,
   "metadata": {},
   "outputs": [],
   "source": []
  },
  {
   "cell_type": "code",
   "execution_count": null,
   "metadata": {},
   "outputs": [],
   "source": []
  },
  {
   "cell_type": "code",
   "execution_count": null,
   "metadata": {},
   "outputs": [],
   "source": []
  },
  {
   "cell_type": "code",
   "execution_count": null,
   "metadata": {},
   "outputs": [],
   "source": []
  },
  {
   "cell_type": "code",
   "execution_count": null,
   "metadata": {},
   "outputs": [],
   "source": []
  },
  {
   "cell_type": "code",
   "execution_count": null,
   "metadata": {},
   "outputs": [],
   "source": []
  }
 ],
 "metadata": {
  "kernelspec": {
   "display_name": "Python 3",
   "language": "python",
   "name": "python3"
  },
  "language_info": {
   "codemirror_mode": {
    "name": "ipython",
    "version": 3
   },
   "file_extension": ".py",
   "mimetype": "text/x-python",
   "name": "python",
   "nbconvert_exporter": "python",
   "pygments_lexer": "ipython3",
   "version": "3.7.3"
  }
 },
 "nbformat": 4,
 "nbformat_minor": 2
}
