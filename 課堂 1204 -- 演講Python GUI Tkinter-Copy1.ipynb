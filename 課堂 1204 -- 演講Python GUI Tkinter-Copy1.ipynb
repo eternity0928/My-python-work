{
 "cells": [
  {
   "cell_type": "code",
   "execution_count": 1,
   "metadata": {},
   "outputs": [],
   "source": [
    "%matplotlib inline\n",
    "import numpy as np\n",
    "import pandas as pd\n",
    "import matplotlib.pyplot as plt"
   ]
  },
  {
   "cell_type": "markdown",
   "metadata": {},
   "source": [
    "# 互動工具Plickers 和 Python GUI Tkinter"
   ]
  },
  {
   "cell_type": "code",
   "execution_count": 2,
   "metadata": {},
   "outputs": [],
   "source": [
    "import tkinter as tk"
   ]
  },
  {
   "cell_type": "code",
   "execution_count": 3,
   "metadata": {},
   "outputs": [],
   "source": [
    "window = tk.Tk()      # 建立一個視窗"
   ]
  },
  {
   "cell_type": "code",
   "execution_count": 4,
   "metadata": {},
   "outputs": [],
   "source": [
    "window.mainloop()     # 叫他出來  "
   ]
  },
  {
   "cell_type": "code",
   "execution_count": 5,
   "metadata": {},
   "outputs": [
    {
     "name": "stdout",
     "output_type": "stream",
     "text": [
      "{'bd': ('bd', '-borderwidth'), 'borderwidth': ('borderwidth', 'borderWidth', 'BorderWidth', <pixel object: '0'>, 0), 'class': ('class', 'class', 'Class', 'Toplevel', 'Tk'), 'menu': ('menu', 'menu', 'Menu', '', ''), 'relief': ('relief', 'relief', 'Relief', <index object: 'flat'>, 'flat'), 'screen': ('screen', 'screen', 'Screen', '', ''), 'use': ('use', 'use', 'Use', '', ''), 'background': ('background', 'background', 'Background', <border object: 'SystemButtonFace'>, 'antiquewhite'), 'bg': ('bg', '-background'), 'colormap': ('colormap', 'colormap', 'Colormap', '', ''), 'container': ('container', 'container', 'Container', 0, 0), 'cursor': ('cursor', 'cursor', 'Cursor', '', ''), 'height': ('height', 'height', 'Height', <pixel object: '0'>, 600), 'highlightbackground': ('highlightbackground', 'highlightBackground', 'HighlightBackground', <color object: 'SystemButtonFace'>, 'SystemButtonFace'), 'highlightcolor': ('highlightcolor', 'highlightColor', 'HighlightColor', <color object: 'SystemWindowFrame'>, 'SystemWindowFrame'), 'highlightthickness': ('highlightthickness', 'highlightThickness', 'HighlightThickness', <pixel object: '0'>, 0), 'padx': ('padx', 'padX', 'Pad', <pixel object: '0'>, <pixel object: '0'>), 'pady': ('pady', 'padY', 'Pad', <pixel object: '0'>, <pixel object: '0'>), 'takefocus': ('takefocus', 'takeFocus', 'TakeFocus', '0', '0'), 'visual': ('visual', 'visual', 'Visual', '', ''), 'width': ('width', 'width', 'Width', <pixel object: '0'>, 800)}\n"
     ]
    }
   ],
   "source": [
    "window = tk.Tk() \n",
    "window.title(\"嗨~我是視窗\")  #改變視窗的名稱\n",
    "window.config(background = 'antiquewhite', width = '800', height = '600')         ##顏色與長和寬\n",
    "print(window.config())       #只顯示我要的\n",
    "window.mainloop()"
   ]
  },
  {
   "cell_type": "markdown",
   "metadata": {},
   "source": [
    "### 變數 = widget(所屬視窗, 設定 = 值)"
   ]
  },
  {
   "cell_type": "code",
   "execution_count": 6,
   "metadata": {},
   "outputs": [],
   "source": [
    "window = tk.Tk()\n",
    "lbl = tk.Label(text = 'Hello', font = ('Times',100))##字體/字要多大\n",
    "lbl.pack()\n",
    "window.mainloop()"
   ]
  },
  {
   "cell_type": "code",
   "execution_count": 7,
   "metadata": {},
   "outputs": [
    {
     "ename": "NameError",
     "evalue": "name 'botton' is not defined",
     "output_type": "error",
     "traceback": [
      "\u001b[1;31m---------------------------------------------------------------------------\u001b[0m",
      "\u001b[1;31mNameError\u001b[0m                                 Traceback (most recent call last)",
      "\u001b[1;32m<ipython-input-7-a184e2fb8a9d>\u001b[0m in \u001b[0;36m<module>\u001b[1;34m\u001b[0m\n\u001b[1;32m----> 1\u001b[1;33m \u001b[0mbotton\u001b[0m\u001b[1;33m\u001b[0m\u001b[1;33m\u001b[0m\u001b[0m\n\u001b[0m",
      "\u001b[1;31mNameError\u001b[0m: name 'botton' is not defined"
     ]
    }
   ],
   "source": [
    "botton"
   ]
  },
  {
   "cell_type": "markdown",
   "metadata": {},
   "source": [
    "## .pack()排版控制"
   ]
  },
  {
   "cell_type": "code",
   "execution_count": 8,
   "metadata": {},
   "outputs": [],
   "source": [
    "def window_quit():                   ##先定義一個函數\n",
    "    window.destroy()                 ##這個函數的功能是把視窗關掉"
   ]
  },
  {
   "cell_type": "markdown",
   "metadata": {},
   "source": [
    "### 製作按鈕"
   ]
  },
  {
   "cell_type": "code",
   "execution_count": 9,
   "metadata": {},
   "outputs": [],
   "source": [
    "window = tk.Tk()\n",
    "lbl = tk.Label(text = 'Hello', font = ('Times',100))##字體/字要多大\n",
    "lbl.pack()\n",
    "\n",
    "btn = tk.Button(window, text = 'Close', command=window_quit)\n",
    "btn.pack()\n",
    "\n",
    "window.mainloop()"
   ]
  },
  {
   "cell_type": "code",
   "execution_count": 12,
   "metadata": {},
   "outputs": [],
   "source": [
    "def window_quit():                   ##先定義一個函數\n",
    "    #window.destroy()\n",
    "    lbl.config(text=\"Please don't go~~\")   ## 改成文字模式\n",
    "     \n",
    "\n",
    "window = tk.Tk()\n",
    "lbl = tk.Label(text = 'Hello', font = ('Times',100))##字體/字要多大\n",
    "lbl.pack()\n",
    "\n",
    "btn = tk.Button(window, text = 'Close', command=window_quit)\n",
    "btn.pack()\n",
    "\n",
    "window.mainloop()"
   ]
  },
  {
   "cell_type": "code",
   "execution_count": null,
   "metadata": {},
   "outputs": [],
   "source": [
    "## 取得輸入值 "
   ]
  },
  {
   "cell_type": "code",
   "execution_count": null,
   "metadata": {},
   "outputs": [],
   "source": [
    "def window_quit():                   ##先定義一個函數\n",
    "    r = float(weightVar.get()) / (float( heightVar.get() )/100 )**2\n",
    "    result.config(text = r)\n",
    "    \n",
    "    \n",
    "window = tk.Tk()\n",
    "\n",
    "##結果的設置\n",
    "result = tk.Label(window,text = 'weight')\n",
    "result.pack()\n",
    "\n",
    "\n",
    "##體重\n",
    "\n",
    "frame = tk.Frame(window)             ##建一個容器\n",
    "frame.pack()\n",
    "\n",
    "weightVar = tk.StringVar()           ##建立變數\n",
    "weightVar.set(60)\n",
    "\n",
    "lbl = tk.Label(frame, text = 'weight')\n",
    "lbl.pack(side = 'left')\n",
    "\n",
    "entry = tk.Entry(frame, textvariable = weightVar)     ##呼應變數\n",
    "entry.pack(side = 'top')\n",
    "\n",
    "##身高\n",
    "\n",
    "frame2 = tk.Frame(window)\n",
    "frame2.pack()\n",
    "\n",
    "heightVar = tk.StringVar()\n",
    "\n",
    "lbl2 = tk.Label(frame2, text = 'height')\n",
    "lbl2.pack(side = 'left')\n",
    "\n",
    "entry2 = tk.Entry(frame2, textvariable = heightVar)     ##呼應變數\n",
    "entry2.pack(side = 'top')\n",
    "\n",
    "###\n",
    "\n",
    "btn = tk.Button(window, text = 'Go', command=window_quit)\n",
    "btn.pack(side = 'bottom')\n",
    "\n",
    "window.mainloop()"
   ]
  },
  {
   "cell_type": "code",
   "execution_count": null,
   "metadata": {},
   "outputs": [],
   "source": [
    "def window_quit():                   ##先定義一個函數\n",
    "    window.destroy()\n",
    "    \n",
    "window = tk.Tk()\n",
    "\n",
    "lbl = tk.Label(text = 'Hello', font = ('Times',100))##字體/字要多大\n",
    "lbl.pack()\n",
    "\n",
    "btn = tk.Button(window, text = 'Close', command=window_quit)\n",
    "btn.pack()\n",
    "\n",
    "window.mainloop()"
   ]
  },
  {
   "cell_type": "code",
   "execution_count": null,
   "metadata": {},
   "outputs": [],
   "source": []
  },
  {
   "cell_type": "code",
   "execution_count": null,
   "metadata": {},
   "outputs": [],
   "source": []
  },
  {
   "cell_type": "code",
   "execution_count": null,
   "metadata": {},
   "outputs": [],
   "source": []
  },
  {
   "cell_type": "code",
   "execution_count": null,
   "metadata": {},
   "outputs": [],
   "source": []
  },
  {
   "cell_type": "code",
   "execution_count": null,
   "metadata": {},
   "outputs": [],
   "source": []
  },
  {
   "cell_type": "code",
   "execution_count": null,
   "metadata": {},
   "outputs": [],
   "source": []
  },
  {
   "cell_type": "code",
   "execution_count": 13,
   "metadata": {},
   "outputs": [],
   "source": [
    "# 第1步，例項化object，建立視窗window\n",
    "window = tk.Tk()\n",
    "\n",
    "# 第2步，給視窗的視覺化起名字\n",
    "window.title('My Window')\n",
    "\n",
    "# 第3步，設定視窗的大小(長 * 寬)\n",
    "window.geometry('500x300')  # 這裡的乘是小x\n",
    "\n",
    "# 第4步，在圖形介面上設定標籤\n",
    "var = tk.StringVar()    # 將label標籤的內容設定為字元型別，用var來接收hit_me函式的傳出內容用以顯示在標籤上\n",
    "l = tk.Label(window, textvariable=var, bg='green', fg='white', font=('Arial', 12), width=30, height=2)\n",
    "# 說明： bg為背景，fg為字型顏色，font為字型，width為長，height為高，這裡的長和高是字元的長和高，比如height=2,就是標籤有2個字元這麼高\n",
    "l.pack()\n",
    "\n",
    "# 定義一個函式功能（內容自己自由編寫），供點選Button按鍵時呼叫，呼叫命令引數command=函式名\n",
    "on_hit = False\n",
    "def hit_me():\n",
    "    global on_hit\n",
    "    if on_hit == False:\n",
    "        on_hit = True\n",
    "        var.set('you hit me')\n",
    "    else:\n",
    "        on_hit = False\n",
    "        var.set('')\n",
    "\n",
    "# 第5步，在視窗介面設定放置Button按鍵\n",
    "b = tk.Button(window, text='hit me', font=('Arial', 12), width=10, height=1, command=hit_me)\n",
    "b.pack()\n",
    "\n",
    "# 第6步，主視窗迴圈顯示\n",
    "window.mainloop()"
   ]
  },
  {
   "cell_type": "code",
   "execution_count": null,
   "metadata": {},
   "outputs": [],
   "source": []
  },
  {
   "cell_type": "code",
   "execution_count": null,
   "metadata": {},
   "outputs": [],
   "source": []
  },
  {
   "cell_type": "code",
   "execution_count": null,
   "metadata": {},
   "outputs": [],
   "source": []
  },
  {
   "cell_type": "code",
   "execution_count": null,
   "metadata": {},
   "outputs": [],
   "source": []
  },
  {
   "cell_type": "code",
   "execution_count": null,
   "metadata": {},
   "outputs": [],
   "source": []
  },
  {
   "cell_type": "code",
   "execution_count": null,
   "metadata": {},
   "outputs": [],
   "source": []
  },
  {
   "cell_type": "code",
   "execution_count": null,
   "metadata": {},
   "outputs": [],
   "source": []
  },
  {
   "cell_type": "code",
   "execution_count": null,
   "metadata": {},
   "outputs": [],
   "source": []
  },
  {
   "cell_type": "code",
   "execution_count": null,
   "metadata": {},
   "outputs": [],
   "source": []
  },
  {
   "cell_type": "code",
   "execution_count": null,
   "metadata": {},
   "outputs": [],
   "source": []
  },
  {
   "cell_type": "code",
   "execution_count": null,
   "metadata": {},
   "outputs": [],
   "source": []
  },
  {
   "cell_type": "code",
   "execution_count": null,
   "metadata": {},
   "outputs": [],
   "source": []
  }
 ],
 "metadata": {
  "kernelspec": {
   "display_name": "Python 3",
   "language": "python",
   "name": "python3"
  },
  "language_info": {
   "codemirror_mode": {
    "name": "ipython",
    "version": 3
   },
   "file_extension": ".py",
   "mimetype": "text/x-python",
   "name": "python",
   "nbconvert_exporter": "python",
   "pygments_lexer": "ipython3",
   "version": "3.7.3"
  }
 },
 "nbformat": 4,
 "nbformat_minor": 2
}
