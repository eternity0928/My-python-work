{
 "cells": [
  {
   "cell_type": "code",
   "execution_count": 1,
   "metadata": {},
   "outputs": [],
   "source": [
    "%matplotlib inline\n",
    "import numpy as np\n",
    "import matplotlib.pyplot as plt \n",
    "import pandas as pd"
   ]
  },
  {
   "cell_type": "code",
   "execution_count": 2,
   "metadata": {},
   "outputs": [],
   "source": [
    "from ipywidgets import interact"
   ]
  },
  {
   "cell_type": "code",
   "execution_count": 3,
   "metadata": {},
   "outputs": [
    {
     "name": "stdout",
     "output_type": "stream",
     "text": [
      "哈囉~歡迎參觀\n",
      ">> 謝謝\n",
      "掰掰~\n"
     ]
    }
   ],
   "source": [
    "s=\"熱舞社團聯展\"\n",
    "print(\"哈囉~歡迎參觀\")\n",
    "\n",
    "while (s != \"謝謝\"):\n",
    "    s = input(\">> \")\n",
    "    if ('傳單' in s):\n",
    "        print(\"來~這個給你,上面有關於社團的資訊喔\")\n",
    "    elif ('如果沒學過跳舞' in s):\n",
    "        print(\"不用擔心,很多人也是大學才開始學喔\")\n",
    "    elif ('活動' in s):\n",
    "        print(\"我們10/17有迎新舞展,一定要來看!!\")\n",
    "    elif ('資訊' in s):\n",
    "        print(\"可以追蹤社團的臉書粉專和ig\")\n",
    "    elif ('了解' in s):\n",
    "        print(\"期待未來在社團一起跳舞唷\")\n",
    "    else:\n",
    "        print(\"掰掰~\")"
   ]
  },
  {
   "cell_type": "code",
   "execution_count": 1,
   "metadata": {},
   "outputs": [],
   "source": [
    "from ipywidgets import interact"
   ]
  },
  {
   "cell_type": "code",
   "execution_count": 2,
   "metadata": {},
   "outputs": [
    {
     "data": {
      "application/vnd.jupyter.widget-view+json": {
       "model_id": "024d23862fc740d594d2d38338d774e3",
       "version_major": 2,
       "version_minor": 0
      },
      "text/plain": [
       "interactive(children=(Dropdown(description='x', options={'Jazz': '是一種形式自由多變,且特別強調身體線條及力道的舞風', 'Dancehall': '源於…"
      ]
     },
     "metadata": {},
     "output_type": "display_data"
    }
   ],
   "source": [
    "def f(x):\n",
    "    print(x)\n",
    "\n",
    "interact(f, x={\"Jazz\": \"是一種形式自由多變,且特別強調身體線條及力道的舞風\" ,\n",
    "               \"Dancehall\": \"源於牙買加,由雷鬼音樂演進而產生,是結合性感和力量的一種舞蹈\", \n",
    "               \"Waacking\": \"手臂在肩膀前後快速甩動,路線及手勢多變的一種舞風\", \n",
    "               \"House\": \"是一種著重腳步靈活應用的舞風\", \n",
    "               \"Popping\": \"藉由肌肉快速收縮與放鬆,創造出舞者身體震動的感覺\"}) ;  "
   ]
  },
  {
   "cell_type": "code",
   "execution_count": 6,
   "metadata": {},
   "outputs": [
    {
     "name": "stdout",
     "output_type": "stream",
     "text": [
      "Populating the interactive namespace from numpy and matplotlib\n"
     ]
    },
    {
     "name": "stderr",
     "output_type": "stream",
     "text": [
      "C:\\Users\\User\\Anaconda3\\lib\\site-packages\\IPython\\core\\magics\\pylab.py:160: UserWarning: pylab import has clobbered these variables: ['f']\n",
      "`%matplotlib` prevents importing * from pylab and numpy\n",
      "  \"\\n`%matplotlib` prevents importing * from pylab and numpy\"\n"
     ]
    }
   ],
   "source": [
    "%pylab inline"
   ]
  },
  {
   "cell_type": "code",
   "execution_count": 32,
   "metadata": {},
   "outputs": [
    {
     "name": "stdout",
     "output_type": "stream",
     "text": [
      "我猜的數字: 50\n",
      "往下猜\n",
      "我猜的數字: 25\n",
      "往上猜\n",
      "我猜的數字: 37\n",
      "往上猜\n",
      "我猜的數字: 44\n",
      "往下猜\n",
      "我猜的數字: 40\n",
      "答對了!\n"
     ]
    }
   ],
   "source": [
    "%pylab inline\n",
    "s = randint(1,101)\n",
    "while (g != s):\n",
    "    g = input(\"我猜的數字: \")\n",
    "    g = float(g)\n",
    "    if g < s:\n",
    "        print(\"往上猜\")\n",
    "    elif g > s :\n",
    "        print(\"往下猜\")\n",
    "    else:\n",
    "        print(\"答對了!\")"
   ]
  },
  {
   "cell_type": "code",
   "execution_count": 31,
   "metadata": {},
   "outputs": [
    {
     "name": "stdout",
     "output_type": "stream",
     "text": [
      ">> 早安,又是光喜自得的一天\n",
      "感恩師傅,讚嘆師傅\n",
      ">> 掰掰\n",
      "感恩師傅,讚嘆師傅\n"
     ]
    }
   ],
   "source": [
    "message = \"seafood\"\n",
    "while (message != \"掰掰\"):\n",
    "    message = input(\">> \")\n",
    "    print(\"感恩師傅,讚嘆師傅\")"
   ]
  },
  {
   "cell_type": "code",
   "execution_count": null,
   "metadata": {},
   "outputs": [],
   "source": []
  },
  {
   "cell_type": "code",
   "execution_count": null,
   "metadata": {},
   "outputs": [],
   "source": []
  },
  {
   "cell_type": "code",
   "execution_count": null,
   "metadata": {},
   "outputs": [],
   "source": []
  },
  {
   "cell_type": "code",
   "execution_count": null,
   "metadata": {},
   "outputs": [],
   "source": []
  },
  {
   "cell_type": "code",
   "execution_count": null,
   "metadata": {},
   "outputs": [],
   "source": []
  },
  {
   "cell_type": "code",
   "execution_count": null,
   "metadata": {},
   "outputs": [],
   "source": []
  },
  {
   "cell_type": "code",
   "execution_count": null,
   "metadata": {},
   "outputs": [],
   "source": []
  },
  {
   "cell_type": "code",
   "execution_count": null,
   "metadata": {},
   "outputs": [],
   "source": []
  },
  {
   "cell_type": "code",
   "execution_count": null,
   "metadata": {},
   "outputs": [],
   "source": []
  },
  {
   "cell_type": "code",
   "execution_count": null,
   "metadata": {},
   "outputs": [],
   "source": []
  }
 ],
 "metadata": {
  "kernelspec": {
   "display_name": "Python 3",
   "language": "python",
   "name": "python3"
  },
  "language_info": {
   "codemirror_mode": {
    "name": "ipython",
    "version": 3
   },
   "file_extension": ".py",
   "mimetype": "text/x-python",
   "name": "python",
   "nbconvert_exporter": "python",
   "pygments_lexer": "ipython3",
   "version": "3.7.3"
  }
 },
 "nbformat": 4,
 "nbformat_minor": 2
}
