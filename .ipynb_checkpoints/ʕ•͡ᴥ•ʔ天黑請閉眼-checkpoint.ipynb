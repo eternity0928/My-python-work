{
 "cells": [
  {
   "cell_type": "code",
   "execution_count": 1,
   "metadata": {},
   "outputs": [],
   "source": [
    "%matplotlib inline\n",
    "import numpy as np\n",
    "import pandas as pd\n",
    "import matplotlib.pyplot as plt"
   ]
  },
  {
   "cell_type": "markdown",
   "metadata": {},
   "source": [
    "# 簡介:\n",
    "#### 狼人殺是一種聚會的團康遊戲,遊戲人數通常在6~12人之間,其遊戲規則有很多種,大致上可視為團體對抗的益智遊戲\n",
    "#### 簡單來說,一開始由玩家抽籤決定角色,會讓玩家分為好人及壞人陣營\n",
    "#### 透過遊戲流程使壞人全部出局則好人獲勝;而在好人之中,若是平民或神職其中一類全部出局,則為壞人獲勝。"
   ]
  },
  {
   "cell_type": "markdown",
   "metadata": {},
   "source": [
    "#### 在狼人殺遊戲中需要一名主持人引導遊戲進行,而通常會用手機或紙筆紀錄遊戲過程,故想透過寫一個小程式的方式來幫忙記錄遊戲過程"
   ]
  },
  {
   "cell_type": "markdown",
   "metadata": {},
   "source": [
    "## 製作雛形"
   ]
  },
  {
   "cell_type": "code",
   "execution_count": 2,
   "metadata": {},
   "outputs": [],
   "source": [
    "role = [\"平民\",\"狼\",\"預言家\"]"
   ]
  },
  {
   "cell_type": "code",
   "execution_count": 3,
   "metadata": {},
   "outputs": [
    {
     "name": "stdout",
     "output_type": "stream",
     "text": [
      "今晚要殺誰? >>a\n"
     ]
    }
   ],
   "source": [
    "ham = input(\"今晚要殺誰? >>\")"
   ]
  },
  {
   "cell_type": "code",
   "execution_count": 4,
   "metadata": {},
   "outputs": [
    {
     "name": "stdout",
     "output_type": "stream",
     "text": [
      "a\n"
     ]
    }
   ],
   "source": [
    "print(ham)"
   ]
  },
  {
   "cell_type": "code",
   "execution_count": 5,
   "metadata": {},
   "outputs": [],
   "source": [
    "def night():\n",
    "    ham = input(\"今晚要殺誰? >>\")\n",
    "    print(\" ʕ•̀ω•́ʔ : 昨天晚上{}死了\".format(ham) )"
   ]
  },
  {
   "cell_type": "code",
   "execution_count": 6,
   "metadata": {},
   "outputs": [
    {
     "name": "stdout",
     "output_type": "stream",
     "text": [
      "今晚要殺誰? >>a\n",
      " ʕ•̀ω•́ʔ : 昨天晚上a死了\n"
     ]
    }
   ],
   "source": [
    "night()"
   ]
  },
  {
   "cell_type": "markdown",
   "metadata": {},
   "source": [
    "# (一)加入interact的功能"
   ]
  },
  {
   "cell_type": "code",
   "execution_count": 7,
   "metadata": {},
   "outputs": [],
   "source": [
    "from ipywidgets import interact"
   ]
  },
  {
   "cell_type": "code",
   "execution_count": 8,
   "metadata": {},
   "outputs": [],
   "source": [
    "from ipywidgets import interact_manual"
   ]
  },
  {
   "cell_type": "code",
   "execution_count": 9,
   "metadata": {},
   "outputs": [
    {
     "data": {
      "application/vnd.jupyter.widget-view+json": {
       "model_id": "5608571d422f491aa453a3460b2c2733",
       "version_major": 2,
       "version_minor": 0
      },
      "text/plain": [
       "interactive(children=(Dropdown(description='x', options=('平民', '狼', '預言家'), value='平民'), Button(description='R…"
      ]
     },
     "metadata": {},
     "output_type": "display_data"
    },
    {
     "data": {
      "text/plain": [
       "<function __main__.f(x)>"
      ]
     },
     "execution_count": 9,
     "metadata": {},
     "output_type": "execute_result"
    }
   ],
   "source": [
    "def f(x):\n",
    "    print(\"昨天晚上\"+x+\"死了\")\n",
    "interact_manual(f, x=[\"平民\", \"狼\", \"預言家\"])"
   ]
  },
  {
   "cell_type": "code",
   "execution_count": 10,
   "metadata": {},
   "outputs": [
    {
     "name": "stdout",
     "output_type": "stream",
     "text": [
      "今晚你要殺誰?\n"
     ]
    },
    {
     "data": {
      "application/vnd.jupyter.widget-view+json": {
       "model_id": "7ed47e634f224a36889dc795e290818d",
       "version_major": 2,
       "version_minor": 0
      },
      "text/plain": [
       "interactive(children=(Dropdown(description='x', options=('平民', '狼', '預言家'), value='平民'), Button(description='R…"
      ]
     },
     "metadata": {},
     "output_type": "display_data"
    }
   ],
   "source": [
    "def night():\n",
    "    print(\"今晚你要殺誰?\")\n",
    "    interact_manual(f, x=[\"平民\", \"狼\", \"預言家\"])\n",
    "night()    "
   ]
  },
  {
   "cell_type": "code",
   "execution_count": 11,
   "metadata": {},
   "outputs": [
    {
     "name": "stdout",
     "output_type": "stream",
     "text": [
      "今晚你要殺誰?\n"
     ]
    },
    {
     "data": {
      "application/vnd.jupyter.widget-view+json": {
       "model_id": "ff9b212a95694edc8eb297aa2e01dfa2",
       "version_major": 2,
       "version_minor": 0
      },
      "text/plain": [
       "interactive(children=(Dropdown(description='x', options=('(1)', '(2)', '(3)'), value='(1)'), Button(descriptio…"
      ]
     },
     "metadata": {},
     "output_type": "display_data"
    }
   ],
   "source": [
    "def night():\n",
    "    print(\"今晚你要殺誰?\")\n",
    "    interact_manual(f, x=[\"(1)\", \"(2)\", \"(3)\"])\n",
    "night()    "
   ]
  },
  {
   "cell_type": "markdown",
   "metadata": {},
   "source": [
    "# (二)加入字典功能"
   ]
  },
  {
   "cell_type": "code",
   "execution_count": 12,
   "metadata": {},
   "outputs": [
    {
     "name": "stdout",
     "output_type": "stream",
     "text": [
      "天黑請閉眼,狼人現身請睜眼\n",
      "今晚狼人要殺誰?\n"
     ]
    },
    {
     "data": {
      "application/vnd.jupyter.widget-view+json": {
       "model_id": "050feb212e3c41f389fc3c57bdef6b32",
       "version_major": 2,
       "version_minor": 0
      },
      "text/plain": [
       "interactive(children=(Dropdown(description='x', options={'(1)': '小華', '(2)': '小明', '(3)': '阿花'}, value='小華'), …"
      ]
     },
     "metadata": {},
     "output_type": "display_data"
    }
   ],
   "source": [
    "def f(x):\n",
    "    print(\"狼人請閉眼,......天亮~\")\n",
    "    print(\"昨天晚上\"+x+\"死了\")\n",
    "    \n",
    "def night():\n",
    "    print(\"天黑請閉眼,狼人現身請睜眼\")\n",
    "    print(\"今晚狼人要殺誰?\")\n",
    "    interact_manual(f, x={\"(1)\":\"小華\", \"(2)\":\"小明\", \"(3)\":\"阿花\"})\n",
    "night()    "
   ]
  },
  {
   "cell_type": "markdown",
   "metadata": {},
   "source": [
    "# (三)角色系統\n",
    "製作狼人殺遊戲一開始各玩家抽出角色的功能"
   ]
  },
  {
   "cell_type": "code",
   "execution_count": 13,
   "metadata": {},
   "outputs": [],
   "source": [
    "import random"
   ]
  },
  {
   "cell_type": "markdown",
   "metadata": {},
   "source": [
    "### 七個角色"
   ]
  },
  {
   "cell_type": "code",
   "execution_count": 14,
   "metadata": {},
   "outputs": [],
   "source": [
    "role = [\"平民1\",\"平民2\",\"平民3\",\"預言家\",\"女巫\",\"狼人1\",\"狼人2\"]"
   ]
  },
  {
   "cell_type": "code",
   "execution_count": 15,
   "metadata": {},
   "outputs": [
    {
     "data": {
      "text/plain": [
       "['平民1', '平民2', '平民2', '預言家', '狼人1', '平民2', '平民3']"
      ]
     },
     "execution_count": 15,
     "metadata": {},
     "output_type": "execute_result"
    }
   ],
   "source": [
    "random.choices(role, k=7)"
   ]
  },
  {
   "cell_type": "markdown",
   "metadata": {},
   "source": [
    "### 玩家代號以小寫英文字母表示"
   ]
  },
  {
   "cell_type": "code",
   "execution_count": 16,
   "metadata": {},
   "outputs": [],
   "source": [
    "player = [\"a\",\"b\",\"c\",\"d\",\"e\",\"f\",\"g\"]"
   ]
  },
  {
   "cell_type": "code",
   "execution_count": 17,
   "metadata": {},
   "outputs": [],
   "source": [
    "from numpy.random import choice"
   ]
  },
  {
   "cell_type": "code",
   "execution_count": 18,
   "metadata": {},
   "outputs": [],
   "source": [
    "char = choice(role,1)"
   ]
  },
  {
   "cell_type": "markdown",
   "metadata": {},
   "source": [
    "### random.sample 不重複抽出"
   ]
  },
  {
   "cell_type": "code",
   "execution_count": 19,
   "metadata": {},
   "outputs": [
    {
     "name": "stdout",
     "output_type": "stream",
     "text": [
      "['女巫', '平民2', '平民3', '平民1', '狼人1', '狼人2', '預言家']\n"
     ]
    }
   ],
   "source": [
    "char = random.sample(role, k=7)\n",
    "print(char)"
   ]
  },
  {
   "cell_type": "code",
   "execution_count": 20,
   "metadata": {},
   "outputs": [
    {
     "name": "stdout",
     "output_type": "stream",
     "text": [
      "平民1\n",
      "平民3\n",
      "狼人2\n",
      "狼人1\n",
      "女巫\n",
      "預言家\n",
      "平民2\n"
     ]
    }
   ],
   "source": [
    "char = random.sample(role, k=7)\n",
    "\n",
    "for s in range(7):\n",
    "    R = char[s]\n",
    "    print(R)"
   ]
  },
  {
   "cell_type": "markdown",
   "metadata": {},
   "source": [
    "### 以字串顯示"
   ]
  },
  {
   "cell_type": "code",
   "execution_count": 21,
   "metadata": {},
   "outputs": [
    {
     "name": "stdout",
     "output_type": "stream",
     "text": [
      "a 是 平民1\n",
      "b 是 女巫\n",
      "c 是 平民3\n",
      "d 是 平民2\n",
      "e 是 預言家\n",
      "f 是 狼人1\n",
      "g 是 狼人2\n"
     ]
    }
   ],
   "source": [
    "char = random.sample(role, k=7)\n",
    "\n",
    "for s in range(7):\n",
    "    print(player[s] + \" 是 \"+ char[s])\n",
    "    "
   ]
  },
  {
   "cell_type": "markdown",
   "metadata": {},
   "source": [
    "### 字典檔功能 : 用迴圈把每個玩家對應的角色記錄起來"
   ]
  },
  {
   "cell_type": "code",
   "execution_count": 22,
   "metadata": {},
   "outputs": [
    {
     "name": "stdout",
     "output_type": "stream",
     "text": [
      "{'a': '預言家', 'b': '狼人2', 'c': '狼人1', 'd': '女巫', 'e': '平民3', 'f': '平民2', 'g': '平民1'}\n"
     ]
    }
   ],
   "source": [
    "char = random.sample(role, k=7)\n",
    "\n",
    "mydic = {}\n",
    "for s in range(7):\n",
    "    dic2={player[s]:char[s]}\n",
    "    mydic.update(dic2)\n",
    "print(mydic)"
   ]
  },
  {
   "cell_type": "markdown",
   "metadata": {},
   "source": [
    "# 狼人系統"
   ]
  },
  {
   "cell_type": "code",
   "execution_count": 23,
   "metadata": {},
   "outputs": [
    {
     "name": "stdout",
     "output_type": "stream",
     "text": [
      "天黑請閉眼,狼人現身請睜眼\n",
      "今晚狼人要殺誰?\n"
     ]
    },
    {
     "data": {
      "application/vnd.jupyter.widget-view+json": {
       "model_id": "31efa9f933604d6bbfb3d829260f1232",
       "version_major": 2,
       "version_minor": 0
      },
      "text/plain": [
       "interactive(children=(Dropdown(description='x', options=('a', 'b', 'c', 'd', 'e', 'f', 'g'), value='a'), Butto…"
      ]
     },
     "metadata": {},
     "output_type": "display_data"
    }
   ],
   "source": [
    "def f(x):\n",
    "    print(\"狼人請閉眼,......天亮~\")\n",
    "    print(\"昨天晚上\"+x+\"死了\")\n",
    "    print( \"(\"+x+\"的身分是\"+mydic[x]+\")\")\n",
    "    \n",
    "def wolf():\n",
    "    print(\"天黑請閉眼,狼人現身請睜眼\")\n",
    "    print(\"今晚狼人要殺誰?\")\n",
    "    interact_manual(f, x = player)\n",
    "\n",
    "wolf()  "
   ]
  },
  {
   "cell_type": "markdown",
   "metadata": {},
   "source": [
    "# (四)預言家系統"
   ]
  },
  {
   "cell_type": "markdown",
   "metadata": {},
   "source": [
    "### 預言家專用的選單\n",
    "因為預言家查驗身分的時候不會查自己,所以在interact的選單中要把自己去掉"
   ]
  },
  {
   "cell_type": "code",
   "execution_count": 24,
   "metadata": {},
   "outputs": [
    {
     "name": "stdout",
     "output_type": "stream",
     "text": [
      "今晚你要查驗身分的是\n"
     ]
    }
   ],
   "source": [
    "print(\"今晚你要查驗身分的是\")"
   ]
  },
  {
   "cell_type": "code",
   "execution_count": 25,
   "metadata": {},
   "outputs": [
    {
     "name": "stdout",
     "output_type": "stream",
     "text": [
      "{'a': '預言家', 'b': '狼人2', 'c': '狼人1', 'd': '女巫', 'e': '平民3', 'f': '平民2', 'g': '平民1'}\n"
     ]
    }
   ],
   "source": [
    "print(mydic)"
   ]
  },
  {
   "cell_type": "markdown",
   "metadata": {},
   "source": [
    "### 做法1 :在決定角色的時候就先製作顛倒的mydic"
   ]
  },
  {
   "cell_type": "code",
   "execution_count": 26,
   "metadata": {},
   "outputs": [
    {
     "name": "stdout",
     "output_type": "stream",
     "text": [
      "{'a': '預言家', 'b': '平民2', 'c': '平民3', 'd': '平民1', 'e': '狼人2', 'f': '女巫', 'g': '狼人1'}\n",
      "{'預言家': 'a', '平民2': 'b', '平民3': 'c', '平民1': 'd', '狼人2': 'e', '女巫': 'f', '狼人1': 'g'}\n"
     ]
    }
   ],
   "source": [
    "char = random.sample(role, k=7)\n",
    "\n",
    "mydic = {}\n",
    "predict = {}\n",
    "for s in range(7):\n",
    "    dic2={player[s]:char[s]}\n",
    "    mydic.update(dic2)\n",
    "    dic3={char[s]:player[s]}\n",
    "    predict.update(dic3)             ###先把字典相反 才能把預言家篩掉\n",
    "print(mydic)\n",
    "print(predict)                       ###predict是相反的mydic"
   ]
  },
  {
   "cell_type": "code",
   "execution_count": 27,
   "metadata": {},
   "outputs": [
    {
     "name": "stdout",
     "output_type": "stream",
     "text": [
      "{'平民2': 'b', '平民3': 'c', '平民1': 'd', '狼人2': 'e', '女巫': 'f', '狼人1': 'g'}\n"
     ]
    }
   ],
   "source": [
    "del predict['預言家']\n",
    "print(predict)"
   ]
  },
  {
   "cell_type": "markdown",
   "metadata": {},
   "source": [
    "### 做法2:讓字典檔的keys和values交換"
   ]
  },
  {
   "cell_type": "code",
   "execution_count": 28,
   "metadata": {},
   "outputs": [
    {
     "name": "stdout",
     "output_type": "stream",
     "text": [
      "{'平民2': 'b', '平民3': 'c', '平民1': 'd', '狼人2': 'e', '女巫': 'f', '狼人1': 'g'}\n",
      "{'b': '平民2', 'c': '平民3', 'd': '平民1', 'e': '狼人2', 'f': '女巫', 'g': '狼人1'}\n"
     ]
    },
    {
     "data": {
      "text/plain": [
       "['b', 'c', 'd', 'e', 'f', 'g']"
      ]
     },
     "execution_count": 28,
     "metadata": {},
     "output_type": "execute_result"
    }
   ],
   "source": [
    "dict_ori = mydic\n",
    "dict_new = {value:key for key,value in dict_ori.items()}\n",
    "\n",
    "del dict_new['預言家']            ##刪掉預言家 因為他不會驗自己\n",
    "print(dict_new)\n",
    "\n",
    "predict = {value:key for key,value in dict_new.items()}  ## 刪完之後再轉回來\n",
    "print(predict)                                           ## predict是沒有預言家的mydic\n",
    "\n",
    "player_predict = list(predict.keys())\n",
    "player_predict"
   ]
  },
  {
   "cell_type": "markdown",
   "metadata": {},
   "source": [
    "## 預言家查驗身分"
   ]
  },
  {
   "cell_type": "code",
   "execution_count": 29,
   "metadata": {},
   "outputs": [
    {
     "name": "stdout",
     "output_type": "stream",
     "text": [
      "今晚你要查驗身分的是\n"
     ]
    },
    {
     "data": {
      "application/vnd.jupyter.widget-view+json": {
       "model_id": "00e9e270159e4bbabd95cea20d67a523",
       "version_major": 2,
       "version_minor": 0
      },
      "text/plain": [
       "interactive(children=(Dropdown(description='n', options=('b', 'c', 'd', 'e', 'f', 'g'), value='b'), Button(des…"
      ]
     },
     "metadata": {},
     "output_type": "display_data"
    }
   ],
   "source": [
    "def g(n):\n",
    "    print(n + \"的身分是\" + predict[n])\n",
    "\n",
    "def prophet():\n",
    "    print(\"今晚你要查驗身分的是\")\n",
    "    interact_manual(g, n = player_predict)\n",
    "\n",
    "prophet()"
   ]
  },
  {
   "cell_type": "markdown",
   "metadata": {},
   "source": [
    "## 備註"
   ]
  },
  {
   "cell_type": "markdown",
   "metadata": {},
   "source": [
    "### 狼人殺遊戲中還有許多角色和功能設定,之後會再試著做做看其他不同的部分,使紀錄器變得更加完整~"
   ]
  },
  {
   "cell_type": "markdown",
   "metadata": {},
   "source": [
    "## 12/3"
   ]
  },
  {
   "cell_type": "markdown",
   "metadata": {},
   "source": [
    "# 女巫系統\n",
    "女巫有兩瓶藥水,一瓶只能使用一次,而且一個晚上也只能使用一次\n"
   ]
  },
  {
   "cell_type": "markdown",
   "metadata": {},
   "source": [
    "一瓶是毒藥,可以毒死任意一位玩家(包括自己);另一瓶是解藥,在解藥用掉之前,主持人會先提示這天晚上哪一位玩家被殺了,解藥可以救活那個玩家。"
   ]
  },
  {
   "cell_type": "code",
   "execution_count": 30,
   "metadata": {},
   "outputs": [
    {
     "name": "stdout",
     "output_type": "stream",
     "text": [
      "女巫請睜眼\n"
     ]
    }
   ],
   "source": [
    "print(\"女巫請睜眼\")"
   ]
  },
  {
   "cell_type": "code",
   "execution_count": 31,
   "metadata": {},
   "outputs": [],
   "source": [
    "## witch "
   ]
  },
  {
   "cell_type": "code",
   "execution_count": 32,
   "metadata": {},
   "outputs": [
    {
     "name": "stdout",
     "output_type": "stream",
     "text": [
      "你要使用毒藥嗎?好喔\n"
     ]
    },
    {
     "data": {
      "text/plain": [
       "'好喔'"
      ]
     },
     "execution_count": 32,
     "metadata": {},
     "output_type": "execute_result"
    }
   ],
   "source": [
    "p = input(\"你要使用毒藥嗎?\")\n",
    "y_n = [\"Yes\",\"No\"]\n",
    "p"
   ]
  },
  {
   "cell_type": "markdown",
   "metadata": {},
   "source": [
    "## 女巫毒人"
   ]
  },
  {
   "cell_type": "code",
   "execution_count": 33,
   "metadata": {},
   "outputs": [
    {
     "name": "stdout",
     "output_type": "stream",
     "text": [
      "女巫睜眼\n",
      "你要使用毒藥嗎?\n"
     ]
    },
    {
     "data": {
      "application/vnd.jupyter.widget-view+json": {
       "model_id": "ed8c906c19a64d3585443872c5654bb0",
       "version_major": 2,
       "version_minor": 0
      },
      "text/plain": [
       "interactive(children=(Dropdown(description='c', options=('Yes', 'No'), value='Yes'), Button(description='Run I…"
      ]
     },
     "metadata": {},
     "output_type": "display_data"
    }
   ],
   "source": [
    "print(\"女巫睜眼\")\n",
    "\n",
    "def k(c):\n",
    "    def w_poison(x):                               ##女巫毒人的系統            \n",
    "        print(\"女巫請閉眼\")\n",
    "        print(\"昨天晚上\"+x+\"死了\")\n",
    "        print( \"(\"+x+\"的身分是\"+mydic[x]+\")\")\n",
    "    \n",
    "    if c == \"Yes\":                                 ## 詢問要不要讀人Yes or No\n",
    "        print(\"你要毒誰?\")\n",
    "        interact_manual(w_poison, x = player)\n",
    "    else:\n",
    "        print(\"好...女巫請閉眼\")\n",
    "\n",
    "    \n",
    "def w():\n",
    "    print(\"你要使用毒藥嗎?\")\n",
    "    interact_manual(k, c = [\"Yes\",\"No\"])\n",
    "    \n",
    "\n",
    "w()        "
   ]
  },
  {
   "cell_type": "markdown",
   "metadata": {},
   "source": [
    "## 女巫救人"
   ]
  },
  {
   "cell_type": "code",
   "execution_count": 34,
   "metadata": {},
   "outputs": [
    {
     "name": "stdout",
     "output_type": "stream",
     "text": [
      "昨天晚上「他」被殺了,你要救他嗎?\n"
     ]
    },
    {
     "data": {
      "application/vnd.jupyter.widget-view+json": {
       "model_id": "233205c8bd0c44148749c7df2fd8426a",
       "version_major": 2,
       "version_minor": 0
      },
      "text/plain": [
       "interactive(children=(Dropdown(description='c', options=('Yes', 'No'), value='Yes'), Button(description='Run I…"
      ]
     },
     "metadata": {},
     "output_type": "display_data"
    }
   ],
   "source": [
    "def m(c):    \n",
    "    if c == \"Yes\":                                 ## 詢問要不要毒人Yes or No\n",
    "        print(\"好...女巫請閉眼\")\n",
    "    else:\n",
    "        print(\"你要使用毒藥嗎?\")                   ## 之後再放\n",
    "        \n",
    "\n",
    "def w_antidote():\n",
    "    print(\"昨天晚上「他」被殺了,你要救他嗎?\")       ## 被狼人殺的 之後再補入\n",
    "    interact_manual(m, c = [\"Yes\",\"No\"])\n",
    "\n",
    "w_antidote()    "
   ]
  },
  {
   "cell_type": "markdown",
   "metadata": {},
   "source": [
    "## 女巫系統:毒人和救人合在一起"
   ]
  },
  {
   "cell_type": "code",
   "execution_count": 35,
   "metadata": {},
   "outputs": [
    {
     "name": "stdout",
     "output_type": "stream",
     "text": [
      "昨天晚上「他」被殺了,你要救他嗎?\n"
     ]
    },
    {
     "data": {
      "application/vnd.jupyter.widget-view+json": {
       "model_id": "44942956e27947b2aa9989754417897f",
       "version_major": 2,
       "version_minor": 0
      },
      "text/plain": [
       "interactive(children=(Dropdown(description='c', options=('Yes', 'No'), value='Yes'), Button(description='Run I…"
      ]
     },
     "metadata": {},
     "output_type": "display_data"
    }
   ],
   "source": [
    "def m(c):    \n",
    "    if c == \"Yes\":\n",
    "        print(\"好...女巫請閉眼\")\n",
    "    else:                                           ## 如果他不要救的話,問他要不要用毒藥\n",
    "        w()\n",
    "\n",
    "def w_antidote():\n",
    "    print(\"昨天晚上「他」被殺了,你要救他嗎?\")        ## 一開始會先問要不要就\n",
    "    interact_manual(m, c = [\"Yes\",\"No\"])             ## 要救的話,解藥就用完了,一個晚上只能用一瓶\n",
    "\n",
    "w_antidote()    "
   ]
  },
  {
   "cell_type": "markdown",
   "metadata": {},
   "source": [
    "## 合起來"
   ]
  },
  {
   "cell_type": "markdown",
   "metadata": {},
   "source": [
    "## 女巫微調"
   ]
  },
  {
   "cell_type": "code",
   "execution_count": 45,
   "metadata": {},
   "outputs": [
    {
     "name": "stdout",
     "output_type": "stream",
     "text": [
      "女巫睜眼\n",
      "昨天晚上「他」被殺了,你要救他嗎?\n"
     ]
    },
    {
     "data": {
      "application/vnd.jupyter.widget-view+json": {
       "model_id": "2ca8cf34749d4e35a4718acfa1c05719",
       "version_major": 2,
       "version_minor": 0
      },
      "text/plain": [
       "interactive(children=(Dropdown(description='c', options=('Yes', 'No'), value='Yes'), Button(description='Run I…"
      ]
     },
     "metadata": {},
     "output_type": "display_data"
    }
   ],
   "source": [
    "print(\"女巫睜眼\")\n",
    "\n",
    "def k(c):\n",
    "    def w_poison(x):                               ##女巫毒人的系統            \n",
    "        print(\"女巫請閉眼\")\n",
    "                                                    ##\n",
    "        print(\"昨天晚上\"+x+\"死了\")\n",
    "        \n",
    "    \n",
    "    if c == \"Yes\":                                 ## 詢問要不要讀人Yes or No\n",
    "        print(\"你要毒誰?\")\n",
    "        interact_manual(w_poison, x = player)\n",
    "    else:\n",
    "        print(\"好...女巫請閉眼\")\n",
    "\n",
    "    \n",
    "def w():\n",
    "    print(\"你要使用毒藥嗎?\")\n",
    "    interact_manual(k, c = [\"Yes\",\"No\"])\n",
    "    \n",
    "def m(c):    \n",
    "    if c == \"Yes\":                                 ## 詢問要不要毒人Yes or No\n",
    "        print(\"好...女巫請閉眼\")\n",
    "    else:\n",
    "         w()                 ## 之後再放\n",
    "        \n",
    "\n",
    "def w_antidote():\n",
    "    print(\"昨天晚上「他」被殺了,你要救他嗎?\")       ## 被狼人殺的 之後再補入\n",
    "    interact_manual(m, c = [\"Yes\",\"No\"])\n",
    "\n",
    "w_antidote()  "
   ]
  },
  {
   "cell_type": "markdown",
   "metadata": {},
   "source": [
    "## 終極合在一起"
   ]
  },
  {
   "cell_type": "code",
   "execution_count": 61,
   "metadata": {
    "scrolled": true
   },
   "outputs": [
    {
     "name": "stdout",
     "output_type": "stream",
     "text": [
      "狼人現身請睜眼\n",
      "今晚狼人要殺誰?\n"
     ]
    },
    {
     "data": {
      "application/vnd.jupyter.widget-view+json": {
       "model_id": "6b983d04615b48219dd99268331ed717",
       "version_major": 2,
       "version_minor": 0
      },
      "text/plain": [
       "interactive(children=(Dropdown(description='x', options=('a', 'b', 'c', 'd', 'e', 'f', 'g'), value='a'), Butto…"
      ]
     },
     "metadata": {},
     "output_type": "display_data"
    }
   ],
   "source": [
    "##第二步\n",
    "def f(x):\n",
    "    print(\"狼人請閉眼\")\n",
    "    print(\"女巫請睜眼\")\n",
    "    \n",
    "    \n",
    "    ##女巫的最後一步驟\n",
    "    def w_poison(h):                               ##女巫毒人的系統            \n",
    "            print(\"女巫請閉眼\")\n",
    "            if (x ==h):                            ##如果死掉的是同一個人\n",
    "                print(\"昨天晚上\"+x+\"死了\")\n",
    "                print( \"(\"+x+\"的身分是\"+mydic[x]+\")\")\n",
    "            else:\n",
    "                print(\"昨天晚上\"+x+\"和\"+h+\"死了\")\n",
    "    def k(c):\n",
    "        \n",
    "        if c == \"Yes\":                              \n",
    "            print(\"你要毒誰?\")\n",
    "            interact_manual(w_poison, h = player)\n",
    "        else:\n",
    "            print(\"好...女巫請閉眼\")\n",
    "            print(\"昨天晚上\"+x+\"死了\")\n",
    "            print( \"(\"+x+\"的身分是\"+mydic[x]+\")\")\n",
    "    \n",
    "    \n",
    "\n",
    "    ##第三步:詢問要不要毒人\n",
    "    def w():\n",
    "        print(\"你要使用毒藥嗎?\")\n",
    "        interact_manual(k, c = [\"Yes\",\"No\"])           ## 詢問要不要毒人Yes or No\n",
    "    \n",
    "    ##第二步:詢問要不要救\n",
    "    def m(c):    \n",
    "        if c == \"Yes\":                                 \n",
    "            print(\"好...女巫請閉眼\")\n",
    "        else:\n",
    "             w()                 \n",
    "        \n",
    "    ##女巫第一步\n",
    "    def w_antidote():\n",
    "        print(\"昨天晚上\"+x+\"被殺了,你要救他嗎?\")       ## 詢問要不要救Yes or No      \n",
    "        interact_manual(m, c = [\"Yes\",\"No\"])\n",
    "\n",
    "    w_antidote()\n",
    "    \n",
    "    \n",
    "##第一步\n",
    "def wolf():\n",
    "    print(\"狼人現身請睜眼\")\n",
    "    print(\"今晚狼人要殺誰?\")\n",
    "    interact_manual(f, x = player)\n",
    "    \n",
    "            \n",
    "wolf()"
   ]
  },
  {
   "cell_type": "code",
   "execution_count": null,
   "metadata": {},
   "outputs": [],
   "source": []
  },
  {
   "cell_type": "code",
   "execution_count": null,
   "metadata": {},
   "outputs": [],
   "source": []
  },
  {
   "cell_type": "code",
   "execution_count": null,
   "metadata": {},
   "outputs": [],
   "source": []
  },
  {
   "cell_type": "code",
   "execution_count": null,
   "metadata": {},
   "outputs": [],
   "source": []
  },
  {
   "cell_type": "code",
   "execution_count": null,
   "metadata": {},
   "outputs": [],
   "source": []
  },
  {
   "cell_type": "code",
   "execution_count": null,
   "metadata": {},
   "outputs": [],
   "source": []
  },
  {
   "cell_type": "code",
   "execution_count": null,
   "metadata": {},
   "outputs": [],
   "source": []
  },
  {
   "cell_type": "code",
   "execution_count": 63,
   "metadata": {},
   "outputs": [
    {
     "name": "stdout",
     "output_type": "stream",
     "text": [
      "狼人現身請睜眼\n",
      "今晚狼人要殺誰?\n"
     ]
    },
    {
     "data": {
      "application/vnd.jupyter.widget-view+json": {
       "model_id": "7bb757ced1c44e789fc0839491637d16",
       "version_major": 2,
       "version_minor": 0
      },
      "text/plain": [
       "interactive(children=(Dropdown(description='x', options=('a', 'b', 'c', 'd', 'e', 'f', 'g'), value='a'), Butto…"
      ]
     },
     "metadata": {},
     "output_type": "display_data"
    }
   ],
   "source": [
    "##第二步\n",
    "def f(x):\n",
    "    print(\"狼人請閉眼\")\n",
    "    print(\"女巫請睜眼\")\n",
    "    \n",
    "    \n",
    "    ##女巫的最後一步驟\n",
    "    def w_poison(h):                               ##女巫毒人的系統            \n",
    "            print(\"女巫請閉眼\")\n",
    "            if (x ==h):                            ##如果死掉的是同一個人\n",
    "                print(\"昨天晚上\"+x+\"死了\")\n",
    "                print( \"(\"+x+\"的身分是\"+mydic[x]+\")\")\n",
    "            else:\n",
    "                print(\"昨天晚上\"+x+\"和\"+h+\"死了\")\n",
    "    def k(c):\n",
    "        \n",
    "        if c == \"Yes\":                              \n",
    "            print(\"你要毒誰?\")\n",
    "            interact_manual(w_poison, h = player)\n",
    "        else:\n",
    "            print(\"好...女巫請閉眼\")\n",
    "            print(\"昨天晚上\"+x+\"死了\")\n",
    "            print( \"(\"+x+\"的身分是\"+mydic[x]+\")\")\n",
    "    \n",
    "    \n",
    "\n",
    "    ##第三步:詢問要不要毒人\n",
    "    def w():\n",
    "        print(\"你要使用毒藥嗎?\")\n",
    "        interact_manual(k, c = [\"Yes\",\"No\"])           ## 詢問要不要毒人Yes or No\n",
    "    \n",
    "    ##第二步:詢問要不要救\n",
    "    def m(c):    \n",
    "        if c == \"Yes\":                                 \n",
    "            print(\"好...女巫請閉眼\")\n",
    "            print(\"昨晚是個平安夜~沒有人出局\")\n",
    "        else:\n",
    "             w()                 \n",
    "        \n",
    "    ##女巫第一步\n",
    "    def w_antidote():\n",
    "        print(\"昨天晚上\"+x+\"被殺了,你要救他嗎?\")       ## 詢問要不要救Yes or No      \n",
    "        interact_manual(m, c = [\"Yes\",\"No\"])\n",
    "\n",
    "    w_antidote()\n",
    "    \n",
    "    \n",
    "##第一步\n",
    "def wolf():\n",
    "    print(\"狼人現身請睜眼\")\n",
    "    print(\"今晚狼人要殺誰?\")\n",
    "    interact_manual(f, x = player)\n",
    "    \n",
    "            \n",
    "wolf()"
   ]
  },
  {
   "cell_type": "code",
   "execution_count": null,
   "metadata": {},
   "outputs": [],
   "source": []
  },
  {
   "cell_type": "code",
   "execution_count": null,
   "metadata": {},
   "outputs": [],
   "source": []
  },
  {
   "cell_type": "code",
   "execution_count": null,
   "metadata": {},
   "outputs": [],
   "source": []
  },
  {
   "cell_type": "code",
   "execution_count": null,
   "metadata": {},
   "outputs": [],
   "source": []
  },
  {
   "cell_type": "code",
   "execution_count": null,
   "metadata": {},
   "outputs": [],
   "source": []
  },
  {
   "cell_type": "code",
   "execution_count": null,
   "metadata": {},
   "outputs": [],
   "source": []
  },
  {
   "cell_type": "code",
   "execution_count": null,
   "metadata": {},
   "outputs": [],
   "source": []
  },
  {
   "cell_type": "code",
   "execution_count": null,
   "metadata": {},
   "outputs": [],
   "source": []
  },
  {
   "cell_type": "code",
   "execution_count": null,
   "metadata": {},
   "outputs": [],
   "source": []
  },
  {
   "cell_type": "code",
   "execution_count": null,
   "metadata": {},
   "outputs": [],
   "source": []
  },
  {
   "cell_type": "code",
   "execution_count": null,
   "metadata": {},
   "outputs": [],
   "source": []
  }
 ],
 "metadata": {
  "kernelspec": {
   "display_name": "Python 3",
   "language": "python",
   "name": "python3"
  },
  "language_info": {
   "codemirror_mode": {
    "name": "ipython",
    "version": 3
   },
   "file_extension": ".py",
   "mimetype": "text/x-python",
   "name": "python",
   "nbconvert_exporter": "python",
   "pygments_lexer": "ipython3",
   "version": "3.7.3"
  }
 },
 "nbformat": 4,
 "nbformat_minor": 2
}
