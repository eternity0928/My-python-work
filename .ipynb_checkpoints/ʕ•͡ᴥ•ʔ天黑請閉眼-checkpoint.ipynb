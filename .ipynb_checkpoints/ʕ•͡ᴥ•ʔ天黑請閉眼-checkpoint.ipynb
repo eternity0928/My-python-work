{
 "cells": [
  {
   "cell_type": "code",
   "execution_count": 1,
   "metadata": {},
   "outputs": [],
   "source": [
    "%matplotlib inline\n",
    "import numpy as np\n",
    "import pandas as pd\n",
    "import matplotlib.pyplot as plt"
   ]
  },
  {
   "cell_type": "markdown",
   "metadata": {},
   "source": [
    "# (1)雛形"
   ]
  },
  {
   "cell_type": "code",
   "execution_count": 8,
   "metadata": {},
   "outputs": [],
   "source": [
    "role = [\"平民\",\"狼\",\"預言家\"]"
   ]
  },
  {
   "cell_type": "code",
   "execution_count": 9,
   "metadata": {},
   "outputs": [
    {
     "name": "stdout",
     "output_type": "stream",
     "text": [
      "今晚要殺誰? >>平民\n"
     ]
    }
   ],
   "source": [
    "ham = input(\"今晚要殺誰? >>\")"
   ]
  },
  {
   "cell_type": "code",
   "execution_count": 10,
   "metadata": {},
   "outputs": [
    {
     "name": "stdout",
     "output_type": "stream",
     "text": [
      "平民\n"
     ]
    }
   ],
   "source": [
    "print(ham)"
   ]
  },
  {
   "cell_type": "code",
   "execution_count": 14,
   "metadata": {},
   "outputs": [],
   "source": [
    "def night():\n",
    "    ham = input(\"今晚要殺誰? >>\")\n",
    "    print(\" ʕ•̀ω•́ʔ : 昨天晚上{}死了\".format(ham) )"
   ]
  },
  {
   "cell_type": "code",
   "execution_count": 15,
   "metadata": {},
   "outputs": [
    {
     "name": "stdout",
     "output_type": "stream",
     "text": [
      "今晚要殺誰? >>平民\n",
      " ʕ•̀ω•́ʔ : 昨天晚上平民死了\n"
     ]
    }
   ],
   "source": [
    "night()"
   ]
  },
  {
   "cell_type": "markdown",
   "metadata": {},
   "source": [
    "# (2)interact"
   ]
  },
  {
   "cell_type": "code",
   "execution_count": 16,
   "metadata": {},
   "outputs": [],
   "source": [
    "from ipywidgets import interact"
   ]
  },
  {
   "cell_type": "code",
   "execution_count": 40,
   "metadata": {},
   "outputs": [
    {
     "name": "stdout",
     "output_type": "stream",
     "text": [
      "今晚要殺誰? >>狼\n",
      " ʕ•̀ω•́ʔ : 昨天晚上狼死了\n"
     ]
    }
   ],
   "source": [
    "def night():\n",
    "    ham = input(\"今晚要殺誰? >>\")\n",
    "    print(\" ʕ•̀ω•́ʔ : 昨天晚上{}死了\".format(ham) )\n",
    "night()    "
   ]
  },
  {
   "cell_type": "code",
   "execution_count": 47,
   "metadata": {},
   "outputs": [
    {
     "data": {
      "application/vnd.jupyter.widget-view+json": {
       "model_id": "8b698d87830a4c5ebb80cba4eb836d08",
       "version_major": 2,
       "version_minor": 0
      },
      "text/plain": [
       "interactive(children=(Dropdown(description='x', options=('平民', '狼', '預言家'), value='平民'), Button(description='R…"
      ]
     },
     "metadata": {},
     "output_type": "display_data"
    },
    {
     "data": {
      "text/plain": [
       "<function __main__.f(x)>"
      ]
     },
     "execution_count": 47,
     "metadata": {},
     "output_type": "execute_result"
    }
   ],
   "source": [
    "def f(x):\n",
    "    print(\"昨天晚上\"+x+\"死了\")\n",
    "interact_manual(f, x=[\"平民\", \"狼\", \"預言家\"])"
   ]
  },
  {
   "cell_type": "code",
   "execution_count": 19,
   "metadata": {},
   "outputs": [],
   "source": [
    "from ipywidgets import interact_manual"
   ]
  },
  {
   "cell_type": "code",
   "execution_count": 53,
   "metadata": {},
   "outputs": [
    {
     "name": "stdout",
     "output_type": "stream",
     "text": [
      "今晚你要殺誰?\n"
     ]
    },
    {
     "data": {
      "application/vnd.jupyter.widget-view+json": {
       "model_id": "afbda62a59784e57b73752aace5de1c6",
       "version_major": 2,
       "version_minor": 0
      },
      "text/plain": [
       "interactive(children=(Dropdown(description='x', options=('平民', '狼', '預言家'), value='平民'), Button(description='R…"
      ]
     },
     "metadata": {},
     "output_type": "display_data"
    }
   ],
   "source": [
    "def night():\n",
    "    print(\"今晚你要殺誰?\")\n",
    "    interact_manual(f, x=[\"平民\", \"狼\", \"預言家\"])\n",
    "night()    "
   ]
  },
  {
   "cell_type": "code",
   "execution_count": 59,
   "metadata": {},
   "outputs": [
    {
     "name": "stdout",
     "output_type": "stream",
     "text": [
      "今晚你要殺誰?\n"
     ]
    },
    {
     "data": {
      "application/vnd.jupyter.widget-view+json": {
       "model_id": "98007e3671874529a5c8c12314a9a801",
       "version_major": 2,
       "version_minor": 0
      },
      "text/plain": [
       "interactive(children=(Dropdown(description='x', options=('(1)', '(2)', '(3)'), value='(1)'), Button(descriptio…"
      ]
     },
     "metadata": {},
     "output_type": "display_data"
    }
   ],
   "source": [
    "def night():\n",
    "    print(\"今晚你要殺誰?\")\n",
    "    interact_manual(f, x=[\"(1)\", \"(2)\", \"(3)\"])\n",
    "night()    "
   ]
  },
  {
   "cell_type": "markdown",
   "metadata": {},
   "source": [
    "### 加入字典功能"
   ]
  },
  {
   "cell_type": "code",
   "execution_count": 65,
   "metadata": {},
   "outputs": [
    {
     "name": "stdout",
     "output_type": "stream",
     "text": [
      "天黑請閉眼,狼人現身請睜眼\n",
      "今晚狼人要殺誰?\n"
     ]
    },
    {
     "data": {
      "application/vnd.jupyter.widget-view+json": {
       "model_id": "7de847937f984b9491a0e036b553db90",
       "version_major": 2,
       "version_minor": 0
      },
      "text/plain": [
       "interactive(children=(Dropdown(description='x', options={'(1)': '小華', '(2)': '小明', '(3)': '阿花'}, value='小華'), …"
      ]
     },
     "metadata": {},
     "output_type": "display_data"
    }
   ],
   "source": [
    "def f(x):\n",
    "    print(\"狼人請閉眼,......天亮~\")\n",
    "    print(\"昨天晚上\"+x+\"死了\")\n",
    "    \n",
    "def night():\n",
    "    print(\"天黑請閉眼,狼人現身請睜眼\")\n",
    "    print(\"今晚狼人要殺誰?\")\n",
    "    interact_manual(f, x={\"(1)\":\"小華\", \"(2)\":\"小明\", \"(3)\":\"阿花\"})\n",
    "night()    "
   ]
  },
  {
   "cell_type": "markdown",
   "metadata": {},
   "source": [
    "# (3)角色系統"
   ]
  },
  {
   "cell_type": "code",
   "execution_count": 67,
   "metadata": {},
   "outputs": [],
   "source": [
    "import random"
   ]
  },
  {
   "cell_type": "code",
   "execution_count": 66,
   "metadata": {},
   "outputs": [],
   "source": [
    "role = [\"平民1\",\"平民2\",\"平民3\",\"預言家\",\"女巫\",\"狼人1\",\"狼人2\"]"
   ]
  },
  {
   "cell_type": "code",
   "execution_count": 73,
   "metadata": {},
   "outputs": [
    {
     "data": {
      "text/plain": [
       "['狼人2', '平民1', '女巫', '預言家', '預言家', '平民3', '預言家']"
      ]
     },
     "execution_count": 73,
     "metadata": {},
     "output_type": "execute_result"
    }
   ],
   "source": [
    "random.choices(role, k=7)"
   ]
  },
  {
   "cell_type": "code",
   "execution_count": 74,
   "metadata": {},
   "outputs": [],
   "source": [
    "player = [\"a\",\"b\",\"c\",\"d\",\"e\",\"f\",\"g\"]"
   ]
  },
  {
   "cell_type": "code",
   "execution_count": 75,
   "metadata": {},
   "outputs": [],
   "source": [
    "from numpy.random import choice"
   ]
  },
  {
   "cell_type": "code",
   "execution_count": 77,
   "metadata": {},
   "outputs": [],
   "source": [
    "char = choice(role,1)"
   ]
  },
  {
   "cell_type": "markdown",
   "metadata": {},
   "source": [
    "### random.sample 不重複抽出"
   ]
  },
  {
   "cell_type": "code",
   "execution_count": 96,
   "metadata": {},
   "outputs": [
    {
     "name": "stdout",
     "output_type": "stream",
     "text": [
      "['女巫', '平民3', '狼人1', '平民2', '預言家', '狼人2', '平民1']\n"
     ]
    }
   ],
   "source": [
    "char = random.sample(role, k=7)\n",
    "print(char)"
   ]
  },
  {
   "cell_type": "code",
   "execution_count": 97,
   "metadata": {},
   "outputs": [
    {
     "name": "stdout",
     "output_type": "stream",
     "text": [
      "預言家\n",
      "女巫\n",
      "平民3\n",
      "平民2\n",
      "狼人1\n",
      "狼人2\n",
      "平民1\n"
     ]
    }
   ],
   "source": [
    "char = random.sample(role, k=7)\n",
    "\n",
    "for s in range(7):\n",
    "    R = char[s]\n",
    "    print(R)"
   ]
  },
  {
   "cell_type": "markdown",
   "metadata": {},
   "source": [
    "### 以字串顯示"
   ]
  },
  {
   "cell_type": "code",
   "execution_count": 107,
   "metadata": {},
   "outputs": [
    {
     "name": "stdout",
     "output_type": "stream",
     "text": [
      "a 是 平民1\n",
      "b 是 平民3\n",
      "c 是 平民2\n",
      "d 是 狼人1\n",
      "e 是 狼人2\n",
      "f 是 女巫\n",
      "g 是 預言家\n"
     ]
    }
   ],
   "source": [
    "char = random.sample(role, k=7)\n",
    "\n",
    "for s in range(7):\n",
    "    print(player[s] + \" 是 \"+ char[s])\n",
    "    "
   ]
  },
  {
   "cell_type": "markdown",
   "metadata": {},
   "source": [
    "### 字典檔功能 : 用迴圈把每個玩家對應的角色記錄起來"
   ]
  },
  {
   "cell_type": "code",
   "execution_count": 111,
   "metadata": {},
   "outputs": [
    {
     "name": "stdout",
     "output_type": "stream",
     "text": [
      "{'a': '狼人2', 'b': '平民2', 'c': '預言家', 'd': '女巫', 'e': '平民1', 'f': '平民3', 'g': '狼人1'}\n"
     ]
    }
   ],
   "source": [
    "char = random.sample(role, k=7)\n",
    "\n",
    "mydic = {}\n",
    "for s in range(7):\n",
    "    dic2={player[s]:char[s]}\n",
    "    mydic.update(dic2)\n",
    "print(mydic)"
   ]
  },
  {
   "cell_type": "code",
   "execution_count": 149,
   "metadata": {},
   "outputs": [
    {
     "data": {
      "text/plain": [
       "['a', 'b', 'c', 'd', 'e', 'f', 'g']"
      ]
     },
     "execution_count": 149,
     "metadata": {},
     "output_type": "execute_result"
    }
   ],
   "source": [
    "player"
   ]
  },
  {
   "cell_type": "code",
   "execution_count": 123,
   "metadata": {},
   "outputs": [
    {
     "name": "stdout",
     "output_type": "stream",
     "text": [
      "天黑請閉眼,狼人現身請睜眼\n",
      "今晚狼人要殺誰?\n"
     ]
    },
    {
     "data": {
      "application/vnd.jupyter.widget-view+json": {
       "model_id": "690765cceac74c55a1062ff9be5207e7",
       "version_major": 2,
       "version_minor": 0
      },
      "text/plain": [
       "interactive(children=(Dropdown(description='x', options=('a', 'b', 'c', 'd', 'e', 'f', 'g'), value='a'), Butto…"
      ]
     },
     "metadata": {},
     "output_type": "display_data"
    }
   ],
   "source": [
    "def f(x):\n",
    "    print(\"狼人請閉眼,......天亮~\")\n",
    "    print(\"昨天晚上\"+x+\"死了\")\n",
    "    print( \"(\"+x+\"的身分是\"+mydic[x]+\")\")\n",
    "    \n",
    "def night():\n",
    "    print(\"天黑請閉眼,狼人現身請睜眼\")\n",
    "    print(\"今晚狼人要殺誰?\")\n",
    "    interact_manual(f, x = player)\n",
    "\n",
    "night()  "
   ]
  },
  {
   "cell_type": "markdown",
   "metadata": {},
   "source": [
    "# (4)預言家系統"
   ]
  },
  {
   "cell_type": "code",
   "execution_count": null,
   "metadata": {},
   "outputs": [],
   "source": [
    "print(\"今晚你要查驗身分的是\")"
   ]
  },
  {
   "cell_type": "code",
   "execution_count": 126,
   "metadata": {},
   "outputs": [
    {
     "name": "stdout",
     "output_type": "stream",
     "text": [
      "{'a': '狼人2', 'b': '平民2', 'c': '預言家', 'd': '女巫', 'e': '平民1', 'f': '平民3', 'g': '狼人1'}\n"
     ]
    }
   ],
   "source": [
    "print(mydic)"
   ]
  },
  {
   "cell_type": "markdown",
   "metadata": {},
   "source": [
    "### 預言家專用的選單"
   ]
  },
  {
   "cell_type": "markdown",
   "metadata": {},
   "source": [
    "### 做法1 :在決定角色的時候就先製作顛倒的mydic"
   ]
  },
  {
   "cell_type": "code",
   "execution_count": 130,
   "metadata": {},
   "outputs": [
    {
     "name": "stdout",
     "output_type": "stream",
     "text": [
      "{'a': '狼人2', 'b': '女巫', 'c': '平民1', 'd': '平民2', 'e': '預言家', 'f': '狼人1', 'g': '平民3'}\n",
      "{'狼人2': 'a', '女巫': 'b', '平民1': 'c', '平民2': 'd', '預言家': 'e', '狼人1': 'f', '平民3': 'g'}\n"
     ]
    }
   ],
   "source": [
    "char = random.sample(role, k=7)\n",
    "\n",
    "mydic = {}\n",
    "predict = {}\n",
    "for s in range(7):\n",
    "    dic2={player[s]:char[s]}\n",
    "    mydic.update(dic2)\n",
    "    dic3={char[s]:player[s]}\n",
    "    predict.update(dic3)             ###先把字典相反 才能把預言家篩掉\n",
    "print(mydic)\n",
    "print(predict)                       ###predict是相反的mydic"
   ]
  },
  {
   "cell_type": "code",
   "execution_count": 131,
   "metadata": {},
   "outputs": [
    {
     "name": "stdout",
     "output_type": "stream",
     "text": [
      "{'狼人2': 'a', '女巫': 'b', '平民1': 'c', '平民2': 'd', '狼人1': 'f', '平民3': 'g'}\n"
     ]
    }
   ],
   "source": [
    "del predict['預言家']\n",
    "print(predict)"
   ]
  },
  {
   "cell_type": "markdown",
   "metadata": {},
   "source": [
    "### 做法2:讓字典檔的keys和values交換"
   ]
  },
  {
   "cell_type": "code",
   "execution_count": 169,
   "metadata": {},
   "outputs": [
    {
     "name": "stdout",
     "output_type": "stream",
     "text": [
      "{'狼人2': 'a', '女巫': 'b', '平民1': 'c', '平民2': 'd', '狼人1': 'f', '平民3': 'g'}\n",
      "{'a': '狼人2', 'b': '女巫', 'c': '平民1', 'd': '平民2', 'f': '狼人1', 'g': '平民3'}\n"
     ]
    },
    {
     "data": {
      "text/plain": [
       "['a', 'b', 'c', 'd', 'f', 'g']"
      ]
     },
     "execution_count": 169,
     "metadata": {},
     "output_type": "execute_result"
    }
   ],
   "source": [
    "dict_ori = mydic\n",
    "dict_new = {value:key for key,value in dict_ori.items()}\n",
    "\n",
    "del dict_new['預言家']            ##刪掉預言家 因為他不會驗自己\n",
    "print(dict_new)\n",
    "\n",
    "predict = {value:key for key,value in dict_new.items()}  ## 刪完之後再轉回來\n",
    "print(predict)                                           ## predict是沒有預言家的mydic\n",
    "\n",
    "player_predict = list(predict.keys())\n",
    "player_predict"
   ]
  },
  {
   "cell_type": "markdown",
   "metadata": {},
   "source": [
    "## 預言家查驗身分"
   ]
  },
  {
   "cell_type": "code",
   "execution_count": 170,
   "metadata": {},
   "outputs": [
    {
     "name": "stdout",
     "output_type": "stream",
     "text": [
      "今晚你要查驗身分的是\n"
     ]
    },
    {
     "data": {
      "application/vnd.jupyter.widget-view+json": {
       "model_id": "ac094b2f630940fb952ef4008e758b80",
       "version_major": 2,
       "version_minor": 0
      },
      "text/plain": [
       "interactive(children=(Dropdown(description='n', options=('a', 'b', 'c', 'd', 'f', 'g'), value='a'), Button(des…"
      ]
     },
     "metadata": {},
     "output_type": "display_data"
    }
   ],
   "source": [
    "def g(n):\n",
    "    print(n + \"的身分是\" + predict[n])\n",
    "\n",
    "def prophet():\n",
    "    print(\"今晚你要查驗身分的是\")\n",
    "    interact_manual(g, n = player_predict)\n",
    "\n",
    "prophet()"
   ]
  },
  {
   "cell_type": "code",
   "execution_count": null,
   "metadata": {},
   "outputs": [],
   "source": []
  },
  {
   "cell_type": "code",
   "execution_count": null,
   "metadata": {},
   "outputs": [],
   "source": []
  },
  {
   "cell_type": "code",
   "execution_count": null,
   "metadata": {},
   "outputs": [],
   "source": []
  },
  {
   "cell_type": "code",
   "execution_count": null,
   "metadata": {},
   "outputs": [],
   "source": []
  },
  {
   "cell_type": "code",
   "execution_count": null,
   "metadata": {},
   "outputs": [],
   "source": []
  },
  {
   "cell_type": "code",
   "execution_count": null,
   "metadata": {},
   "outputs": [],
   "source": []
  },
  {
   "cell_type": "code",
   "execution_count": null,
   "metadata": {},
   "outputs": [],
   "source": []
  },
  {
   "cell_type": "code",
   "execution_count": null,
   "metadata": {},
   "outputs": [],
   "source": []
  },
  {
   "cell_type": "code",
   "execution_count": null,
   "metadata": {},
   "outputs": [],
   "source": []
  },
  {
   "cell_type": "code",
   "execution_count": null,
   "metadata": {},
   "outputs": [],
   "source": []
  },
  {
   "cell_type": "code",
   "execution_count": null,
   "metadata": {},
   "outputs": [],
   "source": []
  },
  {
   "cell_type": "code",
   "execution_count": null,
   "metadata": {},
   "outputs": [],
   "source": []
  },
  {
   "cell_type": "code",
   "execution_count": null,
   "metadata": {},
   "outputs": [],
   "source": []
  },
  {
   "cell_type": "code",
   "execution_count": null,
   "metadata": {},
   "outputs": [],
   "source": []
  }
 ],
 "metadata": {
  "kernelspec": {
   "display_name": "Python 3",
   "language": "python",
   "name": "python3"
  },
  "language_info": {
   "codemirror_mode": {
    "name": "ipython",
    "version": 3
   },
   "file_extension": ".py",
   "mimetype": "text/x-python",
   "name": "python",
   "nbconvert_exporter": "python",
   "pygments_lexer": "ipython3",
   "version": "3.7.3"
  }
 },
 "nbformat": 4,
 "nbformat_minor": 2
}
