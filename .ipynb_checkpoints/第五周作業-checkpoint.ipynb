{
 "cells": [
  {
   "cell_type": "code",
   "execution_count": 3,
   "metadata": {},
   "outputs": [],
   "source": [
    "%matplotlib inline\n",
    "import numpy as np\n",
    "import pandas as pd\n",
    "import matplotlib.pyplot as plt"
   ]
  },
  {
   "cell_type": "markdown",
   "metadata": {},
   "source": [
    "# (一)  倍數判斷"
   ]
  },
  {
   "cell_type": "code",
   "execution_count": 2,
   "metadata": {},
   "outputs": [
    {
     "name": "stdout",
     "output_type": "stream",
     "text": [
      "請輸入數字: 13\n"
     ]
    }
   ],
   "source": [
    "num = int(input(\"請輸入數字: \"))"
   ]
  },
  {
   "cell_type": "code",
   "execution_count": 4,
   "metadata": {},
   "outputs": [
    {
     "name": "stdout",
     "output_type": "stream",
     "text": [
      "請輸入數字: 18\n"
     ]
    },
    {
     "data": {
      "text/plain": [
       "False"
      ]
     },
     "execution_count": 4,
     "metadata": {},
     "output_type": "execute_result"
    }
   ],
   "source": [
    "num = int(input(\"請輸入數字: \"))\n",
    "def test(num):\n",
    "    return (num%7)==0\n",
    "test(num)"
   ]
  },
  {
   "cell_type": "code",
   "execution_count": 3,
   "metadata": {},
   "outputs": [
    {
     "name": "stdout",
     "output_type": "stream",
     "text": [
      "請輸入數字: 86\n",
      "86不是7的倍數\n"
     ]
    }
   ],
   "source": [
    "num = int(input(\"請輸入數字: \"))\n",
    "\n",
    "if (num%7) == 0:\n",
    "    print(\"{}是7的倍數\".format(num))\n",
    "else:\n",
    "    print(\"{}不是7的倍數\".format(num))"
   ]
  },
  {
   "cell_type": "code",
   "execution_count": 7,
   "metadata": {},
   "outputs": [
    {
     "name": "stdout",
     "output_type": "stream",
     "text": [
      "請輸入數字: 23,33,56\n"
     ]
    },
    {
     "data": {
      "text/plain": [
       "[56]"
      ]
     },
     "execution_count": 7,
     "metadata": {},
     "output_type": "execute_result"
    }
   ],
   "source": [
    "str_in = input(\"請輸入數字: \")\n",
    "num = [int(n) for n in str_in.split(',')]\n",
    "\n",
    "list(filter(lambda num:num%7==0,num))"
   ]
  },
  {
   "cell_type": "code",
   "execution_count": 8,
   "metadata": {},
   "outputs": [
    {
     "name": "stdout",
     "output_type": "stream",
     "text": [
      "我想要找的倍數: 7\n"
     ]
    }
   ],
   "source": [
    "times = int(input(\"我想要找的倍數: \"))"
   ]
  },
  {
   "cell_type": "code",
   "execution_count": 9,
   "metadata": {},
   "outputs": [
    {
     "name": "stdout",
     "output_type": "stream",
     "text": [
      "我想要找的倍數: 13\n",
      "請輸入數字: 12,98,64,51,23,42,126,894,731\n",
      "在您所輸入的數字之中,沒有任何一個數字是13的倍數\n"
     ]
    }
   ],
   "source": [
    "times = int(input(\"我想要找的倍數: \"))\n",
    "str_in = input(\"請輸入數字: \")\n",
    "num = [int(n) for n in str_in.split(',')]\n",
    "\n",
    "results = list(filter(lambda num:num%times==0,num))\n",
    "\n",
    "#將results變成數字並以逗點隔開\n",
    "Ya = list(map(lambda x:str(x),results))\n",
    "s = \",\".join(Ya)\n",
    "\n",
    "if results!= []:\n",
    "    print(\"在您所輸入的數字之中,{}是{}的倍數\".format(s, times))\n",
    "else:\n",
    "    print(\"在您所輸入的數字之中,沒有任何一個數字是{}的倍數\".format(times))"
   ]
  },
  {
   "cell_type": "markdown",
   "metadata": {},
   "source": [
    "# (二) 畫聖誕樹"
   ]
  },
  {
   "cell_type": "code",
   "execution_count": 10,
   "metadata": {},
   "outputs": [],
   "source": [
    "egg = \"(`・ω・´)\""
   ]
  },
  {
   "cell_type": "code",
   "execution_count": 11,
   "metadata": {},
   "outputs": [],
   "source": [
    "spam = f\"▓{egg:^20s}▓\""
   ]
  },
  {
   "cell_type": "code",
   "execution_count": 12,
   "metadata": {},
   "outputs": [
    {
     "name": "stdout",
     "output_type": "stream",
     "text": [
      "▓      (`・ω・´)       ▓\n"
     ]
    }
   ],
   "source": [
    "print(spam)"
   ]
  },
  {
   "cell_type": "code",
   "execution_count": 6,
   "metadata": {},
   "outputs": [],
   "source": [
    "level = range(11)"
   ]
  },
  {
   "cell_type": "code",
   "execution_count": 7,
   "metadata": {},
   "outputs": [
    {
     "name": "stdout",
     "output_type": "stream",
     "text": [
      "█◣\n",
      "██◣\n",
      "███◣\n",
      "████◣\n",
      "█████◣\n",
      "██████◣\n",
      "███████◣\n",
      "████████◣\n",
      "█████████◣\n",
      "██████████◣\n",
      "███████████◣\n"
     ]
    }
   ],
   "source": [
    "ham = \"＊\"\n",
    "\n",
    "for i in level:\n",
    "    print(\"█\"*(i+1) + \"◣\" )"
   ]
  },
  {
   "cell_type": "code",
   "execution_count": 9,
   "metadata": {},
   "outputs": [
    {
     "name": "stdout",
     "output_type": "stream",
     "text": [
      "                         ★\n",
      "                      ＊◢◣＊\n",
      "                     ＊◢█◣＊\n",
      "                    ＊◢██◣＊\n",
      "                   ＊◢███◣＊\n",
      "                  ＊◢████◣＊\n",
      "                 ＊◢█████◣＊\n",
      "                ＊◢██████◣＊\n",
      "               ＊◢███████◣＊\n",
      "              ＊◢████████◣＊\n",
      "             ＊◢█████████◣＊\n",
      "            ＊◢██████████◣＊\n",
      "                         █\n"
     ]
    }
   ],
   "source": [
    "print(\" \"*25 + \"★\")\n",
    "\n",
    "for i in level:\n",
    "    s = \"◢\" + \"█\"*i + \"◣\"\n",
    "    print( (\" \"*(22-i)) + f\"{ham:＊^1s}\" + s  + f\"{ham:＊^1s}\" )\n",
    "\n",
    "print(\" \"*25 + \"█\")\n"
   ]
  },
  {
   "cell_type": "markdown",
   "metadata": {},
   "source": [
    "# (三) 猜拳機器人\n",
    "### interact_manual"
   ]
  },
  {
   "cell_type": "code",
   "execution_count": 119,
   "metadata": {},
   "outputs": [],
   "source": [
    "me = [\"剪刀\",\"石頭\",\"布\"]"
   ]
  },
  {
   "cell_type": "code",
   "execution_count": 138,
   "metadata": {},
   "outputs": [
    {
     "data": {
      "text/plain": [
       "'布'"
      ]
     },
     "execution_count": 138,
     "metadata": {},
     "output_type": "execute_result"
    }
   ],
   "source": [
    "cpu = random.choice(me) \n",
    "cpu"
   ]
  },
  {
   "cell_type": "code",
   "execution_count": 127,
   "metadata": {},
   "outputs": [],
   "source": [
    "from ipywidgets import interact_manual"
   ]
  },
  {
   "cell_type": "code",
   "execution_count": 128,
   "metadata": {},
   "outputs": [],
   "source": [
    "from ipywidgets import interact"
   ]
  },
  {
   "cell_type": "code",
   "execution_count": 131,
   "metadata": {},
   "outputs": [
    {
     "data": {
      "application/vnd.jupyter.widget-view+json": {
       "model_id": "ae90e82e2de44ebcb024cd6746a8db6c",
       "version_major": 2,
       "version_minor": 0
      },
      "text/plain": [
       "interactive(children=(Dropdown(description='x', options=('剪刀', '布', '石頭'), value='剪刀'), Output()), _dom_classe…"
      ]
     },
     "metadata": {},
     "output_type": "display_data"
    },
    {
     "data": {
      "text/plain": [
       "<function __main__.f(x)>"
      ]
     },
     "execution_count": 131,
     "metadata": {},
     "output_type": "execute_result"
    }
   ],
   "source": [
    "def f(x):\n",
    "    print(x)\n",
    "interact(f,x={\"剪刀\",\"石頭\",\"布\"})"
   ]
  },
  {
   "cell_type": "code",
   "execution_count": 151,
   "metadata": {},
   "outputs": [
    {
     "data": {
      "application/vnd.jupyter.widget-view+json": {
       "model_id": "59c28210e6304396a5d07d2cdfaf942e",
       "version_major": 2,
       "version_minor": 0
      },
      "text/plain": [
       "interactive(children=(Dropdown(description='x', options=('剪刀', '布', '石頭'), value='剪刀'), Button(description='Ru…"
      ]
     },
     "metadata": {},
     "output_type": "display_data"
    },
    {
     "data": {
      "text/plain": [
       "<function __main__.f(x)>"
      ]
     },
     "execution_count": 151,
     "metadata": {},
     "output_type": "execute_result"
    }
   ],
   "source": [
    "def f(x):\n",
    "    print(x)\n",
    "    cpu = random.choice(me)\n",
    "    if x == cpu :\n",
    "        print(\"平手\")\n",
    "    elif x == \"石頭\" and cpu == \"剪刀\":\n",
    "        print(\"你贏了\")   \n",
    "    elif x == \"石頭\" and cpu == \"布\":\n",
    "        print(\"你輸了\") \n",
    "    elif x == \"布\" and cpu == \"石頭\":\n",
    "        print(\"你贏了\") \n",
    "    else:\n",
    "        print(\"你輸了\")\n",
    "    print(\"對手出的是{}\".format(cpu))    \n",
    "    \n",
    "interact_manual(f, x={\"剪刀\",\"石頭\",\"布\"})"
   ]
  },
  {
   "cell_type": "markdown",
   "metadata": {},
   "source": [
    "# (四) 找出高個子"
   ]
  },
  {
   "cell_type": "markdown",
   "metadata": {},
   "source": [
    "### 假設台灣成年男性的平均身高為173公分,標準差為6.7公分,那麼在隨機抽樣100位的男性之中,會有幾位的身高高於180公分呢?"
   ]
  },
  {
   "cell_type": "code",
   "execution_count": 16,
   "metadata": {},
   "outputs": [],
   "source": [
    "from numpy.random import randint"
   ]
  },
  {
   "cell_type": "code",
   "execution_count": 17,
   "metadata": {},
   "outputs": [],
   "source": [
    "from numpy import random "
   ]
  },
  {
   "cell_type": "code",
   "execution_count": 100,
   "metadata": {},
   "outputs": [
    {
     "data": {
      "text/plain": [
       "array([ 1.13350952e-01, -1.07276548e-01, -3.13429652e-01, -1.13041135e+00,\n",
       "       -4.71749498e-01, -8.31333860e-02, -2.62257138e-01, -5.01991840e-01,\n",
       "        2.35527251e-01,  7.60358539e-01,  1.21321188e+00, -6.39899727e-01,\n",
       "        1.53837889e-01, -5.59267104e-01,  1.34594968e+00, -6.90752991e-01,\n",
       "       -1.13318751e+00, -2.13743929e+00,  1.30809306e-01, -1.09510518e-01,\n",
       "       -7.13062966e-01, -1.49400402e+00,  6.02934312e-01,  7.43333269e-01,\n",
       "        3.71670654e-02, -6.53638854e-01,  6.77801397e-01, -2.55961821e-01,\n",
       "       -6.51547258e-01, -2.86989982e-01,  9.40984756e-01,  7.24350579e-02,\n",
       "        2.26631408e+00,  4.74676434e-01,  1.94336947e-03, -1.58432409e+00,\n",
       "       -3.31102617e-01,  3.98510786e-01,  5.74029826e-01, -6.79650597e-01,\n",
       "       -8.43465809e-01,  1.72630603e+00,  9.25276862e-01, -8.94820045e-01,\n",
       "       -3.13342782e-01,  1.63985151e+00, -1.18590243e+00, -7.64331657e-01,\n",
       "        1.41477179e+00, -8.61371735e-01, -5.67310262e-01,  1.06025047e+00,\n",
       "       -6.82489948e-01, -1.63928323e-02, -9.17244776e-01, -1.33786764e+00,\n",
       "       -1.33948124e+00,  1.39627148e+00, -4.11492974e-01,  5.01621756e-02,\n",
       "       -1.72719300e-01, -2.27628440e+00, -4.01716703e-01, -1.04131592e+00,\n",
       "        1.61949979e+00, -2.44584686e+00,  1.03542926e+00,  3.62432745e-01,\n",
       "        2.46072608e-01,  2.44424786e-01, -9.34185615e-01,  5.42165946e-01,\n",
       "        7.16981898e-01,  2.03707883e+00, -3.59724730e-02,  4.78218940e-01,\n",
       "        1.17853951e+00, -1.57351386e+00,  8.78755680e-02, -1.38821939e+00,\n",
       "        8.94460543e-01, -6.37361296e-01, -1.66241597e+00,  3.92765328e-01,\n",
       "        5.04430349e-01,  2.83595206e-01,  8.55706665e-01,  2.69173281e+00,\n",
       "        1.27894927e+00,  1.65790686e+00, -1.12107530e-01,  6.50094317e-03,\n",
       "        2.37228455e+00, -1.68724164e+00, -1.73614555e+00, -1.25872005e-02,\n",
       "        4.19789070e-01,  7.74278139e-01,  1.23967150e+00, -1.71851379e-01])"
      ]
     },
     "execution_count": 100,
     "metadata": {},
     "output_type": "execute_result"
    }
   ],
   "source": [
    "np.random.randn(100)"
   ]
  },
  {
   "cell_type": "code",
   "execution_count": 101,
   "metadata": {},
   "outputs": [
    {
     "name": "stdout",
     "output_type": "stream",
     "text": [
      "[171.16071959 188.69371164 170.4364164  175.38378933 186.84713799\n",
      " 165.35346587 187.97094802 174.68621133 174.37620048 178.06250014\n",
      " 175.07956865 177.65562539 169.94047851 177.65435624 159.65641697\n",
      " 181.85702201 172.81355555 171.76021071 170.54428921 168.49458162\n",
      " 168.07256516 174.47737544 172.24094086 176.33927205 186.70233788\n",
      " 176.0043626  176.12627653 171.00993728 174.87515157 181.21397701\n",
      " 178.91858852 164.04721564 168.17278002 169.18397328 171.57435456\n",
      " 172.62441407 172.43589728 166.41852916 186.23836272 178.85465024\n",
      " 173.76832209 165.8533683  180.5647484  173.23287815 172.1095629\n",
      " 168.47312248 160.05067432 168.68169591 164.7178702  165.24596369\n",
      " 166.64628989 164.86261854 178.94547265 168.18640537 180.54706089\n",
      " 186.16361568 184.83527484 165.74584197 167.9231689  179.55341094\n",
      " 164.01045381 160.37783833 179.72416454 173.42839218 163.30423938\n",
      " 170.46539083 159.18554435 166.53858705 175.68151061 178.46743511\n",
      " 188.47427391 172.81539904 173.12568492 169.83513322 178.87844742\n",
      " 183.53231328 170.55272994 171.13153397 173.51811261 173.9842908\n",
      " 174.93942504 180.75088493 161.96052919 167.24614566 173.38612126\n",
      " 169.72044321 175.7157782  168.00749394 166.35218733 173.37271028\n",
      " 166.81896708 175.96364529 175.40791597 166.41857253 168.39639277\n",
      " 178.75606111 180.43239076 175.62433493 170.94463953 167.88456744]\n"
     ]
    }
   ],
   "source": [
    "height = ((np.random.randn(100)*6.7)+173)\n",
    "print(height)"
   ]
  },
  {
   "cell_type": "code",
   "execution_count": 102,
   "metadata": {},
   "outputs": [
    {
     "data": {
      "text/plain": [
       "<map at 0x17270b222e8>"
      ]
     },
     "execution_count": 102,
     "metadata": {},
     "output_type": "execute_result"
    }
   ],
   "source": [
    "#取到小數後一位\n",
    "height = map(lambda x:round(x,1),height)\n",
    "height"
   ]
  },
  {
   "cell_type": "code",
   "execution_count": 152,
   "metadata": {},
   "outputs": [],
   "source": [
    "def tall(h):\n",
    "    return h >= 180"
   ]
  },
  {
   "cell_type": "markdown",
   "metadata": {},
   "source": [
    "### 利用filter"
   ]
  },
  {
   "cell_type": "code",
   "execution_count": 104,
   "metadata": {},
   "outputs": [],
   "source": [
    "tallguy =list( filter(tall,height) )"
   ]
  },
  {
   "cell_type": "code",
   "execution_count": 105,
   "metadata": {},
   "outputs": [
    {
     "data": {
      "text/plain": [
       "[188.7,\n",
       " 186.8,\n",
       " 188.0,\n",
       " 181.9,\n",
       " 186.7,\n",
       " 181.2,\n",
       " 186.2,\n",
       " 180.6,\n",
       " 180.5,\n",
       " 186.2,\n",
       " 184.8,\n",
       " 188.5,\n",
       " 183.5,\n",
       " 180.8,\n",
       " 180.4]"
      ]
     },
     "execution_count": 105,
     "metadata": {},
     "output_type": "execute_result"
    }
   ],
   "source": [
    "tallguy"
   ]
  },
  {
   "cell_type": "code",
   "execution_count": 106,
   "metadata": {},
   "outputs": [
    {
     "data": {
      "text/plain": [
       "15"
      ]
     },
     "execution_count": 106,
     "metadata": {},
     "output_type": "execute_result"
    }
   ],
   "source": [
    "len(tallguy)"
   ]
  },
  {
   "cell_type": "markdown",
   "metadata": {},
   "source": [
    "### 在本次抽樣之中,共有15位男性的身高高於180公分"
   ]
  },
  {
   "cell_type": "code",
   "execution_count": null,
   "metadata": {},
   "outputs": [],
   "source": []
  },
  {
   "cell_type": "code",
   "execution_count": null,
   "metadata": {},
   "outputs": [],
   "source": []
  },
  {
   "cell_type": "code",
   "execution_count": null,
   "metadata": {},
   "outputs": [],
   "source": []
  },
  {
   "cell_type": "code",
   "execution_count": null,
   "metadata": {},
   "outputs": [],
   "source": []
  },
  {
   "cell_type": "code",
   "execution_count": null,
   "metadata": {},
   "outputs": [],
   "source": []
  }
 ],
 "metadata": {
  "kernelspec": {
   "display_name": "Python 3",
   "language": "python",
   "name": "python3"
  },
  "language_info": {
   "codemirror_mode": {
    "name": "ipython",
    "version": 3
   },
   "file_extension": ".py",
   "mimetype": "text/x-python",
   "name": "python",
   "nbconvert_exporter": "python",
   "pygments_lexer": "ipython3",
   "version": "3.7.3"
  }
 },
 "nbformat": 4,
 "nbformat_minor": 2
}
