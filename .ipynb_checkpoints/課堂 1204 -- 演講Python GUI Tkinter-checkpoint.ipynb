{
 "cells": [
  {
   "cell_type": "code",
   "execution_count": 1,
   "metadata": {},
   "outputs": [],
   "source": [
    "%matplotlib inline\n",
    "import numpy as np\n",
    "import pandas as pd\n",
    "import matplotlib.pyplot as plt"
   ]
  },
  {
   "cell_type": "markdown",
   "metadata": {},
   "source": [
    "# 互動工具Plickers 和 Python GUI Tkinter"
   ]
  },
  {
   "cell_type": "code",
   "execution_count": 2,
   "metadata": {},
   "outputs": [],
   "source": [
    "import tkinter as tk"
   ]
  },
  {
   "cell_type": "code",
   "execution_count": 8,
   "metadata": {},
   "outputs": [],
   "source": [
    "window = tk.Tk()      # 建立一個視窗"
   ]
  },
  {
   "cell_type": "code",
   "execution_count": 9,
   "metadata": {},
   "outputs": [],
   "source": [
    "window.mainloop()     # 叫他出來  "
   ]
  },
  {
   "cell_type": "code",
   "execution_count": 20,
   "metadata": {},
   "outputs": [
    {
     "name": "stdout",
     "output_type": "stream",
     "text": [
      "{'bd': ('bd', '-borderwidth'), 'borderwidth': ('borderwidth', 'borderWidth', 'BorderWidth', <pixel object: '0'>, 0), 'class': ('class', 'class', 'Class', 'Toplevel', 'Tk'), 'menu': ('menu', 'menu', 'Menu', '', ''), 'relief': ('relief', 'relief', 'Relief', <index object: 'flat'>, 'flat'), 'screen': ('screen', 'screen', 'Screen', '', ''), 'use': ('use', 'use', 'Use', '', ''), 'background': ('background', 'background', 'Background', <border object: 'SystemButtonFace'>, 'antiquewhite'), 'bg': ('bg', '-background'), 'colormap': ('colormap', 'colormap', 'Colormap', '', ''), 'container': ('container', 'container', 'Container', 0, 0), 'cursor': ('cursor', 'cursor', 'Cursor', '', ''), 'height': ('height', 'height', 'Height', <pixel object: '0'>, 600), 'highlightbackground': ('highlightbackground', 'highlightBackground', 'HighlightBackground', <color object: 'SystemButtonFace'>, 'SystemButtonFace'), 'highlightcolor': ('highlightcolor', 'highlightColor', 'HighlightColor', <color object: 'SystemWindowFrame'>, 'SystemWindowFrame'), 'highlightthickness': ('highlightthickness', 'highlightThickness', 'HighlightThickness', <pixel object: '0'>, 0), 'padx': ('padx', 'padX', 'Pad', <pixel object: '0'>, <pixel object: '0'>), 'pady': ('pady', 'padY', 'Pad', <pixel object: '0'>, <pixel object: '0'>), 'takefocus': ('takefocus', 'takeFocus', 'TakeFocus', '0', '0'), 'visual': ('visual', 'visual', 'Visual', '', ''), 'width': ('width', 'width', 'Width', <pixel object: '0'>, 800)}\n"
     ]
    }
   ],
   "source": [
    "window = tk.Tk() \n",
    "window.title(\"嗨~我是視窗\")  #改變視窗的名稱\n",
    "window.config(background = 'antiquewhite', width = '800', height = '600')         ##顏色與長和寬\n",
    "print(window.config())       #只顯示我要的\n",
    "window.mainloop()"
   ]
  },
  {
   "cell_type": "markdown",
   "metadata": {},
   "source": [
    "### 變數 = widget(所屬視窗, 設定 = 值)"
   ]
  },
  {
   "cell_type": "code",
   "execution_count": 28,
   "metadata": {},
   "outputs": [],
   "source": [
    "window = tk.Tk()\n",
    "lbl = tk.Label(text = 'Hello', font = ('Times',100))##字體/字要多大\n",
    "lbl.pack()\n",
    "window.mainloop()"
   ]
  },
  {
   "cell_type": "code",
   "execution_count": null,
   "metadata": {},
   "outputs": [],
   "source": [
    "botton"
   ]
  },
  {
   "cell_type": "markdown",
   "metadata": {},
   "source": [
    "## .pack()排版控制"
   ]
  },
  {
   "cell_type": "code",
   "execution_count": 29,
   "metadata": {},
   "outputs": [],
   "source": [
    "def window_quit():                   ##先定義一個函數\n",
    "    window.destroy()                 ##這個函數的功能是把視窗關掉"
   ]
  },
  {
   "cell_type": "markdown",
   "metadata": {},
   "source": [
    "### 製作按鈕"
   ]
  },
  {
   "cell_type": "code",
   "execution_count": 32,
   "metadata": {},
   "outputs": [],
   "source": [
    "window = tk.Tk()\n",
    "lbl = tk.Label(text = 'Hello', font = ('Times',100))##字體/字要多大\n",
    "lbl.pack()\n",
    "\n",
    "btn = tk.Button(window, text = 'Close', command=window_quit)\n",
    "btn.pack()\n",
    "\n",
    "window.mainloop()"
   ]
  },
  {
   "cell_type": "code",
   "execution_count": 36,
   "metadata": {},
   "outputs": [],
   "source": [
    "def window_quit():                   ##先定義一個函數\n",
    "    #window.destroy()\n",
    "    lbl.config(text=\"Please don't go~~\")   ## 改成文字模式\n",
    "     \n",
    "\n",
    "window = tk.Tk()\n",
    "lbl = tk.Label(text = 'Hello', font = ('Times',100))##字體/字要多大\n",
    "lbl.pack()\n",
    "\n",
    "btn = tk.Button(window, text = 'Close', command=window_quit)\n",
    "btn.pack()\n",
    "\n",
    "window.mainloop()"
   ]
  },
  {
   "cell_type": "code",
   "execution_count": null,
   "metadata": {},
   "outputs": [],
   "source": [
    "## 取得輸入值 "
   ]
  },
  {
   "cell_type": "code",
   "execution_count": 60,
   "metadata": {},
   "outputs": [],
   "source": [
    "def window_quit():                   ##先定義一個函數\n",
    "    r = float(weightVar.get()) / (float( heightVar.get() )/100 )**2\n",
    "    result.config(text = r)\n",
    "    \n",
    "    \n",
    "window = tk.Tk()\n",
    "\n",
    "##結果的設置\n",
    "result = tk.Label(window,text = 'weight')\n",
    "result.pack()\n",
    "\n",
    "\n",
    "##體重\n",
    "\n",
    "frame = tk.Frame(window)             ##建一個容器\n",
    "frame.pack()\n",
    "\n",
    "weightVar = tk.StringVar()           ##建立變數\n",
    "weightVar.set(60)\n",
    "\n",
    "lbl = tk.Label(frame, text = 'weight')\n",
    "lbl.pack(side = 'left')\n",
    "\n",
    "entry = tk.Entry(frame, textvariable = weightVar)     ##呼應變數\n",
    "entry.pack(side = 'top')\n",
    "\n",
    "##身高\n",
    "\n",
    "frame2 = tk.Frame(window)\n",
    "frame2.pack()\n",
    "\n",
    "heightVar = tk.StringVar()\n",
    "\n",
    "lbl2 = tk.Label(frame2, text = 'height')\n",
    "lbl2.pack(side = 'left')\n",
    "\n",
    "entry2 = tk.Entry(frame2, textvariable = heightVar)     ##呼應變數\n",
    "entry2.pack(side = 'top')\n",
    "\n",
    "###\n",
    "\n",
    "btn = tk.Button(window, text = 'Go', command=window_quit)\n",
    "btn.pack(side = 'bottom')\n",
    "\n",
    "window.mainloop()"
   ]
  },
  {
   "cell_type": "code",
   "execution_count": null,
   "metadata": {},
   "outputs": [],
   "source": [
    "def window_quit():                   ##先定義一個函數\n",
    "    window.destroy()\n",
    "    \n",
    "window = tk.Tk()\n",
    "\n",
    "lbl = tk.Label(text = 'Hello', font = ('Times',100))##字體/字要多大\n",
    "lbl.pack()\n",
    "\n",
    "btn = tk.Button(window, text = 'Close', command=window_quit)\n",
    "btn.pack()\n",
    "\n",
    "window.mainloop()"
   ]
  },
  {
   "cell_type": "code",
   "execution_count": null,
   "metadata": {},
   "outputs": [],
   "source": []
  },
  {
   "cell_type": "code",
   "execution_count": null,
   "metadata": {},
   "outputs": [],
   "source": []
  },
  {
   "cell_type": "code",
   "execution_count": null,
   "metadata": {},
   "outputs": [],
   "source": []
  },
  {
   "cell_type": "code",
   "execution_count": null,
   "metadata": {},
   "outputs": [],
   "source": []
  },
  {
   "cell_type": "code",
   "execution_count": null,
   "metadata": {},
   "outputs": [],
   "source": []
  },
  {
   "cell_type": "code",
   "execution_count": null,
   "metadata": {},
   "outputs": [],
   "source": []
  },
  {
   "cell_type": "code",
   "execution_count": null,
   "metadata": {},
   "outputs": [],
   "source": []
  },
  {
   "cell_type": "code",
   "execution_count": null,
   "metadata": {},
   "outputs": [],
   "source": []
  },
  {
   "cell_type": "code",
   "execution_count": null,
   "metadata": {},
   "outputs": [],
   "source": []
  },
  {
   "cell_type": "code",
   "execution_count": null,
   "metadata": {},
   "outputs": [],
   "source": []
  },
  {
   "cell_type": "code",
   "execution_count": null,
   "metadata": {},
   "outputs": [],
   "source": []
  },
  {
   "cell_type": "code",
   "execution_count": null,
   "metadata": {},
   "outputs": [],
   "source": []
  },
  {
   "cell_type": "code",
   "execution_count": null,
   "metadata": {},
   "outputs": [],
   "source": []
  },
  {
   "cell_type": "code",
   "execution_count": null,
   "metadata": {},
   "outputs": [],
   "source": []
  },
  {
   "cell_type": "code",
   "execution_count": null,
   "metadata": {},
   "outputs": [],
   "source": []
  },
  {
   "cell_type": "code",
   "execution_count": null,
   "metadata": {},
   "outputs": [],
   "source": []
  },
  {
   "cell_type": "code",
   "execution_count": null,
   "metadata": {},
   "outputs": [],
   "source": []
  },
  {
   "cell_type": "code",
   "execution_count": null,
   "metadata": {},
   "outputs": [],
   "source": []
  },
  {
   "cell_type": "code",
   "execution_count": null,
   "metadata": {},
   "outputs": [],
   "source": []
  }
 ],
 "metadata": {
  "kernelspec": {
   "display_name": "Python 3",
   "language": "python",
   "name": "python3"
  },
  "language_info": {
   "codemirror_mode": {
    "name": "ipython",
    "version": 3
   },
   "file_extension": ".py",
   "mimetype": "text/x-python",
   "name": "python",
   "nbconvert_exporter": "python",
   "pygments_lexer": "ipython3",
   "version": "3.7.3"
  }
 },
 "nbformat": 4,
 "nbformat_minor": 2
}
