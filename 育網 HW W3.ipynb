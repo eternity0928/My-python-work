{
 "cells": [
  {
   "cell_type": "code",
   "execution_count": 1,
   "metadata": {},
   "outputs": [],
   "source": [
    "%matplotlib inline\n",
    "import numpy as np\n",
    "import pandas as pd\n",
    "import matplotlib.pyplot as plt"
   ]
  },
  {
   "cell_type": "code",
   "execution_count": 2,
   "metadata": {},
   "outputs": [],
   "source": [
    "grades = np.random.randint(100, size = [3,10,5]) #三個班 每班10人 每人5科"
   ]
  },
  {
   "cell_type": "code",
   "execution_count": 3,
   "metadata": {},
   "outputs": [
    {
     "name": "stdout",
     "output_type": "stream",
     "text": [
      "[[[70 85 19 66  2]\n",
      "  [ 6 35 46 29 35]\n",
      "  [86 52 22 59 48]\n",
      "  [78 13 95 20 13]\n",
      "  [19 85 34 94 51]\n",
      "  [33 95 69 83 22]\n",
      "  [88 54  5 10 99]\n",
      "  [93 79 57 18 92]\n",
      "  [ 4  6 45 20 14]\n",
      "  [ 1 88 75 78 71]]\n",
      "\n",
      " [[ 1 35 68 73 62]\n",
      "  [39 65 27  5 72]\n",
      "  [74 86 76 99 65]\n",
      "  [61 80 70 72  3]\n",
      "  [22 76 65 87 51]\n",
      "  [72 15 34  6 81]\n",
      "  [69 18 63 55 72]\n",
      "  [ 1 41  2 53 96]\n",
      "  [56 21 69 80  0]\n",
      "  [92 81 83 89 77]]\n",
      "\n",
      " [[47 37  5  2 13]\n",
      "  [32 48 61  4 16]\n",
      "  [73 66 65 24 93]\n",
      "  [96 40  3 76 11]\n",
      "  [42 82 90 30 70]\n",
      "  [29 91 76 59 59]\n",
      "  [ 9 49  4 32 99]\n",
      "  [58 89  2 27 62]\n",
      "  [30 71 24  3 94]\n",
      "  [36 32 40 49 45]]]\n"
     ]
    }
   ],
   "source": [
    "print(grades)"
   ]
  },
  {
   "cell_type": "code",
   "execution_count": 4,
   "metadata": {},
   "outputs": [],
   "source": [
    "weights = np.array([0.25, 0.25, 0.25, 0.15, 0.10])"
   ]
  },
  {
   "cell_type": "code",
   "execution_count": 5,
   "metadata": {},
   "outputs": [],
   "source": [
    "result = np.dot(grades,weights)"
   ]
  },
  {
   "cell_type": "code",
   "execution_count": 6,
   "metadata": {},
   "outputs": [
    {
     "name": "stdout",
     "output_type": "stream",
     "text": [
      "[[53.6  29.6  53.65 50.8  53.7  63.9  48.15 69.15 18.15 59.8 ]\n",
      " [43.15 40.7  80.35 63.85 58.9  39.25 52.95 28.55 48.5  85.05]\n",
      " [23.85 37.45 63.9  47.25 65.   63.75 30.2  47.5  41.1  38.85]]\n"
     ]
    }
   ],
   "source": [
    "print(result)"
   ]
  },
  {
   "cell_type": "code",
   "execution_count": null,
   "metadata": {},
   "outputs": [],
   "source": []
  },
  {
   "cell_type": "code",
   "execution_count": null,
   "metadata": {},
   "outputs": [],
   "source": []
  },
  {
   "cell_type": "code",
   "execution_count": null,
   "metadata": {},
   "outputs": [],
   "source": []
  }
 ],
 "metadata": {
  "kernelspec": {
   "display_name": "Python 3",
   "language": "python",
   "name": "python3"
  },
  "language_info": {
   "codemirror_mode": {
    "name": "ipython",
    "version": 3
   },
   "file_extension": ".py",
   "mimetype": "text/x-python",
   "name": "python",
   "nbconvert_exporter": "python",
   "pygments_lexer": "ipython3",
   "version": "3.7.3"
  }
 },
 "nbformat": 4,
 "nbformat_minor": 2
}
