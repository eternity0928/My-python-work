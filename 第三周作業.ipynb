{
 "cells": [
  {
   "cell_type": "code",
   "execution_count": 1,
   "metadata": {},
   "outputs": [],
   "source": [
    "%matplotlib inline\n",
    "import numpy as np\n",
    "import pandas as pd\n",
    "import matplotlib.pyplot as plt"
   ]
  },
  {
   "cell_type": "code",
   "execution_count": 2,
   "metadata": {},
   "outputs": [
    {
     "data": {
      "text/plain": [
       "[70, 48, 76, 56, 39, 62, 53]"
      ]
     },
     "execution_count": 2,
     "metadata": {},
     "output_type": "execute_result"
    }
   ],
   "source": [
    "grades = [70, 48 ,76, 56, 39, 62 ,53]\n",
    "grades"
   ]
  },
  {
   "cell_type": "code",
   "execution_count": 3,
   "metadata": {},
   "outputs": [],
   "source": [
    "def exchange(a):\n",
    "    return(int(np.sqrt(a)*10))"
   ]
  },
  {
   "cell_type": "code",
   "execution_count": 4,
   "metadata": {},
   "outputs": [
    {
     "name": "stdout",
     "output_type": "stream",
     "text": [
      "86\n"
     ]
    }
   ],
   "source": [
    "print(exchange(75))"
   ]
  },
  {
   "cell_type": "code",
   "execution_count": 5,
   "metadata": {},
   "outputs": [
    {
     "data": {
      "text/plain": [
       "[83, 69, 87, 74, 62, 78, 72]"
      ]
     },
     "execution_count": 5,
     "metadata": {},
     "output_type": "execute_result"
    }
   ],
   "source": [
    "list(map(exchange, grades))"
   ]
  },
  {
   "cell_type": "markdown",
   "metadata": {},
   "source": [
    "## 第一題"
   ]
  },
  {
   "cell_type": "code",
   "execution_count": 6,
   "metadata": {},
   "outputs": [],
   "source": [
    "import random"
   ]
  },
  {
   "cell_type": "code",
   "execution_count": 7,
   "metadata": {},
   "outputs": [
    {
     "name": "stdout",
     "output_type": "stream",
     "text": [
      "摩羯座的朋友下周都會吐出二氧化碳\n"
     ]
    }
   ],
   "source": [
    "#最準星座分析\n",
    "\n",
    "a = ['牡羊座', '金牛座', '雙子座', '巨蟹座', '獅子座', '處女座', '天秤座', '天蠍座', '射手座', '摩羯座', '水瓶座', '雙魚座']\n",
    "b = ['今天','明天','下周','在未來一個月','今年','過往人生中','本周','在上半年度','在下半年度','到年底之前','近期','每個假日']\n",
    "c = ['睡覺的時候都會閉上眼睛',\n",
    "     '可能會發生好事,可能沒有',\n",
    "     '肚子餓的時候會吃點東西,不然會很餓',\n",
    "     '洗澡時從來不穿衣服',\n",
    "     '熬夜時都會比較晚睡',\n",
    "     '煮泡麵的時候可能會需要加熱水',\n",
    "     '打報告的時候都會記得存檔',\n",
    "     '準備團體報告時,都不喜歡雷隊友',\n",
    "     '每過60秒,人生就會少掉一分鐘',\n",
    "     '都會吐出二氧化碳',\n",
    "     '外出的時候都會鎖門',\n",
    "     '煮完東西都有關瓦斯的必要',\n",
    "     '吃橘子的時候習慣剝皮再吃']\n",
    "\n",
    "C = random.choice(a)\n",
    "time = random.choice(b)\n",
    "things = random.choice(c)\n",
    "\n",
    "print( \"{}的朋友{}{}\".format(C, time, things) )"
   ]
  },
  {
   "cell_type": "markdown",
   "metadata": {},
   "source": [
    "## 第二題"
   ]
  },
  {
   "cell_type": "code",
   "execution_count": 8,
   "metadata": {},
   "outputs": [],
   "source": [
    "from ipywidgets import interact"
   ]
  },
  {
   "cell_type": "code",
   "execution_count": 9,
   "metadata": {},
   "outputs": [
    {
     "data": {
      "application/vnd.jupyter.widget-view+json": {
       "model_id": "7642c369707c4386b8475594ca44ac27",
       "version_major": 2,
       "version_minor": 0
      },
      "text/plain": [
       "interactive(children=(IntSlider(value=1, description='n', max=40, min=1), Output()), _dom_classes=('widget-int…"
      ]
     },
     "metadata": {},
     "output_type": "display_data"
    },
    {
     "data": {
      "text/plain": [
       "<function __main__.move(n=1)>"
      ]
     },
     "execution_count": 9,
     "metadata": {},
     "output_type": "execute_result"
    }
   ],
   "source": [
    "def move(n = 1):\n",
    "    print(\" \"*n + \"OuO\")\n",
    "interact(move, n = (1,40))    "
   ]
  },
  {
   "cell_type": "code",
   "execution_count": 10,
   "metadata": {},
   "outputs": [
    {
     "data": {
      "application/vnd.jupyter.widget-view+json": {
       "model_id": "12be779822064e6aa87f224fdc614153",
       "version_major": 2,
       "version_minor": 0
      },
      "text/plain": [
       "interactive(children=(IntSlider(value=1, description='n', max=40, min=1), Output()), _dom_classes=('widget-int…"
      ]
     },
     "metadata": {},
     "output_type": "display_data"
    },
    {
     "data": {
      "text/plain": [
       "<function __main__.move(n=1)>"
      ]
     },
     "execution_count": 10,
     "metadata": {},
     "output_type": "execute_result"
    }
   ],
   "source": [
    "def move(n = 1):\n",
    "    print( \" \"*n + \"@_@\" + \" \"*(40-n)+\" \"*(40-n) + \"OuO\")\n",
    "interact(move, n = (1,40))  "
   ]
  },
  {
   "cell_type": "code",
   "execution_count": 11,
   "metadata": {},
   "outputs": [
    {
     "data": {
      "application/vnd.jupyter.widget-view+json": {
       "model_id": "2a83ab18bdde490ab27f7b681b19cbdb",
       "version_major": 2,
       "version_minor": 0
      },
      "text/plain": [
       "interactive(children=(IntSlider(value=1, description='n', max=40, min=1), Output()), _dom_classes=('widget-int…"
      ]
     },
     "metadata": {},
     "output_type": "display_data"
    },
    {
     "data": {
      "text/plain": [
       "<function __main__.move(n=1)>"
      ]
     },
     "execution_count": 11,
     "metadata": {},
     "output_type": "execute_result"
    }
   ],
   "source": [
    "def move(n = 1):\n",
    "    print(\" \"*n + \"OuO\" + \" \"*n)\n",
    "interact(move, n = (1,40))  "
   ]
  },
  {
   "cell_type": "markdown",
   "metadata": {},
   "source": [
    "## 第三題"
   ]
  },
  {
   "cell_type": "code",
   "execution_count": 12,
   "metadata": {},
   "outputs": [
    {
     "name": "stdout",
     "output_type": "stream",
     "text": [
      "               1               \n",
      "              *1*              \n",
      "             **1**             \n",
      "            ***1***            \n",
      "           ****1****           \n",
      "          *****1*****          \n",
      "         ******1******         \n",
      "        *******1*******        \n",
      "       ********1********       \n",
      "      *********1*********      \n",
      "     **********1**********     \n",
      "    ***********1***********    \n",
      "   ************1************   \n",
      "  *************1*************  \n",
      " **************1************** \n"
     ]
    }
   ],
   "source": [
    "def tree(x):\n",
    "    for i in range(x):\n",
    "        print(\" \"*(x-i) + \"*\"*i + \"1\" + \"*\"*i + \" \"*(x-i)  )\n",
    "\n",
    "tree(15)"
   ]
  },
  {
   "cell_type": "code",
   "execution_count": 13,
   "metadata": {},
   "outputs": [
    {
     "name": "stdout",
     "output_type": "stream",
     "text": [
      "    *\n",
      "   * *   \n",
      "  *   *  \n",
      " *     * \n",
      "*       *\n",
      " *     *\n",
      "  *   *\n",
      "   * *\n",
      "    *\n"
     ]
    }
   ],
   "source": [
    "def diamond(x):\n",
    "    print(\" \"*(x+1) + \"*\")\n",
    "    for i in range(x):\n",
    "        print(\" \"*(x-i) + \"*\" + \" \"*(2*i+1) + \"*\" + \" \"*(x-i)  )\n",
    "    print(\"*\" + \" \"*(2*x+1) + \"*\")\n",
    "    for i in range(x):\n",
    "        print(\" \"*(i+1) + \"*\" + \" \"*(2*(x-i)-1) + \"*\" )\n",
    "    print(\" \"*(x+1) + \"*\")\n",
    "\n",
    "diamond(3)"
   ]
  },
  {
   "cell_type": "markdown",
   "metadata": {},
   "source": [
    "## 第四題"
   ]
  },
  {
   "cell_type": "code",
   "execution_count": 38,
   "metadata": {},
   "outputs": [
    {
     "name": "stdout",
     "output_type": "stream",
     "text": [
      "[[[18 92 22 15 95]\n",
      "  [41 59 17 74 45]\n",
      "  [45 71 78 43  7]\n",
      "  [47 58 46 52 34]\n",
      "  [86 98 33 27 48]\n",
      "  [17 69 12 13 55]\n",
      "  [52 27 42 33 43]\n",
      "  [34 94 32 18 30]\n",
      "  [99 53 16 44 89]\n",
      "  [29 21 86 73  1]]\n",
      "\n",
      " [[13 32 66  9 17]\n",
      "  [57 59 72 97  2]\n",
      "  [33 15 71 29 13]\n",
      "  [53 87 81 83 95]\n",
      "  [97  1 26 44 42]\n",
      "  [24 81 73 13 69]\n",
      "  [48 91 71 66 68]\n",
      "  [95 26 19 14 34]\n",
      "  [27 33 39  4 63]\n",
      "  [11 10 71 86 17]]\n",
      "\n",
      " [[ 1 18 70 68 13]\n",
      "  [13 43 46 17 39]\n",
      "  [91 81 98  3 60]\n",
      "  [21 68 92 65 32]\n",
      "  [59 41 87 60 14]\n",
      "  [ 7 51 25 83 49]\n",
      "  [28 68 17 31 99]\n",
      "  [ 6 41 11 13 81]\n",
      "  [22 45 66 38 86]\n",
      "  [40 78 97 92 15]]]\n"
     ]
    }
   ],
   "source": [
    "grades = np.random.randint(100, size = [3,10,5]) #三個班 每班10人 每人5科\n",
    "print(grades)"
   ]
  },
  {
   "cell_type": "code",
   "execution_count": 36,
   "metadata": {},
   "outputs": [],
   "source": [
    "weights = np.array([0.25, 0.25, 0.25, 0.15, 0.10])"
   ]
  },
  {
   "cell_type": "code",
   "execution_count": 40,
   "metadata": {},
   "outputs": [],
   "source": [
    "result = np.dot(grades,weights)"
   ]
  },
  {
   "cell_type": "code",
   "execution_count": 41,
   "metadata": {},
   "outputs": [
    {
     "name": "stdout",
     "output_type": "stream",
     "text": [
      "[[44.75 44.85 55.65 48.95 63.1  31.95 39.5  45.7  57.5  45.05]\n",
      " [30.8  61.75 35.4  77.2  41.8  53.35 69.2  40.5  31.65 37.6 ]\n",
      " [33.75 31.95 73.95 58.2  57.15 38.1  42.8  24.55 47.55 69.05]]\n"
     ]
    }
   ],
   "source": [
    "print(result)"
   ]
  },
  {
   "cell_type": "code",
   "execution_count": null,
   "metadata": {},
   "outputs": [],
   "source": []
  },
  {
   "cell_type": "code",
   "execution_count": null,
   "metadata": {},
   "outputs": [],
   "source": []
  },
  {
   "cell_type": "code",
   "execution_count": null,
   "metadata": {},
   "outputs": [],
   "source": []
  },
  {
   "cell_type": "code",
   "execution_count": null,
   "metadata": {},
   "outputs": [],
   "source": []
  }
 ],
 "metadata": {
  "kernelspec": {
   "display_name": "Python 3",
   "language": "python",
   "name": "python3"
  },
  "language_info": {
   "codemirror_mode": {
    "name": "ipython",
    "version": 3
   },
   "file_extension": ".py",
   "mimetype": "text/x-python",
   "name": "python",
   "nbconvert_exporter": "python",
   "pygments_lexer": "ipython3",
   "version": "3.7.3"
  }
 },
 "nbformat": 4,
 "nbformat_minor": 2
}
