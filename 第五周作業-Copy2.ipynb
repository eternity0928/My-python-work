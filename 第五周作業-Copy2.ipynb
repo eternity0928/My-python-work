{
 "cells": [
  {
   "cell_type": "code",
   "execution_count": 94,
   "metadata": {},
   "outputs": [],
   "source": [
    "%matplotlib inline\n",
    "import numpy as np\n",
    "import pandas as pd\n",
    "import matplotlib.pyplot as plt"
   ]
  },
  {
   "cell_type": "markdown",
   "metadata": {},
   "source": [
    "# (一)  倍數判斷"
   ]
  },
  {
   "cell_type": "code",
   "execution_count": 95,
   "metadata": {},
   "outputs": [
    {
     "name": "stdout",
     "output_type": "stream",
     "text": [
      "請輸入數字: 5\n"
     ]
    }
   ],
   "source": [
    "num = int(input(\"請輸入數字: \"))"
   ]
  },
  {
   "cell_type": "code",
   "execution_count": 96,
   "metadata": {},
   "outputs": [
    {
     "name": "stdout",
     "output_type": "stream",
     "text": [
      "請輸入數字: 6\n",
      "6不是7的倍數\n"
     ]
    }
   ],
   "source": [
    "num = int(input(\"請輸入數字: \"))\n",
    "\n",
    "if (num%7) == 0:\n",
    "    print(\"{}是7的倍數\".format(num))\n",
    "else:\n",
    "    print(\"{}不是7的倍數\".format(num))"
   ]
  },
  {
   "cell_type": "code",
   "execution_count": 97,
   "metadata": {},
   "outputs": [
    {
     "name": "stdout",
     "output_type": "stream",
     "text": [
      "請輸入數字: 45\n"
     ]
    },
    {
     "data": {
      "text/plain": [
       "False"
      ]
     },
     "execution_count": 97,
     "metadata": {},
     "output_type": "execute_result"
    }
   ],
   "source": [
    "num = int(input(\"請輸入數字: \"))\n",
    "def test(num):\n",
    "    return (num%7)==0\n",
    "test(num)"
   ]
  },
  {
   "cell_type": "code",
   "execution_count": 98,
   "metadata": {},
   "outputs": [
    {
     "name": "stdout",
     "output_type": "stream",
     "text": [
      "請輸入數字: 56\n"
     ]
    }
   ],
   "source": [
    "str_in = input(\"請輸入數字: \")\n",
    "num = [int(n) for n in str_in.split(',')]"
   ]
  },
  {
   "cell_type": "code",
   "execution_count": 99,
   "metadata": {},
   "outputs": [
    {
     "name": "stdout",
     "output_type": "stream",
     "text": [
      "請輸入數字: 89\n",
      "[89]\n"
     ]
    }
   ],
   "source": [
    "str_in = input(\"請輸入數字: \")\n",
    "num = [int(n) for n in str_in.split(',')]\n",
    "print(num)"
   ]
  },
  {
   "cell_type": "code",
   "execution_count": 100,
   "metadata": {},
   "outputs": [
    {
     "name": "stdout",
     "output_type": "stream",
     "text": [
      "請輸入數字: 45\n"
     ]
    },
    {
     "data": {
      "text/plain": [
       "[]"
      ]
     },
     "execution_count": 100,
     "metadata": {},
     "output_type": "execute_result"
    }
   ],
   "source": [
    "str_in = input(\"請輸入數字: \")\n",
    "num = [int(n) for n in str_in.split(',')]\n",
    "\n",
    "list(filter(lambda num:num%7==0,num))"
   ]
  },
  {
   "cell_type": "code",
   "execution_count": 101,
   "metadata": {},
   "outputs": [
    {
     "name": "stdout",
     "output_type": "stream",
     "text": [
      "我想要找的倍數: 12\n"
     ]
    }
   ],
   "source": [
    "times = int(input(\"我想要找的倍數: \"))"
   ]
  },
  {
   "cell_type": "code",
   "execution_count": 102,
   "metadata": {},
   "outputs": [
    {
     "name": "stdout",
     "output_type": "stream",
     "text": [
      "我想要找的倍數: 3\n",
      "請輸入數字: 6\n",
      "在您所輸入的數字之中,6是3的倍數\n"
     ]
    }
   ],
   "source": [
    "times = int(input(\"我想要找的倍數: \"))\n",
    "str_in = input(\"請輸入數字: \")\n",
    "num = [int(n) for n in str_in.split(',')]\n",
    "\n",
    "results = list(filter(lambda num:num%times==0,num))\n",
    "\n",
    "#將results變成數字並以逗點隔開\n",
    "Ya = list(map(lambda x:str(x),results))\n",
    "s = \",\".join(Ya)\n",
    "\n",
    "if results!= []:\n",
    "    print(\"在您所輸入的數字之中,{}是{}的倍數\".format(s, times))\n",
    "else:\n",
    "    print(\"在您所輸入的數字之中,沒有任何一個數字是{}的倍數\".format(times))"
   ]
  },
  {
   "cell_type": "markdown",
   "metadata": {},
   "source": [
    "# (二) 畫聖誕樹"
   ]
  },
  {
   "cell_type": "code",
   "execution_count": 103,
   "metadata": {},
   "outputs": [],
   "source": [
    "egg = \"(`・ω・´)\""
   ]
  },
  {
   "cell_type": "code",
   "execution_count": 104,
   "metadata": {},
   "outputs": [],
   "source": [
    "spam = f\"▓{egg:^20s}▓\""
   ]
  },
  {
   "cell_type": "code",
   "execution_count": 105,
   "metadata": {},
   "outputs": [
    {
     "name": "stdout",
     "output_type": "stream",
     "text": [
      "▓      (`・ω・´)       ▓\n"
     ]
    }
   ],
   "source": [
    "print(spam)"
   ]
  },
  {
   "cell_type": "code",
   "execution_count": 106,
   "metadata": {},
   "outputs": [],
   "source": [
    "from ipywidgets import interact "
   ]
  },
  {
   "cell_type": "code",
   "execution_count": 107,
   "metadata": {},
   "outputs": [],
   "source": [
    "level = range(0,11)"
   ]
  },
  {
   "cell_type": "code",
   "execution_count": 108,
   "metadata": {},
   "outputs": [
    {
     "name": "stdout",
     "output_type": "stream",
     "text": [
      "█◣\n",
      "██◣\n",
      "███◣\n",
      "████◣\n",
      "█████◣\n",
      "██████◣\n",
      "███████◣\n",
      "████████◣\n",
      "█████████◣\n",
      "██████████◣\n",
      "███████████◣\n"
     ]
    }
   ],
   "source": [
    "ham = \"＊\"\n",
    "\n",
    "for i in level:\n",
    "    print(\"█\"*(i+1) + \"◣\" )"
   ]
  },
  {
   "cell_type": "code",
   "execution_count": 109,
   "metadata": {},
   "outputs": [
    {
     "name": "stdout",
     "output_type": "stream",
     "text": [
      "                         ★\n",
      "                      ＊◢◣＊\n",
      "                     ＊◢█◣＊\n",
      "                    ＊◢██◣＊\n",
      "                   ＊◢███◣＊\n",
      "                  ＊◢████◣＊\n",
      "                 ＊◢█████◣＊\n",
      "                ＊◢██████◣＊\n",
      "               ＊◢███████◣＊\n",
      "              ＊◢████████◣＊\n",
      "             ＊◢█████████◣＊\n",
      "            ＊◢██████████◣＊\n",
      "                         █\n"
     ]
    }
   ],
   "source": [
    "print(\" \"*25 + \"★\")\n",
    "\n",
    "for i in level:\n",
    "    s = \"◢\" + \"█\"*i + \"◣\"\n",
    "    print( (\" \"*(22-i)) + f\"{ham:＊^1s}\" + s  + f\"{ham:＊^1s}\" )\n",
    "\n",
    "print(\" \"*25 + \"█\")\n"
   ]
  },
  {
   "cell_type": "markdown",
   "metadata": {},
   "source": [
    "# (三)"
   ]
  },
  {
   "cell_type": "code",
   "execution_count": 126,
   "metadata": {},
   "outputs": [],
   "source": [
    "from numpy.random import randint"
   ]
  },
  {
   "cell_type": "code",
   "execution_count": 128,
   "metadata": {},
   "outputs": [],
   "source": [
    "from numpy import random "
   ]
  },
  {
   "cell_type": "code",
   "execution_count": 115,
   "metadata": {},
   "outputs": [
    {
     "data": {
      "text/plain": [
       "1"
      ]
     },
     "execution_count": 115,
     "metadata": {},
     "output_type": "execute_result"
    }
   ],
   "source": [
    "randint(1,39)"
   ]
  },
  {
   "cell_type": "code",
   "execution_count": 185,
   "metadata": {},
   "outputs": [],
   "source": [
    "n = randint(1,39,5)"
   ]
  },
  {
   "cell_type": "code",
   "execution_count": null,
   "metadata": {},
   "outputs": [],
   "source": []
  },
  {
   "cell_type": "code",
   "execution_count": 179,
   "metadata": {},
   "outputs": [
    {
     "name": "stdout",
     "output_type": "stream",
     "text": [
      "18,19,34,38,13\n"
     ]
    }
   ],
   "source": [
    "a = list(map(lambda x:str(x),n))\n",
    "s = \",\".join(a)\n",
    "print(s)"
   ]
  },
  {
   "cell_type": "code",
   "execution_count": 180,
   "metadata": {},
   "outputs": [
    {
     "name": "stdout",
     "output_type": "stream",
     "text": [
      "18,19,34,38,13\n"
     ]
    }
   ],
   "source": [
    "spam = \n",
    "print(spam)"
   ]
  },
  {
   "cell_type": "code",
   "execution_count": 187,
   "metadata": {},
   "outputs": [
    {
     "name": "stdout",
     "output_type": "stream",
     "text": [
      "請輸入您的抽獎號碼:5\n",
      "005\n"
     ]
    }
   ],
   "source": [
    "lottery = input(\"請輸入您的抽獎號碼:\")\n",
    "lottery = lottery.zfill(3) \n",
    "print(lottery)"
   ]
  },
  {
   "cell_type": "code",
   "execution_count": 190,
   "metadata": {},
   "outputs": [
    {
     "name": "stdout",
     "output_type": "stream",
     "text": [
      "請輸入您的抽獎號碼:5,2\n",
      "<map object at 0x00000270AB4AB6A0>\n"
     ]
    }
   ],
   "source": [
    "lottery = input(\"請輸入您的抽獎號碼:\")\n",
    "lottery = map(lambda x:x.zfill(3),lottery)\n",
    "print(lottery)"
   ]
  },
  {
   "cell_type": "code",
   "execution_count": null,
   "metadata": {},
   "outputs": [],
   "source": []
  },
  {
   "cell_type": "code",
   "execution_count": null,
   "metadata": {},
   "outputs": [],
   "source": []
  },
  {
   "cell_type": "code",
   "execution_count": null,
   "metadata": {},
   "outputs": [],
   "source": []
  },
  {
   "cell_type": "code",
   "execution_count": null,
   "metadata": {},
   "outputs": [],
   "source": []
  },
  {
   "cell_type": "code",
   "execution_count": null,
   "metadata": {},
   "outputs": [],
   "source": []
  },
  {
   "cell_type": "code",
   "execution_count": null,
   "metadata": {},
   "outputs": [],
   "source": []
  },
  {
   "cell_type": "code",
   "execution_count": null,
   "metadata": {},
   "outputs": [],
   "source": []
  },
  {
   "cell_type": "code",
   "execution_count": null,
   "metadata": {},
   "outputs": [],
   "source": []
  },
  {
   "cell_type": "code",
   "execution_count": null,
   "metadata": {},
   "outputs": [],
   "source": []
  },
  {
   "cell_type": "code",
   "execution_count": null,
   "metadata": {},
   "outputs": [],
   "source": []
  },
  {
   "cell_type": "code",
   "execution_count": null,
   "metadata": {},
   "outputs": [],
   "source": []
  },
  {
   "cell_type": "code",
   "execution_count": null,
   "metadata": {},
   "outputs": [],
   "source": []
  },
  {
   "cell_type": "code",
   "execution_count": null,
   "metadata": {},
   "outputs": [],
   "source": []
  },
  {
   "cell_type": "code",
   "execution_count": null,
   "metadata": {},
   "outputs": [],
   "source": []
  }
 ],
 "metadata": {
  "kernelspec": {
   "display_name": "Python 3",
   "language": "python",
   "name": "python3"
  },
  "language_info": {
   "codemirror_mode": {
    "name": "ipython",
    "version": 3
   },
   "file_extension": ".py",
   "mimetype": "text/x-python",
   "name": "python",
   "nbconvert_exporter": "python",
   "pygments_lexer": "ipython3",
   "version": "3.7.3"
  }
 },
 "nbformat": 4,
 "nbformat_minor": 2
}
